{
 "cells": [
  {
   "cell_type": "code",
   "execution_count": 1,
   "metadata": {},
   "outputs": [],
   "source": [
    "import pandas as pd\n",
    "# Load all datasets\n",
    "sales = pd.read_csv('../../data/processed/sales_processed.csv')\n",
    "products = pd.read_csv('../../data/processed/products_processed.csv')\n",
    "cities = pd.read_csv('../../data/processed/city_processed.csv')\n",
    "competitor = pd.read_csv('../../data/processed/competitors_processed.csv')\n",
    "market_influence = pd.read_csv('../../data/processed/market_influencers_processed.csv')\n",
    "customers = pd.read_csv('../../data/processed/consumer_behavior_processed.csv')"
   ]
  },
  {
   "cell_type": "code",
   "execution_count": null,
   "metadata": {},
   "outputs": [],
   "source": []
  }
 ],
 "metadata": {
  "kernelspec": {
   "display_name": ".venv",
   "language": "python",
   "name": "python3"
  },
  "language_info": {
   "codemirror_mode": {
    "name": "ipython",
    "version": 3
   },
   "file_extension": ".py",
   "mimetype": "text/x-python",
   "name": "python",
   "nbconvert_exporter": "python",
   "pygments_lexer": "ipython3",
   "version": "3.10.6"
  }
 },
 "nbformat": 4,
 "nbformat_minor": 2
}
