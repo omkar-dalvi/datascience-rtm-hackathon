{
 "cells": [
  {
   "cell_type": "code",
   "execution_count": 4,
   "metadata": {},
   "outputs": [
    {
     "data": {
      "text/html": [
       "\n",
       "        <div>\n",
       "            <ins><a href=\"https://ydata.ai/register\">Upgrade to ydata-sdk</a></ins>\n",
       "            <p>\n",
       "                Improve your data and profiling with ydata-sdk, featuring data quality scoring, redundancy detection, outlier identification, text validation, and synthetic data generation.\n",
       "            </p>\n",
       "        </div>\n",
       "        "
      ],
      "text/plain": [
       "<IPython.core.display.HTML object>"
      ]
     },
     "metadata": {},
     "output_type": "display_data"
    }
   ],
   "source": [
    "import pandas as pd\n",
    "from ydata_profiling import ProfileReport"
   ]
  },
  {
   "cell_type": "code",
   "execution_count": 7,
   "metadata": {},
   "outputs": [],
   "source": [
    "marketing_df = pd.read_csv(\"../../data/intermediate_data/marketing_city.csv\")"
   ]
  },
  {
   "cell_type": "code",
   "execution_count": 10,
   "metadata": {},
   "outputs": [
    {
     "data": {
      "application/vnd.jupyter.widget-view+json": {
       "model_id": "6bb5fb5909b8477c86d9e4b11eddffa8",
       "version_major": 2,
       "version_minor": 0
      },
      "text/plain": [
       "Summarize dataset:   0%|          | 0/5 [00:00<?, ?it/s]"
      ]
     },
     "metadata": {},
     "output_type": "display_data"
    },
    {
     "data": {
      "application/vnd.jupyter.widget-view+json": {
       "model_id": "283e0485ae364ab196a5982cb7140720",
       "version_major": 2,
       "version_minor": 0
      },
      "text/plain": [
       "Generate report structure:   0%|          | 0/1 [00:00<?, ?it/s]"
      ]
     },
     "metadata": {},
     "output_type": "display_data"
    },
    {
     "data": {
      "application/vnd.jupyter.widget-view+json": {
       "model_id": "86777a69e7a744c6a422e236345e57e2",
       "version_major": 2,
       "version_minor": 0
      },
      "text/plain": [
       "Render HTML:   0%|          | 0/1 [00:00<?, ?it/s]"
      ]
     },
     "metadata": {},
     "output_type": "display_data"
    },
    {
     "data": {
      "application/vnd.jupyter.widget-view+json": {
       "model_id": "f01ba46b64014f45b105b9f430e478f6",
       "version_major": 2,
       "version_minor": 0
      },
      "text/plain": [
       "Export report to file:   0%|          | 0/1 [00:00<?, ?it/s]"
      ]
     },
     "metadata": {},
     "output_type": "display_data"
    }
   ],
   "source": [
    "external_market_influence_data_profile = ProfileReport(\n",
    "    marketing_df,\n",
    "    title=\"External Market Influence Data Profiling Report\",\n",
    "    explorative=True,\n",
    ")\n",
    "\n",
    "external_market_influence_data_profile.to_file(\n",
    "    \"../../eda_reports/marketing_city.html\"\n",
    ")"
   ]
  },
  {
   "cell_type": "code",
   "execution_count": 3,
   "metadata": {},
   "outputs": [
    {
     "data": {
      "text/html": [
       "<div>\n",
       "<style scoped>\n",
       "    .dataframe tbody tr th:only-of-type {\n",
       "        vertical-align: middle;\n",
       "    }\n",
       "\n",
       "    .dataframe tbody tr th {\n",
       "        vertical-align: top;\n",
       "    }\n",
       "\n",
       "    .dataframe thead th {\n",
       "        text-align: right;\n",
       "    }\n",
       "</style>\n",
       "<table border=\"1\" class=\"dataframe\">\n",
       "  <thead>\n",
       "    <tr style=\"text-align: right;\">\n",
       "      <th></th>\n",
       "      <th>Week_Start_Date</th>\n",
       "      <th>City_ID</th>\n",
       "      <th>Avg_Temperature</th>\n",
       "      <th>Weather_Type</th>\n",
       "      <th>Festival</th>\n",
       "      <th>City_Name</th>\n",
       "      <th>City_tier</th>\n",
       "      <th>Population_Density(persons/km)</th>\n",
       "      <th>Per_Capita_Income (INR)</th>\n",
       "    </tr>\n",
       "  </thead>\n",
       "  <tbody>\n",
       "    <tr>\n",
       "      <th>0</th>\n",
       "      <td>2023-01-02</td>\n",
       "      <td>CT001</td>\n",
       "      <td>21.0</td>\n",
       "      <td>Cold</td>\n",
       "      <td>NaN</td>\n",
       "      <td>Delhi</td>\n",
       "      <td>Tier 1</td>\n",
       "      <td>14893</td>\n",
       "      <td>4,61,910</td>\n",
       "    </tr>\n",
       "    <tr>\n",
       "      <th>1</th>\n",
       "      <td>2023-01-02</td>\n",
       "      <td>CT002</td>\n",
       "      <td>19.4</td>\n",
       "      <td>Cold</td>\n",
       "      <td>NaN</td>\n",
       "      <td>Mumbai</td>\n",
       "      <td>Tier 1</td>\n",
       "      <td>20518</td>\n",
       "      <td>4,00,000</td>\n",
       "    </tr>\n",
       "    <tr>\n",
       "      <th>2</th>\n",
       "      <td>2023-01-02</td>\n",
       "      <td>CT003</td>\n",
       "      <td>19.8</td>\n",
       "      <td>Cold</td>\n",
       "      <td>NaN</td>\n",
       "      <td>Kolkata</td>\n",
       "      <td>Tier 1</td>\n",
       "      <td>24252</td>\n",
       "      <td>171184</td>\n",
       "    </tr>\n",
       "    <tr>\n",
       "      <th>3</th>\n",
       "      <td>2023-01-02</td>\n",
       "      <td>CT004</td>\n",
       "      <td>20.8</td>\n",
       "      <td>Cold</td>\n",
       "      <td>NaN</td>\n",
       "      <td>Chennai</td>\n",
       "      <td>Tier 1</td>\n",
       "      <td>14456</td>\n",
       "      <td>585501</td>\n",
       "    </tr>\n",
       "    <tr>\n",
       "      <th>4</th>\n",
       "      <td>2023-01-02</td>\n",
       "      <td>CT005</td>\n",
       "      <td>21.6</td>\n",
       "      <td>Cold</td>\n",
       "      <td>NaN</td>\n",
       "      <td>Bengaluru</td>\n",
       "      <td>Tier 1</td>\n",
       "      <td>4378</td>\n",
       "      <td>352000</td>\n",
       "    </tr>\n",
       "    <tr>\n",
       "      <th>...</th>\n",
       "      <td>...</td>\n",
       "      <td>...</td>\n",
       "      <td>...</td>\n",
       "      <td>...</td>\n",
       "      <td>...</td>\n",
       "      <td>...</td>\n",
       "      <td>...</td>\n",
       "      <td>...</td>\n",
       "      <td>...</td>\n",
       "    </tr>\n",
       "    <tr>\n",
       "      <th>2095</th>\n",
       "      <td>2024-12-30</td>\n",
       "      <td>CT016</td>\n",
       "      <td>19.6</td>\n",
       "      <td>Cold</td>\n",
       "      <td>NaN</td>\n",
       "      <td>Nagpur</td>\n",
       "      <td>Tier 2</td>\n",
       "      <td>9664</td>\n",
       "      <td>296607</td>\n",
       "    </tr>\n",
       "    <tr>\n",
       "      <th>2096</th>\n",
       "      <td>2024-12-30</td>\n",
       "      <td>CT017</td>\n",
       "      <td>20.3</td>\n",
       "      <td>Cold</td>\n",
       "      <td>NaN</td>\n",
       "      <td>Surat</td>\n",
       "      <td>Tier 2</td>\n",
       "      <td>8617</td>\n",
       "      <td>389810</td>\n",
       "    </tr>\n",
       "    <tr>\n",
       "      <th>2097</th>\n",
       "      <td>2024-12-30</td>\n",
       "      <td>CT018</td>\n",
       "      <td>18.7</td>\n",
       "      <td>Cold</td>\n",
       "      <td>NaN</td>\n",
       "      <td>Patna</td>\n",
       "      <td>Tier 2</td>\n",
       "      <td>2805</td>\n",
       "      <td>173305</td>\n",
       "    </tr>\n",
       "    <tr>\n",
       "      <th>2098</th>\n",
       "      <td>2024-12-30</td>\n",
       "      <td>CT019</td>\n",
       "      <td>19.3</td>\n",
       "      <td>Cold</td>\n",
       "      <td>NaN</td>\n",
       "      <td>Ludhiana</td>\n",
       "      <td>Tier 2</td>\n",
       "      <td>9750</td>\n",
       "      <td>123882</td>\n",
       "    </tr>\n",
       "    <tr>\n",
       "      <th>2099</th>\n",
       "      <td>2024-12-30</td>\n",
       "      <td>CT020</td>\n",
       "      <td>18.4</td>\n",
       "      <td>Cold</td>\n",
       "      <td>NaN</td>\n",
       "      <td>Jammu</td>\n",
       "      <td>Tier 2</td>\n",
       "      <td>3571</td>\n",
       "      <td>186000</td>\n",
       "    </tr>\n",
       "  </tbody>\n",
       "</table>\n",
       "<p>2100 rows × 9 columns</p>\n",
       "</div>"
      ],
      "text/plain": [
       "     Week_Start_Date City_ID  Avg_Temperature Weather_Type Festival  \\\n",
       "0         2023-01-02   CT001             21.0         Cold      NaN   \n",
       "1         2023-01-02   CT002             19.4         Cold      NaN   \n",
       "2         2023-01-02   CT003             19.8         Cold      NaN   \n",
       "3         2023-01-02   CT004             20.8         Cold      NaN   \n",
       "4         2023-01-02   CT005             21.6         Cold      NaN   \n",
       "...              ...     ...              ...          ...      ...   \n",
       "2095      2024-12-30   CT016             19.6         Cold      NaN   \n",
       "2096      2024-12-30   CT017             20.3         Cold      NaN   \n",
       "2097      2024-12-30   CT018             18.7         Cold      NaN   \n",
       "2098      2024-12-30   CT019             19.3         Cold      NaN   \n",
       "2099      2024-12-30   CT020             18.4         Cold      NaN   \n",
       "\n",
       "      City_Name City_tier  Population_Density(persons/km)  \\\n",
       "0         Delhi    Tier 1                           14893   \n",
       "1        Mumbai    Tier 1                           20518   \n",
       "2       Kolkata    Tier 1                           24252   \n",
       "3       Chennai    Tier 1                           14456   \n",
       "4     Bengaluru    Tier 1                            4378   \n",
       "...         ...       ...                             ...   \n",
       "2095     Nagpur    Tier 2                            9664   \n",
       "2096      Surat    Tier 2                            8617   \n",
       "2097      Patna    Tier 2                            2805   \n",
       "2098   Ludhiana    Tier 2                            9750   \n",
       "2099      Jammu    Tier 2                            3571   \n",
       "\n",
       "     Per_Capita_Income (INR)  \n",
       "0                   4,61,910  \n",
       "1                   4,00,000  \n",
       "2                     171184  \n",
       "3                     585501  \n",
       "4                     352000  \n",
       "...                      ...  \n",
       "2095                  296607  \n",
       "2096                  389810  \n",
       "2097                  173305  \n",
       "2098                  123882  \n",
       "2099                  186000  \n",
       "\n",
       "[2100 rows x 9 columns]"
      ]
     },
     "execution_count": 3,
     "metadata": {},
     "output_type": "execute_result"
    }
   ],
   "source": [
    "marketing_df"
   ]
  },
  {
   "cell_type": "code",
   "execution_count": 8,
   "metadata": {},
   "outputs": [
    {
     "data": {
      "text/html": [
       "<div>\n",
       "<style scoped>\n",
       "    .dataframe tbody tr th:only-of-type {\n",
       "        vertical-align: middle;\n",
       "    }\n",
       "\n",
       "    .dataframe tbody tr th {\n",
       "        vertical-align: top;\n",
       "    }\n",
       "\n",
       "    .dataframe thead th {\n",
       "        text-align: right;\n",
       "    }\n",
       "</style>\n",
       "<table border=\"1\" class=\"dataframe\">\n",
       "  <thead>\n",
       "    <tr style=\"text-align: right;\">\n",
       "      <th></th>\n",
       "      <th>Avg_Temperature</th>\n",
       "      <th>Population_Density(persons/km)</th>\n",
       "    </tr>\n",
       "  </thead>\n",
       "  <tbody>\n",
       "    <tr>\n",
       "      <th>count</th>\n",
       "      <td>2100.000000</td>\n",
       "      <td>2100.000000</td>\n",
       "    </tr>\n",
       "    <tr>\n",
       "      <th>mean</th>\n",
       "      <td>29.932857</td>\n",
       "      <td>8730.200000</td>\n",
       "    </tr>\n",
       "    <tr>\n",
       "      <th>std</th>\n",
       "      <td>7.151086</td>\n",
       "      <td>6020.869387</td>\n",
       "    </tr>\n",
       "    <tr>\n",
       "      <th>min</th>\n",
       "      <td>17.000000</td>\n",
       "      <td>1800.000000</td>\n",
       "    </tr>\n",
       "    <tr>\n",
       "      <th>25%</th>\n",
       "      <td>22.900000</td>\n",
       "      <td>3753.250000</td>\n",
       "    </tr>\n",
       "    <tr>\n",
       "      <th>50%</th>\n",
       "      <td>30.000000</td>\n",
       "      <td>7559.500000</td>\n",
       "    </tr>\n",
       "    <tr>\n",
       "      <th>75%</th>\n",
       "      <td>36.900000</td>\n",
       "      <td>11103.750000</td>\n",
       "    </tr>\n",
       "    <tr>\n",
       "      <th>max</th>\n",
       "      <td>42.700000</td>\n",
       "      <td>24252.000000</td>\n",
       "    </tr>\n",
       "  </tbody>\n",
       "</table>\n",
       "</div>"
      ],
      "text/plain": [
       "       Avg_Temperature  Population_Density(persons/km)\n",
       "count      2100.000000                     2100.000000\n",
       "mean         29.932857                     8730.200000\n",
       "std           7.151086                     6020.869387\n",
       "min          17.000000                     1800.000000\n",
       "25%          22.900000                     3753.250000\n",
       "50%          30.000000                     7559.500000\n",
       "75%          36.900000                    11103.750000\n",
       "max          42.700000                    24252.000000"
      ]
     },
     "execution_count": 8,
     "metadata": {},
     "output_type": "execute_result"
    }
   ],
   "source": [
    "marketing_df.describe()"
   ]
  },
  {
   "cell_type": "code",
   "execution_count": 5,
   "metadata": {},
   "outputs": [
    {
     "data": {
      "image/png": "[encoded data removed]",
      "text/plain": [
       "<Figure size 1000x600 with 1 Axes>"
      ]
     },
     "metadata": {},
     "output_type": "display_data"
    }
   ],
   "source": [
    "import matplotlib.pyplot as plt\n",
    "\n",
    "# Convert Week_Start_Date to datetime\n",
    "marketing_df['Week_Start_Date'] = pd.to_datetime(marketing_df['Week_Start_Date'])\n",
    "\n",
    "# Extract month and year from Week_Start_Date\n",
    "marketing_df['Month'] = marketing_df['Week_Start_Date'].dt.month\n",
    "marketing_df['Year'] = marketing_df['Week_Start_Date'].dt.year\n",
    "\n",
    "# Group by month and calculate the average temperature\n",
    "monthly_avg_temp = marketing_df.groupby('Month')['Avg_Temperature'].mean()\n",
    "\n",
    "# Plot the average temperature by month\n",
    "plt.figure(figsize=(10, 6))\n",
    "monthly_avg_temp.plot(kind='bar')\n",
    "plt.title('Average Temperature by Month')\n",
    "plt.xlabel('Month')\n",
    "plt.ylabel('Average Temperature')\n",
    "plt.xticks(rotation=0)\n",
    "plt.show()"
   ]
  },
  {
   "cell_type": "code",
   "execution_count": null,
   "metadata": {},
   "outputs": [],
   "source": []
  },
  {
   "cell_type": "code",
   "execution_count": null,
   "metadata": {},
   "outputs": [],
   "source": []
  },
  {
   "cell_type": "code",
   "execution_count": null,
   "metadata": {},
   "outputs": [],
   "source": []
  },
  {
   "cell_type": "code",
   "execution_count": null,
   "metadata": {},
   "outputs": [],
   "source": []
  }
 ],
 "metadata": {
  "kernelspec": {
   "display_name": ".venv",
   "language": "python",
   "name": "python3"
  },
  "language_info": {
   "codemirror_mode": {
    "name": "ipython",
    "version": 3
   },
   "file_extension": ".py",
   "mimetype": "text/x-python",
   "name": "python",
   "nbconvert_exporter": "python",
   "pygments_lexer": "ipython3",
   "version": "3.8.10"
  }
 },
 "nbformat": 4,
 "nbformat_minor": 2
}
