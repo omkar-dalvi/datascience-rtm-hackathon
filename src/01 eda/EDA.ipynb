{
 "cells": [
  {
   "cell_type": "markdown",
   "metadata": {},
   "source": [
    "## Understanding problem statement\n",
    "\n",
    "- Objective: Create a ML model that optimizes the channel distribution by maximizing market reach and revenue\n",
    "\n",
    "### Phase 1: EDA\n",
    "- Understand how variables differ across channels and region\n",
    "- Visualize on week, city and channel levels\n",
    "- Insights: Action items to optmize distribution channel"
   ]
  },
  {
   "cell_type": "markdown",
   "metadata": {},
   "source": [
    "## Ingesting the data"
   ]
  },
  {
   "cell_type": "code",
   "execution_count": null,
   "metadata": {},
   "outputs": [],
   "source": [
    "# READING ALL THE DATA IN PANDAS DATAFRAME\n",
    "\n",
    "import pandas as pd\n",
    "city_df = pd.read_csv('../../data/raw/city.csv', encoding='ISO-8859-1')\n",
    "competitors_df = pd.read_csv('../../data/raw/competitivelandscape.csv')\n",
    "consumer_behaviour_df = pd.read_csv('../../data/raw/consumerbehavior.csv')\n",
    "market_influencers_df = pd.read_csv('../../data/raw/externalmarketinfluencers.csv')\n",
    "products_df = pd.read_csv('../../data/raw/products.csv')\n",
    "sales_df = pd.read_csv('../../data/raw/retailsalesdistribution.csv')"
   ]
  },
  {
   "cell_type": "markdown",
   "metadata": {},
   "source": [
    "## Univariate "
   ]
  },
  {
   "cell_type": "markdown",
   "metadata": {},
   "source": [
    "### Sales data"
   ]
  },
  {
   "cell_type": "code",
   "execution_count": null,
   "metadata": {},
   "outputs": [],
   "source": [
    "sales_df.head()"
   ]
  },
  {
   "cell_type": "code",
   "execution_count": null,
   "metadata": {},
   "outputs": [],
   "source": [
    "from ydata_profiling import ProfileReport\n",
    "\n",
    "sales_data_profile = ProfileReport(sales_df, title='Sales Data Profiling Report', explorative=True)\n"
   ]
  },
  {
   "cell_type": "code",
   "execution_count": null,
   "metadata": {},
   "outputs": [],
   "source": [
    "sales_data_profile.to_file('../../eda/sales_data_profile.html')"
   ]
  },
  {
   "cell_type": "markdown",
   "metadata": {},
   "source": [
    "- 20 cities, 7 SKUs, 5 channels"
   ]
  },
  {
   "cell_type": "markdown",
   "metadata": {},
   "source": [
    "### Competitive Behavior"
   ]
  },
  {
   "cell_type": "code",
   "execution_count": null,
   "metadata": {},
   "outputs": [],
   "source": [
    "from ydata_profiling import ProfileReport\n",
    "\n",
    "competitors_data_profile = ProfileReport(competitors_df, title='competitors_Data Profiling Report', explorative=True)\n",
    "\n",
    "competitors_data_profile.to_file('../../eda/competitors_data_profile.html')\n"
   ]
  },
  {
   "cell_type": "markdown",
   "metadata": {},
   "source": [
    "### Products "
   ]
  },
  {
   "cell_type": "code",
   "execution_count": null,
   "metadata": {},
   "outputs": [],
   "source": [
    "from ydata_profiling import ProfileReport\n",
    "\n",
    "products_data_profile = ProfileReport(products_df, title='Products Data Profiling Report', explorative=True)\n",
    "\n",
    "products_data_profile.to_file('../../eda/products_data_profile.html')\n"
   ]
  },
  {
   "cell_type": "markdown",
   "metadata": {},
   "source": [
    "### External Market Influence"
   ]
  },
  {
   "cell_type": "code",
   "execution_count": null,
   "metadata": {},
   "outputs": [],
   "source": [
    "from ydata_profiling import ProfileReport\n",
    "\n",
    "external_market_influence_data_profile = ProfileReport(market_influencers_df, title='External Market Influence Data Profiling Report', explorative=True)\n",
    "\n",
    "external_market_influence_data_profile.to_file('../../eda/external_market_influence_data_profile.html')\n"
   ]
  },
  {
   "cell_type": "markdown",
   "metadata": {},
   "source": [
    "### Customer Behavior "
   ]
  },
  {
   "cell_type": "code",
   "execution_count": null,
   "metadata": {},
   "outputs": [],
   "source": [
    "from ydata_profiling import ProfileReport\n",
    "\n",
    "customer_behavior_data_profile = ProfileReport(consumer_behaviour_df, title='Customer Behavior Data Profiling Report', explorative=True)\n",
    "\n",
    "customer_behavior_data_profile.to_file('../../eda/customer_behavior_data_profile.html')\n"
   ]
  },
  {
   "cell_type": "markdown",
   "metadata": {},
   "source": [
    "### City"
   ]
  },
  {
   "cell_type": "code",
   "execution_count": null,
   "metadata": {},
   "outputs": [],
   "source": [
    "from ydata_profiling import ProfileReport\n",
    "\n",
    "city_data_profile = ProfileReport(city_df, title='City Data Profiling Report', explorative=True)\n",
    "\n",
    "city_data_profile.to_file('../../eda/city_data_profile.html')\n"
   ]
  },
  {
   "cell_type": "markdown",
   "metadata": {},
   "source": [
    "# Data Preprocessing"
   ]
  },
  {
   "cell_type": "markdown",
   "metadata": {},
   "source": [
    "### Sales Data"
   ]
  },
  {
   "cell_type": "code",
   "execution_count": null,
   "metadata": {},
   "outputs": [],
   "source": [
    "\n",
    "# STANDARDIZING THE DATE FORMAT IN SALES DATAFRAME\n",
    "import pandas as pd\n",
    "sales_df_processed = sales_df.copy()\n",
    "\n",
    "sales_df_processed['Date'] = pd.to_datetime(sales_df_processed['Date'], format='%Y-%m-%d')\n",
    "\n",
    "sales_df_processed['Date'] = pd.to_datetime(sales_df_processed['Date']).dt.strftime('%Y-%m-%d')\n",
    "\n",
    "sales_df_processed.head()\n",
    "\n"
   ]
  },
  {
   "cell_type": "code",
   "execution_count": null,
   "metadata": {},
   "outputs": [],
   "source": [
    "# save data\n",
    "sales_df_processed.to_csv('../../data/processed/sales_processed.csv', index=False)"
   ]
  },
  {
   "cell_type": "markdown",
   "metadata": {},
   "source": [
    "### Competitor Data"
   ]
  },
  {
   "cell_type": "code",
   "execution_count": null,
   "metadata": {},
   "outputs": [],
   "source": [
    "\n",
    "# STANDARDIZING THE DATE FORMAT IN SALES DATAFRAME\n",
    "import pandas as pd\n",
    "competitors_df_processed = competitors_df.copy()\n",
    "\n",
    "competitors_df_processed['Date'] = pd.to_datetime(competitors_df_processed['Date'], format='%Y-%m-%d')\n",
    "\n",
    "competitors_df_processed['Date'] = pd.to_datetime(competitors_df_processed['Date']).dt.strftime('%Y-%m-%d')\n",
    "\n",
    "competitors_df_processed.head()\n",
    "\n"
   ]
  },
  {
   "cell_type": "code",
   "execution_count": null,
   "metadata": {},
   "outputs": [],
   "source": [
    "# save data\n",
    "competitors_df_processed.to_csv('../../data/processed/competitors_processed.csv', index=False)"
   ]
  },
  {
   "cell_type": "markdown",
   "metadata": {},
   "source": [
    "### Products"
   ]
  },
  {
   "cell_type": "code",
   "execution_count": null,
   "metadata": {},
   "outputs": [],
   "source": [
    "import pandas as pd\n",
    "import re\n",
    "import numpy as np\n",
    "\n",
    "products_df_processed = products_df.copy()\n",
    "\n",
    "# Convert \"Flavor Variant\" column to categorical data type\n",
    "products_df_processed['Flavor Variant'] = products_df_processed['Flavor Variant'].astype('category')\n",
    "\n",
    "\n",
    "# 2. Convert Launch Date from MM/DD/YYYY to yyyy-mm-dd\n",
    "products_df_processed['Launch Date'] = pd.to_datetime(products_df_processed['Launch Date (MM/DD/YYYY)'], format='%m/%d/%Y').dt.strftime('%Y-%m-%d')\n",
    "\n",
    "def convert_pack_size(pack_str):\n",
    "    \"\"\"\n",
    "    Extract numeric value and convert pack size to litres.\n",
    "    Assumes the pack size string contains a number and a unit (ml or L).\n",
    "    \"\"\"\n",
    "    match = re.search(r'([\\d\\.]+)\\s*(ml|l)', pack_str, re.IGNORECASE)\n",
    "    if match:\n",
    "        value = float(match.group(1))\n",
    "        unit = match.group(2).lower()\n",
    "        if unit == 'ml':\n",
    "            return value / 1000  # convert millilitres to litres\n",
    "        else:\n",
    "            return value\n",
    "    return np.nan\n",
    "\n",
    "products_df_processed['Pack Size (L)'] = products_df_processed['Pack Size (ml/L)'].apply(convert_pack_size)\n",
    "\n",
    "channels = {\n",
    "    'General Trade': r'general trade',\n",
    "    'E Commerce': r'e[-\\s]?commerce',\n",
    "    'Modern Trade': r'modern trade',\n",
    "    'HoReCa': r'horeca',\n",
    "    'Q Commerce': r'q[-\\s]?commerce'\n",
    "}\n",
    "\n",
    "def encode_distribution(dist_str):\n",
    "    \"\"\"\n",
    "    Returns a Series with one-hot encoding for each distribution channel.\n",
    "    \"\"\"\n",
    "    dist_lower = dist_str.lower()\n",
    "    result = {}\n",
    "    for channel, pattern in channels.items():\n",
    "        result[channel] = 1 if re.search(pattern, dist_lower) else 0\n",
    "    return pd.Series(result)\n",
    "\n",
    "dist_df = products_df_processed['Distribution Coverage'].apply(encode_distribution)\n",
    "products_df_processed = pd.concat([products_df_processed, dist_df], axis=1)  \n",
    "\n",
    "products_df_processed = products_df_processed[['Product Name', 'Flavor Variant', 'SKU Identification Number', \n",
    "          'Launch Date', 'Pack Size (L)', 'General Trade', 'E Commerce', \n",
    "          'Modern Trade', 'HoReCa', 'Q Commerce']]\n",
    "\n",
    "products_df_processed.head(100)\n",
    "\n",
    "\n",
    "\n",
    "\n"
   ]
  },
  {
   "cell_type": "code",
   "execution_count": null,
   "metadata": {},
   "outputs": [],
   "source": [
    "# save data\n",
    "products_df_processed.to_csv('../../data/processed/products_processed.csv', index=False)"
   ]
  },
  {
   "cell_type": "markdown",
   "metadata": {},
   "source": [
    "### External Market influence"
   ]
  },
  {
   "cell_type": "code",
   "execution_count": null,
   "metadata": {},
   "outputs": [],
   "source": [
    "import pandas as pd\n",
    "\n",
    "market_influencers_df_processed = market_influencers_df.copy()\n",
    "\n",
    "# convert data to yyyy-mm-dd format\n",
    "market_influencers_df_processed['Week_Start_Date'] = pd.to_datetime(market_influencers_df_processed['Week_Start_Date'], format='%Y-%m-%d').dt.strftime('%Y-%m-%d')\n",
    "\n",
    "market_influencers_df_processed['Festival'] = market_influencers_df_processed['Festival'].fillna(\"No Festival\")\n",
    "\n",
    "\n",
    "market_influencers_df_processed.head()\n"
   ]
  },
  {
   "cell_type": "code",
   "execution_count": null,
   "metadata": {},
   "outputs": [],
   "source": [
    "# save data\n",
    "market_influencers_df_processed.to_csv('../../data/processed/market_influencers_processed.csv', index=False)"
   ]
  },
  {
   "cell_type": "markdown",
   "metadata": {},
   "source": [
    "### Customer Behavior"
   ]
  },
  {
   "cell_type": "code",
   "execution_count": null,
   "metadata": {},
   "outputs": [],
   "source": [
    "\n",
    "import pandas as pd\n",
    "\n",
    "consumer_behaviour_df_processed = consumer_behaviour_df.copy()\n",
    "consumer_behaviour_df_processed['Purchase_Frequency'] = consumer_behaviour_df_processed['Purchase_Frequency'].fillna(consumer_behaviour_df_processed['Purchase_Frequency'].median())\n",
    "\n",
    "consumer_behaviour_df_processed['Preferred_Channel'] = consumer_behaviour_df_processed['Preferred_Channel'].replace('HoReca', 'HoReCa')\n",
    "\n",
    "consumer_behaviour_df_processed['Active'] = consumer_behaviour_df_processed['Active'].map({True: 1, False: 0})\n",
    "\n",
    "\n",
    "\n",
    "consumer_behaviour_df_processed.head()\n"
   ]
  },
  {
   "cell_type": "code",
   "execution_count": null,
   "metadata": {},
   "outputs": [],
   "source": [
    "# save data\n",
    "consumer_behaviour_df_processed.to_csv('../../data/processed/consumer_behavior_processed.csv', index=False)"
   ]
  },
  {
   "cell_type": "markdown",
   "metadata": {},
   "source": [
    "### City"
   ]
  },
  {
   "cell_type": "code",
   "execution_count": null,
   "metadata": {},
   "outputs": [],
   "source": [
    "\n",
    "import pandas as pd\n",
    "\n",
    "city_df_processed = city_df.copy()\n",
    "\n",
    "city_df_processed = city_df_processed.dropna(axis=1, how='all')\n",
    "city_df_processed['City_Name'] = city_df_processed['City_Name'].astype('category')\n",
    "\n",
    "city_df_processed['Per_Capita_Income (INR)'] = city_df_processed['Per_Capita_Income (INR)'].astype(str).str.replace(',', '')\n",
    "city_df_processed['Per_Capita_Income (INR)'] = pd.to_numeric(city_df_processed['Per_Capita_Income (INR)'], errors='coerce')\n",
    "\n",
    "city_df_processed.head()\n",
    "\n"
   ]
  },
  {
   "cell_type": "code",
   "execution_count": null,
   "metadata": {},
   "outputs": [],
   "source": [
    "# save data\n",
    "city_df_processed.to_csv('../../data/processed/city_processed.csv', index=False)"
   ]
  },
  {
   "cell_type": "markdown",
   "metadata": {},
   "source": [
    "## Generating reports of processed data"
   ]
  },
  {
   "cell_type": "code",
   "execution_count": null,
   "metadata": {},
   "outputs": [],
   "source": [
    "# READ CITY, COMPETITOR, CONSUMER BEHAVIOR, MARKET INFLUENCE, PRODUCTS AND SALES DATA FROM PROCESSED FOLDER AND CREATE Y DATA PROFILING REPORTS AND SAVE THEM IN EDA/PROCESSED FOLDER\n",
    "import pandas as pd\n",
    "from ydata_profiling import ProfileReport\n",
    "\n",
    "city_df = pd.read_csv('../../data/processed/city_processed.csv')\n",
    "competitors_df = pd.read_csv('../../data/processed/competitors_processed.csv')\n",
    "consumer_behaviour_df = pd.read_csv('../../data/processed/consumer_behavior_processed.csv')\n",
    "market_influencers_df = pd.read_csv('../../data/processed/market_influencers_processed.csv')\n",
    "products_df = pd.read_csv('../../data/processed/products_processed.csv')\n",
    "sales_df = pd.read_csv('../../data/processed/sales_processed.csv')\n",
    "\n",
    "\n",
    "sales_data_profile = ProfileReport(sales_df, title='Sales Data Profiling Report', explorative=True)\n",
    "\n",
    "sales_data_profile.to_file('../../eda/reports/processed/sales_data_profile.html')\n",
    "\n",
    "competitors_data_profile = ProfileReport(competitors_df, title='competitors_Data Profiling Report', explorative=True)\n",
    "\n",
    "competitors_data_profile.to_file('../../eda/reports/processed/competitors_data_profile.html')\n",
    "\n",
    "products_data_profile = ProfileReport(products_df, title='Products Data Profiling Report', explorative=True)\n",
    "\n",
    "products_data_profile.to_file('../../eda/reports/processed/products_data_profile.html')\n",
    "\n",
    "external_market_influence_data_profile = ProfileReport(market_influencers_df, title='External Market Influence Data Profiling Report', explorative=True)\n",
    "\n",
    "external_market_influence_data_profile.to_file('../../eda/reports/processed/external_market_influence_data_profile.html')\n",
    "\n",
    "customer_behavior_data_profile = ProfileReport(consumer_behaviour_df, title='Customer Behavior Data Profiling Report', explorative=True)\n",
    "\n",
    "customer_behavior_data_profile.to_file('../../eda/reports/processed/customer_behavior_data_profile.html')\n",
    "\n",
    "city_data_profile = ProfileReport(city_df, title='City Data Profiling Report', explorative=True)\n",
    "\n",
    "city_data_profile.to_file('../../eda/reports/processed/city_data_profile.html')\n",
    "\n"
   ]
  },
  {
   "cell_type": "markdown",
   "metadata": {},
   "source": [
    "# EDA"
   ]
  },
  {
   "cell_type": "code",
   "execution_count": 1,
   "metadata": {},
   "outputs": [
    {
     "data": {
      "text/html": [
       "<div>\n",
       "<style scoped>\n",
       "    .dataframe tbody tr th:only-of-type {\n",
       "        vertical-align: middle;\n",
       "    }\n",
       "\n",
       "    .dataframe tbody tr th {\n",
       "        vertical-align: top;\n",
       "    }\n",
       "\n",
       "    .dataframe thead th {\n",
       "        text-align: right;\n",
       "    }\n",
       "</style>\n",
       "<table border=\"1\" class=\"dataframe\">\n",
       "  <thead>\n",
       "    <tr style=\"text-align: right;\">\n",
       "      <th></th>\n",
       "      <th>Date</th>\n",
       "      <th>City_ID</th>\n",
       "      <th>SKU_ID</th>\n",
       "      <th>Channel</th>\n",
       "      <th>Units_Sold</th>\n",
       "      <th>Sales</th>\n",
       "    </tr>\n",
       "  </thead>\n",
       "  <tbody>\n",
       "    <tr>\n",
       "      <th>0</th>\n",
       "      <td>2023-01-01</td>\n",
       "      <td>CT001</td>\n",
       "      <td>SKU1002</td>\n",
       "      <td>Q Commerce</td>\n",
       "      <td>268</td>\n",
       "      <td>80.4</td>\n",
       "    </tr>\n",
       "    <tr>\n",
       "      <th>1</th>\n",
       "      <td>2023-01-01</td>\n",
       "      <td>CT001</td>\n",
       "      <td>SKU1004</td>\n",
       "      <td>Q Commerce</td>\n",
       "      <td>168</td>\n",
       "      <td>50.4</td>\n",
       "    </tr>\n",
       "    <tr>\n",
       "      <th>2</th>\n",
       "      <td>2023-01-01</td>\n",
       "      <td>CT001</td>\n",
       "      <td>SKU1001</td>\n",
       "      <td>E Commerce</td>\n",
       "      <td>521</td>\n",
       "      <td>156.3</td>\n",
       "    </tr>\n",
       "    <tr>\n",
       "      <th>3</th>\n",
       "      <td>2023-01-01</td>\n",
       "      <td>CT001</td>\n",
       "      <td>SKU1002</td>\n",
       "      <td>E Commerce</td>\n",
       "      <td>247</td>\n",
       "      <td>74.1</td>\n",
       "    </tr>\n",
       "    <tr>\n",
       "      <th>4</th>\n",
       "      <td>2023-01-01</td>\n",
       "      <td>CT001</td>\n",
       "      <td>SKU1007</td>\n",
       "      <td>E Commerce</td>\n",
       "      <td>161</td>\n",
       "      <td>12075.0</td>\n",
       "    </tr>\n",
       "  </tbody>\n",
       "</table>\n",
       "</div>"
      ],
      "text/plain": [
       "         Date City_ID   SKU_ID     Channel  Units_Sold    Sales\n",
       "0  2023-01-01   CT001  SKU1002  Q Commerce         268     80.4\n",
       "1  2023-01-01   CT001  SKU1004  Q Commerce         168     50.4\n",
       "2  2023-01-01   CT001  SKU1001  E Commerce         521    156.3\n",
       "3  2023-01-01   CT001  SKU1002  E Commerce         247     74.1\n",
       "4  2023-01-01   CT001  SKU1007  E Commerce         161  12075.0"
      ]
     },
     "execution_count": 1,
     "metadata": {},
     "output_type": "execute_result"
    }
   ],
   "source": [
    "import pandas as pd\n",
    "sales_df = pd.read_csv('../../data/processed/sales_processed.csv')\n",
    "sales_df.head()"
   ]
  },
  {
   "cell_type": "code",
   "execution_count": 11,
   "metadata": {},
   "outputs": [
    {
     "data": {
      "application/vnd.plotly.v1+json": {
       "config": {
        "plotlyServerURL": "https://plot.ly"
       },
       "data": [
        {
         "hovertemplate": "SKU_ID=%{x}<br>Sales=%{y}<extra></extra>",
         "legendgroup": "",
         "marker": {
          "color": "#636efa",
          "pattern": {
           "shape": ""
          }
         },
         "name": "",
         "orientation": "v",
         "showlegend": false,
         "textposition": "auto",
         "type": "bar",
         "x": [
          "SKU1001",
          "SKU1002",
          "SKU1003",
          "SKU1004",
          "SKU1006",
          "SKU1007",
          "SKU1008"
         ],
         "xaxis": "x",
         "y": {
          "bdata": "mpmZeakVaUEAAADwxyNoQc3MzEwIAFBBMzMzk3UVUEEAAIBDdUOxQQAAwBhFEttBAAAAWkknx0E=",
          "dtype": "f8"
         },
         "yaxis": "y"
        }
       ],
       "layout": {
        "barmode": "relative",
        "legend": {
         "tracegroupgap": 0
        },
        "template": {
         "data": {
          "bar": [
           {
            "error_x": {
             "color": "#2a3f5f"
            },
            "error_y": {
             "color": "#2a3f5f"
            },
            "marker": {
             "line": {
              "color": "#E5ECF6",
              "width": 0.5
             },
             "pattern": {
              "fillmode": "overlay",
              "size": 10,
              "solidity": 0.2
             }
            },
            "type": "bar"
           }
          ],
          "barpolar": [
           {
            "marker": {
             "line": {
              "color": "#E5ECF6",
              "width": 0.5
             },
             "pattern": {
              "fillmode": "overlay",
              "size": 10,
              "solidity": 0.2
             }
            },
            "type": "barpolar"
           }
          ],
          "carpet": [
           {
            "aaxis": {
             "endlinecolor": "#2a3f5f",
             "gridcolor": "white",
             "linecolor": "white",
             "minorgridcolor": "white",
             "startlinecolor": "#2a3f5f"
            },
            "baxis": {
             "endlinecolor": "#2a3f5f",
             "gridcolor": "white",
             "linecolor": "white",
             "minorgridcolor": "white",
             "startlinecolor": "#2a3f5f"
            },
            "type": "carpet"
           }
          ],
          "choropleth": [
           {
            "colorbar": {
             "outlinewidth": 0,
             "ticks": ""
            },
            "type": "choropleth"
           }
          ],
          "contour": [
           {
            "colorbar": {
             "outlinewidth": 0,
             "ticks": ""
            },
            "colorscale": [
             [
              0,
              "#0d0887"
             ],
             [
              0.1111111111111111,
              "#46039f"
             ],
             [
              0.2222222222222222,
              "#7201a8"
             ],
             [
              0.3333333333333333,
              "#9c179e"
             ],
             [
              0.4444444444444444,
              "#bd3786"
             ],
             [
              0.5555555555555556,
              "#d8576b"
             ],
             [
              0.6666666666666666,
              "#ed7953"
             ],
             [
              0.7777777777777778,
              "#fb9f3a"
             ],
             [
              0.8888888888888888,
              "#fdca26"
             ],
             [
              1,
              "#f0f921"
             ]
            ],
            "type": "contour"
           }
          ],
          "contourcarpet": [
           {
            "colorbar": {
             "outlinewidth": 0,
             "ticks": ""
            },
            "type": "contourcarpet"
           }
          ],
          "heatmap": [
           {
            "colorbar": {
             "outlinewidth": 0,
             "ticks": ""
            },
            "colorscale": [
             [
              0,
              "#0d0887"
             ],
             [
              0.1111111111111111,
              "#46039f"
             ],
             [
              0.2222222222222222,
              "#7201a8"
             ],
             [
              0.3333333333333333,
              "#9c179e"
             ],
             [
              0.4444444444444444,
              "#bd3786"
             ],
             [
              0.5555555555555556,
              "#d8576b"
             ],
             [
              0.6666666666666666,
              "#ed7953"
             ],
             [
              0.7777777777777778,
              "#fb9f3a"
             ],
             [
              0.8888888888888888,
              "#fdca26"
             ],
             [
              1,
              "#f0f921"
             ]
            ],
            "type": "heatmap"
           }
          ],
          "histogram": [
           {
            "marker": {
             "pattern": {
              "fillmode": "overlay",
              "size": 10,
              "solidity": 0.2
             }
            },
            "type": "histogram"
           }
          ],
          "histogram2d": [
           {
            "colorbar": {
             "outlinewidth": 0,
             "ticks": ""
            },
            "colorscale": [
             [
              0,
              "#0d0887"
             ],
             [
              0.1111111111111111,
              "#46039f"
             ],
             [
              0.2222222222222222,
              "#7201a8"
             ],
             [
              0.3333333333333333,
              "#9c179e"
             ],
             [
              0.4444444444444444,
              "#bd3786"
             ],
             [
              0.5555555555555556,
              "#d8576b"
             ],
             [
              0.6666666666666666,
              "#ed7953"
             ],
             [
              0.7777777777777778,
              "#fb9f3a"
             ],
             [
              0.8888888888888888,
              "#fdca26"
             ],
             [
              1,
              "#f0f921"
             ]
            ],
            "type": "histogram2d"
           }
          ],
          "histogram2dcontour": [
           {
            "colorbar": {
             "outlinewidth": 0,
             "ticks": ""
            },
            "colorscale": [
             [
              0,
              "#0d0887"
             ],
             [
              0.1111111111111111,
              "#46039f"
             ],
             [
              0.2222222222222222,
              "#7201a8"
             ],
             [
              0.3333333333333333,
              "#9c179e"
             ],
             [
              0.4444444444444444,
              "#bd3786"
             ],
             [
              0.5555555555555556,
              "#d8576b"
             ],
             [
              0.6666666666666666,
              "#ed7953"
             ],
             [
              0.7777777777777778,
              "#fb9f3a"
             ],
             [
              0.8888888888888888,
              "#fdca26"
             ],
             [
              1,
              "#f0f921"
             ]
            ],
            "type": "histogram2dcontour"
           }
          ],
          "mesh3d": [
           {
            "colorbar": {
             "outlinewidth": 0,
             "ticks": ""
            },
            "type": "mesh3d"
           }
          ],
          "parcoords": [
           {
            "line": {
             "colorbar": {
              "outlinewidth": 0,
              "ticks": ""
             }
            },
            "type": "parcoords"
           }
          ],
          "pie": [
           {
            "automargin": true,
            "type": "pie"
           }
          ],
          "scatter": [
           {
            "fillpattern": {
             "fillmode": "overlay",
             "size": 10,
             "solidity": 0.2
            },
            "type": "scatter"
           }
          ],
          "scatter3d": [
           {
            "line": {
             "colorbar": {
              "outlinewidth": 0,
              "ticks": ""
             }
            },
            "marker": {
             "colorbar": {
              "outlinewidth": 0,
              "ticks": ""
             }
            },
            "type": "scatter3d"
           }
          ],
          "scattercarpet": [
           {
            "marker": {
             "colorbar": {
              "outlinewidth": 0,
              "ticks": ""
             }
            },
            "type": "scattercarpet"
           }
          ],
          "scattergeo": [
           {
            "marker": {
             "colorbar": {
              "outlinewidth": 0,
              "ticks": ""
             }
            },
            "type": "scattergeo"
           }
          ],
          "scattergl": [
           {
            "marker": {
             "colorbar": {
              "outlinewidth": 0,
              "ticks": ""
             }
            },
            "type": "scattergl"
           }
          ],
          "scattermap": [
           {
            "marker": {
             "colorbar": {
              "outlinewidth": 0,
              "ticks": ""
             }
            },
            "type": "scattermap"
           }
          ],
          "scattermapbox": [
           {
            "marker": {
             "colorbar": {
              "outlinewidth": 0,
              "ticks": ""
             }
            },
            "type": "scattermapbox"
           }
          ],
          "scatterpolar": [
           {
            "marker": {
             "colorbar": {
              "outlinewidth": 0,
              "ticks": ""
             }
            },
            "type": "scatterpolar"
           }
          ],
          "scatterpolargl": [
           {
            "marker": {
             "colorbar": {
              "outlinewidth": 0,
              "ticks": ""
             }
            },
            "type": "scatterpolargl"
           }
          ],
          "scatterternary": [
           {
            "marker": {
             "colorbar": {
              "outlinewidth": 0,
              "ticks": ""
             }
            },
            "type": "scatterternary"
           }
          ],
          "surface": [
           {
            "colorbar": {
             "outlinewidth": 0,
             "ticks": ""
            },
            "colorscale": [
             [
              0,
              "#0d0887"
             ],
             [
              0.1111111111111111,
              "#46039f"
             ],
             [
              0.2222222222222222,
              "#7201a8"
             ],
             [
              0.3333333333333333,
              "#9c179e"
             ],
             [
              0.4444444444444444,
              "#bd3786"
             ],
             [
              0.5555555555555556,
              "#d8576b"
             ],
             [
              0.6666666666666666,
              "#ed7953"
             ],
             [
              0.7777777777777778,
              "#fb9f3a"
             ],
             [
              0.8888888888888888,
              "#fdca26"
             ],
             [
              1,
              "#f0f921"
             ]
            ],
            "type": "surface"
           }
          ],
          "table": [
           {
            "cells": {
             "fill": {
              "color": "#EBF0F8"
             },
             "line": {
              "color": "white"
             }
            },
            "header": {
             "fill": {
              "color": "#C8D4E3"
             },
             "line": {
              "color": "white"
             }
            },
            "type": "table"
           }
          ]
         },
         "layout": {
          "annotationdefaults": {
           "arrowcolor": "#2a3f5f",
           "arrowhead": 0,
           "arrowwidth": 1
          },
          "autotypenumbers": "strict",
          "coloraxis": {
           "colorbar": {
            "outlinewidth": 0,
            "ticks": ""
           }
          },
          "colorscale": {
           "diverging": [
            [
             0,
             "#8e0152"
            ],
            [
             0.1,
             "#c51b7d"
            ],
            [
             0.2,
             "#de77ae"
            ],
            [
             0.3,
             "#f1b6da"
            ],
            [
             0.4,
             "#fde0ef"
            ],
            [
             0.5,
             "#f7f7f7"
            ],
            [
             0.6,
             "#e6f5d0"
            ],
            [
             0.7,
             "#b8e186"
            ],
            [
             0.8,
             "#7fbc41"
            ],
            [
             0.9,
             "#4d9221"
            ],
            [
             1,
             "#276419"
            ]
           ],
           "sequential": [
            [
             0,
             "#0d0887"
            ],
            [
             0.1111111111111111,
             "#46039f"
            ],
            [
             0.2222222222222222,
             "#7201a8"
            ],
            [
             0.3333333333333333,
             "#9c179e"
            ],
            [
             0.4444444444444444,
             "#bd3786"
            ],
            [
             0.5555555555555556,
             "#d8576b"
            ],
            [
             0.6666666666666666,
             "#ed7953"
            ],
            [
             0.7777777777777778,
             "#fb9f3a"
            ],
            [
             0.8888888888888888,
             "#fdca26"
            ],
            [
             1,
             "#f0f921"
            ]
           ],
           "sequentialminus": [
            [
             0,
             "#0d0887"
            ],
            [
             0.1111111111111111,
             "#46039f"
            ],
            [
             0.2222222222222222,
             "#7201a8"
            ],
            [
             0.3333333333333333,
             "#9c179e"
            ],
            [
             0.4444444444444444,
             "#bd3786"
            ],
            [
             0.5555555555555556,
             "#d8576b"
            ],
            [
             0.6666666666666666,
             "#ed7953"
            ],
            [
             0.7777777777777778,
             "#fb9f3a"
            ],
            [
             0.8888888888888888,
             "#fdca26"
            ],
            [
             1,
             "#f0f921"
            ]
           ]
          },
          "colorway": [
           "#636efa",
           "#EF553B",
           "#00cc96",
           "#ab63fa",
           "#FFA15A",
           "#19d3f3",
           "#FF6692",
           "#B6E880",
           "#FF97FF",
           "#FECB52"
          ],
          "font": {
           "color": "#2a3f5f"
          },
          "geo": {
           "bgcolor": "white",
           "lakecolor": "white",
           "landcolor": "#E5ECF6",
           "showlakes": true,
           "showland": true,
           "subunitcolor": "white"
          },
          "hoverlabel": {
           "align": "left"
          },
          "hovermode": "closest",
          "mapbox": {
           "style": "light"
          },
          "paper_bgcolor": "white",
          "plot_bgcolor": "#E5ECF6",
          "polar": {
           "angularaxis": {
            "gridcolor": "white",
            "linecolor": "white",
            "ticks": ""
           },
           "bgcolor": "#E5ECF6",
           "radialaxis": {
            "gridcolor": "white",
            "linecolor": "white",
            "ticks": ""
           }
          },
          "scene": {
           "xaxis": {
            "backgroundcolor": "#E5ECF6",
            "gridcolor": "white",
            "gridwidth": 2,
            "linecolor": "white",
            "showbackground": true,
            "ticks": "",
            "zerolinecolor": "white"
           },
           "yaxis": {
            "backgroundcolor": "#E5ECF6",
            "gridcolor": "white",
            "gridwidth": 2,
            "linecolor": "white",
            "showbackground": true,
            "ticks": "",
            "zerolinecolor": "white"
           },
           "zaxis": {
            "backgroundcolor": "#E5ECF6",
            "gridcolor": "white",
            "gridwidth": 2,
            "linecolor": "white",
            "showbackground": true,
            "ticks": "",
            "zerolinecolor": "white"
           }
          },
          "shapedefaults": {
           "line": {
            "color": "#2a3f5f"
           }
          },
          "ternary": {
           "aaxis": {
            "gridcolor": "white",
            "linecolor": "white",
            "ticks": ""
           },
           "baxis": {
            "gridcolor": "white",
            "linecolor": "white",
            "ticks": ""
           },
           "bgcolor": "#E5ECF6",
           "caxis": {
            "gridcolor": "white",
            "linecolor": "white",
            "ticks": ""
           }
          },
          "title": {
           "x": 0.05
          },
          "xaxis": {
           "automargin": true,
           "gridcolor": "white",
           "linecolor": "white",
           "ticks": "",
           "title": {
            "standoff": 15
           },
           "zerolinecolor": "white",
           "zerolinewidth": 2
          },
          "yaxis": {
           "automargin": true,
           "gridcolor": "white",
           "linecolor": "white",
           "ticks": "",
           "title": {
            "standoff": 15
           },
           "zerolinecolor": "white",
           "zerolinewidth": 2
          }
         }
        },
        "title": {
         "text": "Sales Revenue by SKU"
        },
        "xaxis": {
         "anchor": "y",
         "domain": [
          0,
          1
         ],
         "title": {
          "text": "SKU_ID"
         }
        },
        "yaxis": {
         "anchor": "x",
         "domain": [
          0,
          1
         ],
         "title": {
          "text": "Sales"
         }
        }
       }
      }
     },
     "metadata": {},
     "output_type": "display_data"
    },
    {
     "data": {
      "application/vnd.plotly.v1+json": {
       "config": {
        "plotlyServerURL": "https://plot.ly"
       },
       "data": [
        {
         "domain": {
          "x": [
           0,
           1
          ],
          "y": [
           0,
           1
          ]
         },
         "hovertemplate": "Channel=%{label}<br>Sales=%{value}<extra></extra>",
         "labels": [
          "E Commerce",
          "General Trade",
          "HoReCa",
          "Modern Trade",
          "Q Commerce"
         ],
         "legendgroup": "",
         "name": "",
         "showlegend": true,
         "type": "pie",
         "values": {
          "bdata": "AACAXf9rsUHNzAwa2JzXQc3MzAwxMKhBMzOz7N7kyEFmZmbm2wNCQQ==",
          "dtype": "f8"
         }
        }
       ],
       "layout": {
        "legend": {
         "tracegroupgap": 0
        },
        "template": {
         "data": {
          "bar": [
           {
            "error_x": {
             "color": "#2a3f5f"
            },
            "error_y": {
             "color": "#2a3f5f"
            },
            "marker": {
             "line": {
              "color": "#E5ECF6",
              "width": 0.5
             },
             "pattern": {
              "fillmode": "overlay",
              "size": 10,
              "solidity": 0.2
             }
            },
            "type": "bar"
           }
          ],
          "barpolar": [
           {
            "marker": {
             "line": {
              "color": "#E5ECF6",
              "width": 0.5
             },
             "pattern": {
              "fillmode": "overlay",
              "size": 10,
              "solidity": 0.2
             }
            },
            "type": "barpolar"
           }
          ],
          "carpet": [
           {
            "aaxis": {
             "endlinecolor": "#2a3f5f",
             "gridcolor": "white",
             "linecolor": "white",
             "minorgridcolor": "white",
             "startlinecolor": "#2a3f5f"
            },
            "baxis": {
             "endlinecolor": "#2a3f5f",
             "gridcolor": "white",
             "linecolor": "white",
             "minorgridcolor": "white",
             "startlinecolor": "#2a3f5f"
            },
            "type": "carpet"
           }
          ],
          "choropleth": [
           {
            "colorbar": {
             "outlinewidth": 0,
             "ticks": ""
            },
            "type": "choropleth"
           }
          ],
          "contour": [
           {
            "colorbar": {
             "outlinewidth": 0,
             "ticks": ""
            },
            "colorscale": [
             [
              0,
              "#0d0887"
             ],
             [
              0.1111111111111111,
              "#46039f"
             ],
             [
              0.2222222222222222,
              "#7201a8"
             ],
             [
              0.3333333333333333,
              "#9c179e"
             ],
             [
              0.4444444444444444,
              "#bd3786"
             ],
             [
              0.5555555555555556,
              "#d8576b"
             ],
             [
              0.6666666666666666,
              "#ed7953"
             ],
             [
              0.7777777777777778,
              "#fb9f3a"
             ],
             [
              0.8888888888888888,
              "#fdca26"
             ],
             [
              1,
              "#f0f921"
             ]
            ],
            "type": "contour"
           }
          ],
          "contourcarpet": [
           {
            "colorbar": {
             "outlinewidth": 0,
             "ticks": ""
            },
            "type": "contourcarpet"
           }
          ],
          "heatmap": [
           {
            "colorbar": {
             "outlinewidth": 0,
             "ticks": ""
            },
            "colorscale": [
             [
              0,
              "#0d0887"
             ],
             [
              0.1111111111111111,
              "#46039f"
             ],
             [
              0.2222222222222222,
              "#7201a8"
             ],
             [
              0.3333333333333333,
              "#9c179e"
             ],
             [
              0.4444444444444444,
              "#bd3786"
             ],
             [
              0.5555555555555556,
              "#d8576b"
             ],
             [
              0.6666666666666666,
              "#ed7953"
             ],
             [
              0.7777777777777778,
              "#fb9f3a"
             ],
             [
              0.8888888888888888,
              "#fdca26"
             ],
             [
              1,
              "#f0f921"
             ]
            ],
            "type": "heatmap"
           }
          ],
          "histogram": [
           {
            "marker": {
             "pattern": {
              "fillmode": "overlay",
              "size": 10,
              "solidity": 0.2
             }
            },
            "type": "histogram"
           }
          ],
          "histogram2d": [
           {
            "colorbar": {
             "outlinewidth": 0,
             "ticks": ""
            },
            "colorscale": [
             [
              0,
              "#0d0887"
             ],
             [
              0.1111111111111111,
              "#46039f"
             ],
             [
              0.2222222222222222,
              "#7201a8"
             ],
             [
              0.3333333333333333,
              "#9c179e"
             ],
             [
              0.4444444444444444,
              "#bd3786"
             ],
             [
              0.5555555555555556,
              "#d8576b"
             ],
             [
              0.6666666666666666,
              "#ed7953"
             ],
             [
              0.7777777777777778,
              "#fb9f3a"
             ],
             [
              0.8888888888888888,
              "#fdca26"
             ],
             [
              1,
              "#f0f921"
             ]
            ],
            "type": "histogram2d"
           }
          ],
          "histogram2dcontour": [
           {
            "colorbar": {
             "outlinewidth": 0,
             "ticks": ""
            },
            "colorscale": [
             [
              0,
              "#0d0887"
             ],
             [
              0.1111111111111111,
              "#46039f"
             ],
             [
              0.2222222222222222,
              "#7201a8"
             ],
             [
              0.3333333333333333,
              "#9c179e"
             ],
             [
              0.4444444444444444,
              "#bd3786"
             ],
             [
              0.5555555555555556,
              "#d8576b"
             ],
             [
              0.6666666666666666,
              "#ed7953"
             ],
             [
              0.7777777777777778,
              "#fb9f3a"
             ],
             [
              0.8888888888888888,
              "#fdca26"
             ],
             [
              1,
              "#f0f921"
             ]
            ],
            "type": "histogram2dcontour"
           }
          ],
          "mesh3d": [
           {
            "colorbar": {
             "outlinewidth": 0,
             "ticks": ""
            },
            "type": "mesh3d"
           }
          ],
          "parcoords": [
           {
            "line": {
             "colorbar": {
              "outlinewidth": 0,
              "ticks": ""
             }
            },
            "type": "parcoords"
           }
          ],
          "pie": [
           {
            "automargin": true,
            "type": "pie"
           }
          ],
          "scatter": [
           {
            "fillpattern": {
             "fillmode": "overlay",
             "size": 10,
             "solidity": 0.2
            },
            "type": "scatter"
           }
          ],
          "scatter3d": [
           {
            "line": {
             "colorbar": {
              "outlinewidth": 0,
              "ticks": ""
             }
            },
            "marker": {
             "colorbar": {
              "outlinewidth": 0,
              "ticks": ""
             }
            },
            "type": "scatter3d"
           }
          ],
          "scattercarpet": [
           {
            "marker": {
             "colorbar": {
              "outlinewidth": 0,
              "ticks": ""
             }
            },
            "type": "scattercarpet"
           }
          ],
          "scattergeo": [
           {
            "marker": {
             "colorbar": {
              "outlinewidth": 0,
              "ticks": ""
             }
            },
            "type": "scattergeo"
           }
          ],
          "scattergl": [
           {
            "marker": {
             "colorbar": {
              "outlinewidth": 0,
              "ticks": ""
             }
            },
            "type": "scattergl"
           }
          ],
          "scattermap": [
           {
            "marker": {
             "colorbar": {
              "outlinewidth": 0,
              "ticks": ""
             }
            },
            "type": "scattermap"
           }
          ],
          "scattermapbox": [
           {
            "marker": {
             "colorbar": {
              "outlinewidth": 0,
              "ticks": ""
             }
            },
            "type": "scattermapbox"
           }
          ],
          "scatterpolar": [
           {
            "marker": {
             "colorbar": {
              "outlinewidth": 0,
              "ticks": ""
             }
            },
            "type": "scatterpolar"
           }
          ],
          "scatterpolargl": [
           {
            "marker": {
             "colorbar": {
              "outlinewidth": 0,
              "ticks": ""
             }
            },
            "type": "scatterpolargl"
           }
          ],
          "scatterternary": [
           {
            "marker": {
             "colorbar": {
              "outlinewidth": 0,
              "ticks": ""
             }
            },
            "type": "scatterternary"
           }
          ],
          "surface": [
           {
            "colorbar": {
             "outlinewidth": 0,
             "ticks": ""
            },
            "colorscale": [
             [
              0,
              "#0d0887"
             ],
             [
              0.1111111111111111,
              "#46039f"
             ],
             [
              0.2222222222222222,
              "#7201a8"
             ],
             [
              0.3333333333333333,
              "#9c179e"
             ],
             [
              0.4444444444444444,
              "#bd3786"
             ],
             [
              0.5555555555555556,
              "#d8576b"
             ],
             [
              0.6666666666666666,
              "#ed7953"
             ],
             [
              0.7777777777777778,
              "#fb9f3a"
             ],
             [
              0.8888888888888888,
              "#fdca26"
             ],
             [
              1,
              "#f0f921"
             ]
            ],
            "type": "surface"
           }
          ],
          "table": [
           {
            "cells": {
             "fill": {
              "color": "#EBF0F8"
             },
             "line": {
              "color": "white"
             }
            },
            "header": {
             "fill": {
              "color": "#C8D4E3"
             },
             "line": {
              "color": "white"
             }
            },
            "type": "table"
           }
          ]
         },
         "layout": {
          "annotationdefaults": {
           "arrowcolor": "#2a3f5f",
           "arrowhead": 0,
           "arrowwidth": 1
          },
          "autotypenumbers": "strict",
          "coloraxis": {
           "colorbar": {
            "outlinewidth": 0,
            "ticks": ""
           }
          },
          "colorscale": {
           "diverging": [
            [
             0,
             "#8e0152"
            ],
            [
             0.1,
             "#c51b7d"
            ],
            [
             0.2,
             "#de77ae"
            ],
            [
             0.3,
             "#f1b6da"
            ],
            [
             0.4,
             "#fde0ef"
            ],
            [
             0.5,
             "#f7f7f7"
            ],
            [
             0.6,
             "#e6f5d0"
            ],
            [
             0.7,
             "#b8e186"
            ],
            [
             0.8,
             "#7fbc41"
            ],
            [
             0.9,
             "#4d9221"
            ],
            [
             1,
             "#276419"
            ]
           ],
           "sequential": [
            [
             0,
             "#0d0887"
            ],
            [
             0.1111111111111111,
             "#46039f"
            ],
            [
             0.2222222222222222,
             "#7201a8"
            ],
            [
             0.3333333333333333,
             "#9c179e"
            ],
            [
             0.4444444444444444,
             "#bd3786"
            ],
            [
             0.5555555555555556,
             "#d8576b"
            ],
            [
             0.6666666666666666,
             "#ed7953"
            ],
            [
             0.7777777777777778,
             "#fb9f3a"
            ],
            [
             0.8888888888888888,
             "#fdca26"
            ],
            [
             1,
             "#f0f921"
            ]
           ],
           "sequentialminus": [
            [
             0,
             "#0d0887"
            ],
            [
             0.1111111111111111,
             "#46039f"
            ],
            [
             0.2222222222222222,
             "#7201a8"
            ],
            [
             0.3333333333333333,
             "#9c179e"
            ],
            [
             0.4444444444444444,
             "#bd3786"
            ],
            [
             0.5555555555555556,
             "#d8576b"
            ],
            [
             0.6666666666666666,
             "#ed7953"
            ],
            [
             0.7777777777777778,
             "#fb9f3a"
            ],
            [
             0.8888888888888888,
             "#fdca26"
            ],
            [
             1,
             "#f0f921"
            ]
           ]
          },
          "colorway": [
           "#636efa",
           "#EF553B",
           "#00cc96",
           "#ab63fa",
           "#FFA15A",
           "#19d3f3",
           "#FF6692",
           "#B6E880",
           "#FF97FF",
           "#FECB52"
          ],
          "font": {
           "color": "#2a3f5f"
          },
          "geo": {
           "bgcolor": "white",
           "lakecolor": "white",
           "landcolor": "#E5ECF6",
           "showlakes": true,
           "showland": true,
           "subunitcolor": "white"
          },
          "hoverlabel": {
           "align": "left"
          },
          "hovermode": "closest",
          "mapbox": {
           "style": "light"
          },
          "paper_bgcolor": "white",
          "plot_bgcolor": "#E5ECF6",
          "polar": {
           "angularaxis": {
            "gridcolor": "white",
            "linecolor": "white",
            "ticks": ""
           },
           "bgcolor": "#E5ECF6",
           "radialaxis": {
            "gridcolor": "white",
            "linecolor": "white",
            "ticks": ""
           }
          },
          "scene": {
           "xaxis": {
            "backgroundcolor": "#E5ECF6",
            "gridcolor": "white",
            "gridwidth": 2,
            "linecolor": "white",
            "showbackground": true,
            "ticks": "",
            "zerolinecolor": "white"
           },
           "yaxis": {
            "backgroundcolor": "#E5ECF6",
            "gridcolor": "white",
            "gridwidth": 2,
            "linecolor": "white",
            "showbackground": true,
            "ticks": "",
            "zerolinecolor": "white"
           },
           "zaxis": {
            "backgroundcolor": "#E5ECF6",
            "gridcolor": "white",
            "gridwidth": 2,
            "linecolor": "white",
            "showbackground": true,
            "ticks": "",
            "zerolinecolor": "white"
           }
          },
          "shapedefaults": {
           "line": {
            "color": "#2a3f5f"
           }
          },
          "ternary": {
           "aaxis": {
            "gridcolor": "white",
            "linecolor": "white",
            "ticks": ""
           },
           "baxis": {
            "gridcolor": "white",
            "linecolor": "white",
            "ticks": ""
           },
           "bgcolor": "#E5ECF6",
           "caxis": {
            "gridcolor": "white",
            "linecolor": "white",
            "ticks": ""
           }
          },
          "title": {
           "x": 0.05
          },
          "xaxis": {
           "automargin": true,
           "gridcolor": "white",
           "linecolor": "white",
           "ticks": "",
           "title": {
            "standoff": 15
           },
           "zerolinecolor": "white",
           "zerolinewidth": 2
          },
          "yaxis": {
           "automargin": true,
           "gridcolor": "white",
           "linecolor": "white",
           "ticks": "",
           "title": {
            "standoff": 15
           },
           "zerolinecolor": "white",
           "zerolinewidth": 2
          }
         }
        },
        "title": {
         "text": "Sales Distribution by Channel"
        }
       }
      }
     },
     "metadata": {},
     "output_type": "display_data"
    },
    {
     "data": {
      "application/vnd.plotly.v1+json": {
       "config": {
        "plotlyServerURL": "https://plot.ly"
       },
       "data": [
        {
         "domain": {
          "x": [
           0,
           1
          ],
          "y": [
           0,
           1
          ]
         },
         "hovertemplate": "Channel=%{label}<br>Units_Sold=%{value}<extra></extra>",
         "labels": [
          "E Commerce",
          "General Trade",
          "HoReCa",
          "Modern Trade",
          "Q Commerce"
         ],
         "legendgroup": "",
         "name": "",
         "showlegend": true,
         "type": "pie",
         "values": {
          "bdata": "A9QHAYDXfgVIdmIAawDoAboZeAA=",
          "dtype": "i4"
         }
        }
       ],
       "layout": {
        "legend": {
         "tracegroupgap": 0
        },
        "template": {
         "data": {
          "bar": [
           {
            "error_x": {
             "color": "#2a3f5f"
            },
            "error_y": {
             "color": "#2a3f5f"
            },
            "marker": {
             "line": {
              "color": "#E5ECF6",
              "width": 0.5
             },
             "pattern": {
              "fillmode": "overlay",
              "size": 10,
              "solidity": 0.2
             }
            },
            "type": "bar"
           }
          ],
          "barpolar": [
           {
            "marker": {
             "line": {
              "color": "#E5ECF6",
              "width": 0.5
             },
             "pattern": {
              "fillmode": "overlay",
              "size": 10,
              "solidity": 0.2
             }
            },
            "type": "barpolar"
           }
          ],
          "carpet": [
           {
            "aaxis": {
             "endlinecolor": "#2a3f5f",
             "gridcolor": "white",
             "linecolor": "white",
             "minorgridcolor": "white",
             "startlinecolor": "#2a3f5f"
            },
            "baxis": {
             "endlinecolor": "#2a3f5f",
             "gridcolor": "white",
             "linecolor": "white",
             "minorgridcolor": "white",
             "startlinecolor": "#2a3f5f"
            },
            "type": "carpet"
           }
          ],
          "choropleth": [
           {
            "colorbar": {
             "outlinewidth": 0,
             "ticks": ""
            },
            "type": "choropleth"
           }
          ],
          "contour": [
           {
            "colorbar": {
             "outlinewidth": 0,
             "ticks": ""
            },
            "colorscale": [
             [
              0,
              "#0d0887"
             ],
             [
              0.1111111111111111,
              "#46039f"
             ],
             [
              0.2222222222222222,
              "#7201a8"
             ],
             [
              0.3333333333333333,
              "#9c179e"
             ],
             [
              0.4444444444444444,
              "#bd3786"
             ],
             [
              0.5555555555555556,
              "#d8576b"
             ],
             [
              0.6666666666666666,
              "#ed7953"
             ],
             [
              0.7777777777777778,
              "#fb9f3a"
             ],
             [
              0.8888888888888888,
              "#fdca26"
             ],
             [
              1,
              "#f0f921"
             ]
            ],
            "type": "contour"
           }
          ],
          "contourcarpet": [
           {
            "colorbar": {
             "outlinewidth": 0,
             "ticks": ""
            },
            "type": "contourcarpet"
           }
          ],
          "heatmap": [
           {
            "colorbar": {
             "outlinewidth": 0,
             "ticks": ""
            },
            "colorscale": [
             [
              0,
              "#0d0887"
             ],
             [
              0.1111111111111111,
              "#46039f"
             ],
             [
              0.2222222222222222,
              "#7201a8"
             ],
             [
              0.3333333333333333,
              "#9c179e"
             ],
             [
              0.4444444444444444,
              "#bd3786"
             ],
             [
              0.5555555555555556,
              "#d8576b"
             ],
             [
              0.6666666666666666,
              "#ed7953"
             ],
             [
              0.7777777777777778,
              "#fb9f3a"
             ],
             [
              0.8888888888888888,
              "#fdca26"
             ],
             [
              1,
              "#f0f921"
             ]
            ],
            "type": "heatmap"
           }
          ],
          "histogram": [
           {
            "marker": {
             "pattern": {
              "fillmode": "overlay",
              "size": 10,
              "solidity": 0.2
             }
            },
            "type": "histogram"
           }
          ],
          "histogram2d": [
           {
            "colorbar": {
             "outlinewidth": 0,
             "ticks": ""
            },
            "colorscale": [
             [
              0,
              "#0d0887"
             ],
             [
              0.1111111111111111,
              "#46039f"
             ],
             [
              0.2222222222222222,
              "#7201a8"
             ],
             [
              0.3333333333333333,
              "#9c179e"
             ],
             [
              0.4444444444444444,
              "#bd3786"
             ],
             [
              0.5555555555555556,
              "#d8576b"
             ],
             [
              0.6666666666666666,
              "#ed7953"
             ],
             [
              0.7777777777777778,
              "#fb9f3a"
             ],
             [
              0.8888888888888888,
              "#fdca26"
             ],
             [
              1,
              "#f0f921"
             ]
            ],
            "type": "histogram2d"
           }
          ],
          "histogram2dcontour": [
           {
            "colorbar": {
             "outlinewidth": 0,
             "ticks": ""
            },
            "colorscale": [
             [
              0,
              "#0d0887"
             ],
             [
              0.1111111111111111,
              "#46039f"
             ],
             [
              0.2222222222222222,
              "#7201a8"
             ],
             [
              0.3333333333333333,
              "#9c179e"
             ],
             [
              0.4444444444444444,
              "#bd3786"
             ],
             [
              0.5555555555555556,
              "#d8576b"
             ],
             [
              0.6666666666666666,
              "#ed7953"
             ],
             [
              0.7777777777777778,
              "#fb9f3a"
             ],
             [
              0.8888888888888888,
              "#fdca26"
             ],
             [
              1,
              "#f0f921"
             ]
            ],
            "type": "histogram2dcontour"
           }
          ],
          "mesh3d": [
           {
            "colorbar": {
             "outlinewidth": 0,
             "ticks": ""
            },
            "type": "mesh3d"
           }
          ],
          "parcoords": [
           {
            "line": {
             "colorbar": {
              "outlinewidth": 0,
              "ticks": ""
             }
            },
            "type": "parcoords"
           }
          ],
          "pie": [
           {
            "automargin": true,
            "type": "pie"
           }
          ],
          "scatter": [
           {
            "fillpattern": {
             "fillmode": "overlay",
             "size": 10,
             "solidity": 0.2
            },
            "type": "scatter"
           }
          ],
          "scatter3d": [
           {
            "line": {
             "colorbar": {
              "outlinewidth": 0,
              "ticks": ""
             }
            },
            "marker": {
             "colorbar": {
              "outlinewidth": 0,
              "ticks": ""
             }
            },
            "type": "scatter3d"
           }
          ],
          "scattercarpet": [
           {
            "marker": {
             "colorbar": {
              "outlinewidth": 0,
              "ticks": ""
             }
            },
            "type": "scattercarpet"
           }
          ],
          "scattergeo": [
           {
            "marker": {
             "colorbar": {
              "outlinewidth": 0,
              "ticks": ""
             }
            },
            "type": "scattergeo"
           }
          ],
          "scattergl": [
           {
            "marker": {
             "colorbar": {
              "outlinewidth": 0,
              "ticks": ""
             }
            },
            "type": "scattergl"
           }
          ],
          "scattermap": [
           {
            "marker": {
             "colorbar": {
              "outlinewidth": 0,
              "ticks": ""
             }
            },
            "type": "scattermap"
           }
          ],
          "scattermapbox": [
           {
            "marker": {
             "colorbar": {
              "outlinewidth": 0,
              "ticks": ""
             }
            },
            "type": "scattermapbox"
           }
          ],
          "scatterpolar": [
           {
            "marker": {
             "colorbar": {
              "outlinewidth": 0,
              "ticks": ""
             }
            },
            "type": "scatterpolar"
           }
          ],
          "scatterpolargl": [
           {
            "marker": {
             "colorbar": {
              "outlinewidth": 0,
              "ticks": ""
             }
            },
            "type": "scatterpolargl"
           }
          ],
          "scatterternary": [
           {
            "marker": {
             "colorbar": {
              "outlinewidth": 0,
              "ticks": ""
             }
            },
            "type": "scatterternary"
           }
          ],
          "surface": [
           {
            "colorbar": {
             "outlinewidth": 0,
             "ticks": ""
            },
            "colorscale": [
             [
              0,
              "#0d0887"
             ],
             [
              0.1111111111111111,
              "#46039f"
             ],
             [
              0.2222222222222222,
              "#7201a8"
             ],
             [
              0.3333333333333333,
              "#9c179e"
             ],
             [
              0.4444444444444444,
              "#bd3786"
             ],
             [
              0.5555555555555556,
              "#d8576b"
             ],
             [
              0.6666666666666666,
              "#ed7953"
             ],
             [
              0.7777777777777778,
              "#fb9f3a"
             ],
             [
              0.8888888888888888,
              "#fdca26"
             ],
             [
              1,
              "#f0f921"
             ]
            ],
            "type": "surface"
           }
          ],
          "table": [
           {
            "cells": {
             "fill": {
              "color": "#EBF0F8"
             },
             "line": {
              "color": "white"
             }
            },
            "header": {
             "fill": {
              "color": "#C8D4E3"
             },
             "line": {
              "color": "white"
             }
            },
            "type": "table"
           }
          ]
         },
         "layout": {
          "annotationdefaults": {
           "arrowcolor": "#2a3f5f",
           "arrowhead": 0,
           "arrowwidth": 1
          },
          "autotypenumbers": "strict",
          "coloraxis": {
           "colorbar": {
            "outlinewidth": 0,
            "ticks": ""
           }
          },
          "colorscale": {
           "diverging": [
            [
             0,
             "#8e0152"
            ],
            [
             0.1,
             "#c51b7d"
            ],
            [
             0.2,
             "#de77ae"
            ],
            [
             0.3,
             "#f1b6da"
            ],
            [
             0.4,
             "#fde0ef"
            ],
            [
             0.5,
             "#f7f7f7"
            ],
            [
             0.6,
             "#e6f5d0"
            ],
            [
             0.7,
             "#b8e186"
            ],
            [
             0.8,
             "#7fbc41"
            ],
            [
             0.9,
             "#4d9221"
            ],
            [
             1,
             "#276419"
            ]
           ],
           "sequential": [
            [
             0,
             "#0d0887"
            ],
            [
             0.1111111111111111,
             "#46039f"
            ],
            [
             0.2222222222222222,
             "#7201a8"
            ],
            [
             0.3333333333333333,
             "#9c179e"
            ],
            [
             0.4444444444444444,
             "#bd3786"
            ],
            [
             0.5555555555555556,
             "#d8576b"
            ],
            [
             0.6666666666666666,
             "#ed7953"
            ],
            [
             0.7777777777777778,
             "#fb9f3a"
            ],
            [
             0.8888888888888888,
             "#fdca26"
            ],
            [
             1,
             "#f0f921"
            ]
           ],
           "sequentialminus": [
            [
             0,
             "#0d0887"
            ],
            [
             0.1111111111111111,
             "#46039f"
            ],
            [
             0.2222222222222222,
             "#7201a8"
            ],
            [
             0.3333333333333333,
             "#9c179e"
            ],
            [
             0.4444444444444444,
             "#bd3786"
            ],
            [
             0.5555555555555556,
             "#d8576b"
            ],
            [
             0.6666666666666666,
             "#ed7953"
            ],
            [
             0.7777777777777778,
             "#fb9f3a"
            ],
            [
             0.8888888888888888,
             "#fdca26"
            ],
            [
             1,
             "#f0f921"
            ]
           ]
          },
          "colorway": [
           "#636efa",
           "#EF553B",
           "#00cc96",
           "#ab63fa",
           "#FFA15A",
           "#19d3f3",
           "#FF6692",
           "#B6E880",
           "#FF97FF",
           "#FECB52"
          ],
          "font": {
           "color": "#2a3f5f"
          },
          "geo": {
           "bgcolor": "white",
           "lakecolor": "white",
           "landcolor": "#E5ECF6",
           "showlakes": true,
           "showland": true,
           "subunitcolor": "white"
          },
          "hoverlabel": {
           "align": "left"
          },
          "hovermode": "closest",
          "mapbox": {
           "style": "light"
          },
          "paper_bgcolor": "white",
          "plot_bgcolor": "#E5ECF6",
          "polar": {
           "angularaxis": {
            "gridcolor": "white",
            "linecolor": "white",
            "ticks": ""
           },
           "bgcolor": "#E5ECF6",
           "radialaxis": {
            "gridcolor": "white",
            "linecolor": "white",
            "ticks": ""
           }
          },
          "scene": {
           "xaxis": {
            "backgroundcolor": "#E5ECF6",
            "gridcolor": "white",
            "gridwidth": 2,
            "linecolor": "white",
            "showbackground": true,
            "ticks": "",
            "zerolinecolor": "white"
           },
           "yaxis": {
            "backgroundcolor": "#E5ECF6",
            "gridcolor": "white",
            "gridwidth": 2,
            "linecolor": "white",
            "showbackground": true,
            "ticks": "",
            "zerolinecolor": "white"
           },
           "zaxis": {
            "backgroundcolor": "#E5ECF6",
            "gridcolor": "white",
            "gridwidth": 2,
            "linecolor": "white",
            "showbackground": true,
            "ticks": "",
            "zerolinecolor": "white"
           }
          },
          "shapedefaults": {
           "line": {
            "color": "#2a3f5f"
           }
          },
          "ternary": {
           "aaxis": {
            "gridcolor": "white",
            "linecolor": "white",
            "ticks": ""
           },
           "baxis": {
            "gridcolor": "white",
            "linecolor": "white",
            "ticks": ""
           },
           "bgcolor": "#E5ECF6",
           "caxis": {
            "gridcolor": "white",
            "linecolor": "white",
            "ticks": ""
           }
          },
          "title": {
           "x": 0.05
          },
          "xaxis": {
           "automargin": true,
           "gridcolor": "white",
           "linecolor": "white",
           "ticks": "",
           "title": {
            "standoff": 15
           },
           "zerolinecolor": "white",
           "zerolinewidth": 2
          },
          "yaxis": {
           "automargin": true,
           "gridcolor": "white",
           "linecolor": "white",
           "ticks": "",
           "title": {
            "standoff": 15
           },
           "zerolinecolor": "white",
           "zerolinewidth": 2
          }
         }
        },
        "title": {
         "text": "Units_Sold Distribution by Channel"
        }
       }
      }
     },
     "metadata": {},
     "output_type": "display_data"
    },
    {
     "data": {
      "application/vnd.plotly.v1+json": {
       "config": {
        "plotlyServerURL": "https://plot.ly"
       },
       "data": [
        {
         "domain": {
          "x": [
           0,
           1
          ],
          "y": [
           0,
           1
          ]
         },
         "hovertemplate": "City_ID=%{label}<br>Sales=%{value}<extra></extra>",
         "labels": [
          "CT001",
          "CT002",
          "CT003",
          "CT004",
          "CT005",
          "CT006",
          "CT007",
          "CT008",
          "CT009",
          "CT010",
          "CT011",
          "CT012",
          "CT013",
          "CT014",
          "CT015",
          "CT016",
          "CT017",
          "CT018",
          "CT019",
          "CT020"
         ],
         "legendgroup": "",
         "name": "",
         "showlegend": true,
         "type": "pie",
         "values": {
          "bdata": "zczMskefqUEAAAAKYyimQQAAAHhh8pJBmpmZeyRBsEGamZnNHXejQWZmZou8NKZBMzMzFubhoEEAAADE4qyiQZqZmTFfaI9BzczMiJJQh0EAAAAHo7mkQc3MzDjD4apBZmZmhuFTkEGamZl/5V2jQc3MzN8+/qpBzczMDzmBoEEAAAAXwJ2lQZqZmQmFTJNBAAAAbB15i0GamZl/8rKUQQ==",
          "dtype": "f8"
         }
        }
       ],
       "layout": {
        "legend": {
         "tracegroupgap": 0
        },
        "template": {
         "data": {
          "bar": [
           {
            "error_x": {
             "color": "#2a3f5f"
            },
            "error_y": {
             "color": "#2a3f5f"
            },
            "marker": {
             "line": {
              "color": "#E5ECF6",
              "width": 0.5
             },
             "pattern": {
              "fillmode": "overlay",
              "size": 10,
              "solidity": 0.2
             }
            },
            "type": "bar"
           }
          ],
          "barpolar": [
           {
            "marker": {
             "line": {
              "color": "#E5ECF6",
              "width": 0.5
             },
             "pattern": {
              "fillmode": "overlay",
              "size": 10,
              "solidity": 0.2
             }
            },
            "type": "barpolar"
           }
          ],
          "carpet": [
           {
            "aaxis": {
             "endlinecolor": "#2a3f5f",
             "gridcolor": "white",
             "linecolor": "white",
             "minorgridcolor": "white",
             "startlinecolor": "#2a3f5f"
            },
            "baxis": {
             "endlinecolor": "#2a3f5f",
             "gridcolor": "white",
             "linecolor": "white",
             "minorgridcolor": "white",
             "startlinecolor": "#2a3f5f"
            },
            "type": "carpet"
           }
          ],
          "choropleth": [
           {
            "colorbar": {
             "outlinewidth": 0,
             "ticks": ""
            },
            "type": "choropleth"
           }
          ],
          "contour": [
           {
            "colorbar": {
             "outlinewidth": 0,
             "ticks": ""
            },
            "colorscale": [
             [
              0,
              "#0d0887"
             ],
             [
              0.1111111111111111,
              "#46039f"
             ],
             [
              0.2222222222222222,
              "#7201a8"
             ],
             [
              0.3333333333333333,
              "#9c179e"
             ],
             [
              0.4444444444444444,
              "#bd3786"
             ],
             [
              0.5555555555555556,
              "#d8576b"
             ],
             [
              0.6666666666666666,
              "#ed7953"
             ],
             [
              0.7777777777777778,
              "#fb9f3a"
             ],
             [
              0.8888888888888888,
              "#fdca26"
             ],
             [
              1,
              "#f0f921"
             ]
            ],
            "type": "contour"
           }
          ],
          "contourcarpet": [
           {
            "colorbar": {
             "outlinewidth": 0,
             "ticks": ""
            },
            "type": "contourcarpet"
           }
          ],
          "heatmap": [
           {
            "colorbar": {
             "outlinewidth": 0,
             "ticks": ""
            },
            "colorscale": [
             [
              0,
              "#0d0887"
             ],
             [
              0.1111111111111111,
              "#46039f"
             ],
             [
              0.2222222222222222,
              "#7201a8"
             ],
             [
              0.3333333333333333,
              "#9c179e"
             ],
             [
              0.4444444444444444,
              "#bd3786"
             ],
             [
              0.5555555555555556,
              "#d8576b"
             ],
             [
              0.6666666666666666,
              "#ed7953"
             ],
             [
              0.7777777777777778,
              "#fb9f3a"
             ],
             [
              0.8888888888888888,
              "#fdca26"
             ],
             [
              1,
              "#f0f921"
             ]
            ],
            "type": "heatmap"
           }
          ],
          "histogram": [
           {
            "marker": {
             "pattern": {
              "fillmode": "overlay",
              "size": 10,
              "solidity": 0.2
             }
            },
            "type": "histogram"
           }
          ],
          "histogram2d": [
           {
            "colorbar": {
             "outlinewidth": 0,
             "ticks": ""
            },
            "colorscale": [
             [
              0,
              "#0d0887"
             ],
             [
              0.1111111111111111,
              "#46039f"
             ],
             [
              0.2222222222222222,
              "#7201a8"
             ],
             [
              0.3333333333333333,
              "#9c179e"
             ],
             [
              0.4444444444444444,
              "#bd3786"
             ],
             [
              0.5555555555555556,
              "#d8576b"
             ],
             [
              0.6666666666666666,
              "#ed7953"
             ],
             [
              0.7777777777777778,
              "#fb9f3a"
             ],
             [
              0.8888888888888888,
              "#fdca26"
             ],
             [
              1,
              "#f0f921"
             ]
            ],
            "type": "histogram2d"
           }
          ],
          "histogram2dcontour": [
           {
            "colorbar": {
             "outlinewidth": 0,
             "ticks": ""
            },
            "colorscale": [
             [
              0,
              "#0d0887"
             ],
             [
              0.1111111111111111,
              "#46039f"
             ],
             [
              0.2222222222222222,
              "#7201a8"
             ],
             [
              0.3333333333333333,
              "#9c179e"
             ],
             [
              0.4444444444444444,
              "#bd3786"
             ],
             [
              0.5555555555555556,
              "#d8576b"
             ],
             [
              0.6666666666666666,
              "#ed7953"
             ],
             [
              0.7777777777777778,
              "#fb9f3a"
             ],
             [
              0.8888888888888888,
              "#fdca26"
             ],
             [
              1,
              "#f0f921"
             ]
            ],
            "type": "histogram2dcontour"
           }
          ],
          "mesh3d": [
           {
            "colorbar": {
             "outlinewidth": 0,
             "ticks": ""
            },
            "type": "mesh3d"
           }
          ],
          "parcoords": [
           {
            "line": {
             "colorbar": {
              "outlinewidth": 0,
              "ticks": ""
             }
            },
            "type": "parcoords"
           }
          ],
          "pie": [
           {
            "automargin": true,
            "type": "pie"
           }
          ],
          "scatter": [
           {
            "fillpattern": {
             "fillmode": "overlay",
             "size": 10,
             "solidity": 0.2
            },
            "type": "scatter"
           }
          ],
          "scatter3d": [
           {
            "line": {
             "colorbar": {
              "outlinewidth": 0,
              "ticks": ""
             }
            },
            "marker": {
             "colorbar": {
              "outlinewidth": 0,
              "ticks": ""
             }
            },
            "type": "scatter3d"
           }
          ],
          "scattercarpet": [
           {
            "marker": {
             "colorbar": {
              "outlinewidth": 0,
              "ticks": ""
             }
            },
            "type": "scattercarpet"
           }
          ],
          "scattergeo": [
           {
            "marker": {
             "colorbar": {
              "outlinewidth": 0,
              "ticks": ""
             }
            },
            "type": "scattergeo"
           }
          ],
          "scattergl": [
           {
            "marker": {
             "colorbar": {
              "outlinewidth": 0,
              "ticks": ""
             }
            },
            "type": "scattergl"
           }
          ],
          "scattermap": [
           {
            "marker": {
             "colorbar": {
              "outlinewidth": 0,
              "ticks": ""
             }
            },
            "type": "scattermap"
           }
          ],
          "scattermapbox": [
           {
            "marker": {
             "colorbar": {
              "outlinewidth": 0,
              "ticks": ""
             }
            },
            "type": "scattermapbox"
           }
          ],
          "scatterpolar": [
           {
            "marker": {
             "colorbar": {
              "outlinewidth": 0,
              "ticks": ""
             }
            },
            "type": "scatterpolar"
           }
          ],
          "scatterpolargl": [
           {
            "marker": {
             "colorbar": {
              "outlinewidth": 0,
              "ticks": ""
             }
            },
            "type": "scatterpolargl"
           }
          ],
          "scatterternary": [
           {
            "marker": {
             "colorbar": {
              "outlinewidth": 0,
              "ticks": ""
             }
            },
            "type": "scatterternary"
           }
          ],
          "surface": [
           {
            "colorbar": {
             "outlinewidth": 0,
             "ticks": ""
            },
            "colorscale": [
             [
              0,
              "#0d0887"
             ],
             [
              0.1111111111111111,
              "#46039f"
             ],
             [
              0.2222222222222222,
              "#7201a8"
             ],
             [
              0.3333333333333333,
              "#9c179e"
             ],
             [
              0.4444444444444444,
              "#bd3786"
             ],
             [
              0.5555555555555556,
              "#d8576b"
             ],
             [
              0.6666666666666666,
              "#ed7953"
             ],
             [
              0.7777777777777778,
              "#fb9f3a"
             ],
             [
              0.8888888888888888,
              "#fdca26"
             ],
             [
              1,
              "#f0f921"
             ]
            ],
            "type": "surface"
           }
          ],
          "table": [
           {
            "cells": {
             "fill": {
              "color": "#EBF0F8"
             },
             "line": {
              "color": "white"
             }
            },
            "header": {
             "fill": {
              "color": "#C8D4E3"
             },
             "line": {
              "color": "white"
             }
            },
            "type": "table"
           }
          ]
         },
         "layout": {
          "annotationdefaults": {
           "arrowcolor": "#2a3f5f",
           "arrowhead": 0,
           "arrowwidth": 1
          },
          "autotypenumbers": "strict",
          "coloraxis": {
           "colorbar": {
            "outlinewidth": 0,
            "ticks": ""
           }
          },
          "colorscale": {
           "diverging": [
            [
             0,
             "#8e0152"
            ],
            [
             0.1,
             "#c51b7d"
            ],
            [
             0.2,
             "#de77ae"
            ],
            [
             0.3,
             "#f1b6da"
            ],
            [
             0.4,
             "#fde0ef"
            ],
            [
             0.5,
             "#f7f7f7"
            ],
            [
             0.6,
             "#e6f5d0"
            ],
            [
             0.7,
             "#b8e186"
            ],
            [
             0.8,
             "#7fbc41"
            ],
            [
             0.9,
             "#4d9221"
            ],
            [
             1,
             "#276419"
            ]
           ],
           "sequential": [
            [
             0,
             "#0d0887"
            ],
            [
             0.1111111111111111,
             "#46039f"
            ],
            [
             0.2222222222222222,
             "#7201a8"
            ],
            [
             0.3333333333333333,
             "#9c179e"
            ],
            [
             0.4444444444444444,
             "#bd3786"
            ],
            [
             0.5555555555555556,
             "#d8576b"
            ],
            [
             0.6666666666666666,
             "#ed7953"
            ],
            [
             0.7777777777777778,
             "#fb9f3a"
            ],
            [
             0.8888888888888888,
             "#fdca26"
            ],
            [
             1,
             "#f0f921"
            ]
           ],
           "sequentialminus": [
            [
             0,
             "#0d0887"
            ],
            [
             0.1111111111111111,
             "#46039f"
            ],
            [
             0.2222222222222222,
             "#7201a8"
            ],
            [
             0.3333333333333333,
             "#9c179e"
            ],
            [
             0.4444444444444444,
             "#bd3786"
            ],
            [
             0.5555555555555556,
             "#d8576b"
            ],
            [
             0.6666666666666666,
             "#ed7953"
            ],
            [
             0.7777777777777778,
             "#fb9f3a"
            ],
            [
             0.8888888888888888,
             "#fdca26"
            ],
            [
             1,
             "#f0f921"
            ]
           ]
          },
          "colorway": [
           "#636efa",
           "#EF553B",
           "#00cc96",
           "#ab63fa",
           "#FFA15A",
           "#19d3f3",
           "#FF6692",
           "#B6E880",
           "#FF97FF",
           "#FECB52"
          ],
          "font": {
           "color": "#2a3f5f"
          },
          "geo": {
           "bgcolor": "white",
           "lakecolor": "white",
           "landcolor": "#E5ECF6",
           "showlakes": true,
           "showland": true,
           "subunitcolor": "white"
          },
          "hoverlabel": {
           "align": "left"
          },
          "hovermode": "closest",
          "mapbox": {
           "style": "light"
          },
          "paper_bgcolor": "white",
          "plot_bgcolor": "#E5ECF6",
          "polar": {
           "angularaxis": {
            "gridcolor": "white",
            "linecolor": "white",
            "ticks": ""
           },
           "bgcolor": "#E5ECF6",
           "radialaxis": {
            "gridcolor": "white",
            "linecolor": "white",
            "ticks": ""
           }
          },
          "scene": {
           "xaxis": {
            "backgroundcolor": "#E5ECF6",
            "gridcolor": "white",
            "gridwidth": 2,
            "linecolor": "white",
            "showbackground": true,
            "ticks": "",
            "zerolinecolor": "white"
           },
           "yaxis": {
            "backgroundcolor": "#E5ECF6",
            "gridcolor": "white",
            "gridwidth": 2,
            "linecolor": "white",
            "showbackground": true,
            "ticks": "",
            "zerolinecolor": "white"
           },
           "zaxis": {
            "backgroundcolor": "#E5ECF6",
            "gridcolor": "white",
            "gridwidth": 2,
            "linecolor": "white",
            "showbackground": true,
            "ticks": "",
            "zerolinecolor": "white"
           }
          },
          "shapedefaults": {
           "line": {
            "color": "#2a3f5f"
           }
          },
          "ternary": {
           "aaxis": {
            "gridcolor": "white",
            "linecolor": "white",
            "ticks": ""
           },
           "baxis": {
            "gridcolor": "white",
            "linecolor": "white",
            "ticks": ""
           },
           "bgcolor": "#E5ECF6",
           "caxis": {
            "gridcolor": "white",
            "linecolor": "white",
            "ticks": ""
           }
          },
          "title": {
           "x": 0.05
          },
          "xaxis": {
           "automargin": true,
           "gridcolor": "white",
           "linecolor": "white",
           "ticks": "",
           "title": {
            "standoff": 15
           },
           "zerolinecolor": "white",
           "zerolinewidth": 2
          },
          "yaxis": {
           "automargin": true,
           "gridcolor": "white",
           "linecolor": "white",
           "ticks": "",
           "title": {
            "standoff": 15
           },
           "zerolinecolor": "white",
           "zerolinewidth": 2
          }
         }
        },
        "title": {
         "text": "Sales Revenue by City"
        }
       }
      }
     },
     "metadata": {},
     "output_type": "display_data"
    },
    {
     "data": {
      "application/vnd.plotly.v1+json": {
       "config": {
        "plotlyServerURL": "https://plot.ly"
       },
       "data": [
        {
         "hovertemplate": "variable=Sales<br>Date=%{x}<br>value=%{y}<extra></extra>",
         "legendgroup": "Sales",
         "line": {
          "color": "#636efa",
          "dash": "solid"
         },
         "marker": {
          "symbol": "circle"
         },
         "mode": "lines",
         "name": "Sales",
         "showlegend": true,
         "type": "scattergl",
         "x": [
          "2023-01-01",
          "2023-01-02",
          "2023-01-03",
          "2023-01-04",
          "2023-01-05",
          "2023-01-06",
          "2023-01-07",
          "2023-01-08",
          "2023-01-09",
          "2023-01-10",
          "2023-01-11",
          "2023-01-12",
          "2023-01-13",
          "2023-01-14",
          "2023-01-15",
          "2023-01-16",
          "2023-01-17",
          "2023-01-18",
          "2023-01-19",
          "2023-01-20",
          "2023-01-21",
          "2023-01-22",
          "2023-01-23",
          "2023-01-24",
          "2023-01-25",
          "2023-01-26",
          "2023-01-27",
          "2023-01-28",
          "2023-01-29",
          "2023-01-30",
          "2023-01-31",
          "2023-02-01",
          "2023-02-02",
          "2023-02-03",
          "2023-02-04",
          "2023-02-05",
          "2023-02-06",
          "2023-02-07",
          "2023-02-08",
          "2023-02-09",
          "2023-02-10",
          "2023-02-11",
          "2023-02-12",
          "2023-02-13",
          "2023-02-14",
          "2023-02-15",
          "2023-02-16",
          "2023-02-17",
          "2023-02-18",
          "2023-02-19",
          "2023-02-20",
          "2023-02-21",
          "2023-02-22",
          "2023-02-23",
          "2023-02-24",
          "2023-02-25",
          "2023-02-26",
          "2023-02-27",
          "2023-02-28",
          "2023-03-01",
          "2023-03-02",
          "2023-03-03",
          "2023-03-04",
          "2023-03-05",
          "2023-03-06",
          "2023-03-07",
          "2023-03-08",
          "2023-03-09",
          "2023-03-10",
          "2023-03-11",
          "2023-03-12",
          "2023-03-13",
          "2023-03-14",
          "2023-03-15",
          "2023-03-16",
          "2023-03-17",
          "2023-03-18",
          "2023-03-19",
          "2023-03-20",
          "2023-03-21",
          "2023-03-22",
          "2023-03-23",
          "2023-03-24",
          "2023-03-25",
          "2023-03-26",
          "2023-03-27",
          "2023-03-28",
          "2023-03-29",
          "2023-03-30",
          "2023-03-31",
          "2023-04-01",
          "2023-04-02",
          "2023-04-03",
          "2023-04-04",
          "2023-04-05",
          "2023-04-06",
          "2023-04-07",
          "2023-04-08",
          "2023-04-09",
          "2023-04-10",
          "2023-04-11",
          "2023-04-12",
          "2023-04-13",
          "2023-04-14",
          "2023-04-15",
          "2023-04-16",
          "2023-04-17",
          "2023-04-18",
          "2023-04-19",
          "2023-04-20",
          "2023-04-21",
          "2023-04-22",
          "2023-04-23",
          "2023-04-24",
          "2023-04-25",
          "2023-04-26",
          "2023-04-27",
          "2023-04-28",
          "2023-04-29",
          "2023-04-30",
          "2023-05-01",
          "2023-05-02",
          "2023-05-03",
          "2023-05-04",
          "2023-05-05",
          "2023-05-06",
          "2023-05-07",
          "2023-05-08",
          "2023-05-09",
          "2023-05-10",
          "2023-05-11",
          "2023-05-12",
          "2023-05-13",
          "2023-05-14",
          "2023-05-15",
          "2023-05-16",
          "2023-05-17",
          "2023-05-18",
          "2023-05-19",
          "2023-05-20",
          "2023-05-21",
          "2023-05-22",
          "2023-05-23",
          "2023-05-24",
          "2023-05-25",
          "2023-05-26",
          "2023-05-27",
          "2023-05-28",
          "2023-05-29",
          "2023-05-30",
          "2023-05-31",
          "2023-06-01",
          "2023-06-02",
          "2023-06-03",
          "2023-06-04",
          "2023-06-05",
          "2023-06-06",
          "2023-06-07",
          "2023-06-08",
          "2023-06-09",
          "2023-06-10",
          "2023-06-11",
          "2023-06-12",
          "2023-06-13",
          "2023-06-14",
          "2023-06-15",
          "2023-06-16",
          "2023-06-17",
          "2023-06-18",
          "2023-06-19",
          "2023-06-20",
          "2023-06-21",
          "2023-06-22",
          "2023-06-23",
          "2023-06-24",
          "2023-06-25",
          "2023-06-26",
          "2023-06-27",
          "2023-06-28",
          "2023-06-29",
          "2023-06-30",
          "2023-07-01",
          "2023-07-02",
          "2023-07-03",
          "2023-07-04",
          "2023-07-05",
          "2023-07-06",
          "2023-07-07",
          "2023-07-08",
          "2023-07-09",
          "2023-07-10",
          "2023-07-11",
          "2023-07-12",
          "2023-07-13",
          "2023-07-14",
          "2023-07-15",
          "2023-07-16",
          "2023-07-17",
          "2023-07-18",
          "2023-07-19",
          "2023-07-20",
          "2023-07-21",
          "2023-07-22",
          "2023-07-23",
          "2023-07-24",
          "2023-07-25",
          "2023-07-26",
          "2023-07-27",
          "2023-07-28",
          "2023-07-29",
          "2023-07-30",
          "2023-07-31",
          "2023-08-01",
          "2023-08-02",
          "2023-08-03",
          "2023-08-04",
          "2023-08-05",
          "2023-08-06",
          "2023-08-07",
          "2023-08-08",
          "2023-08-09",
          "2023-08-10",
          "2023-08-11",
          "2023-08-12",
          "2023-08-13",
          "2023-08-14",
          "2023-08-15",
          "2023-08-16",
          "2023-08-17",
          "2023-08-18",
          "2023-08-19",
          "2023-08-20",
          "2023-08-21",
          "2023-08-22",
          "2023-08-23",
          "2023-08-24",
          "2023-08-25",
          "2023-08-26",
          "2023-08-27",
          "2023-08-28",
          "2023-08-29",
          "2023-08-30",
          "2023-08-31",
          "2023-09-01",
          "2023-09-02",
          "2023-09-03",
          "2023-09-04",
          "2023-09-05",
          "2023-09-06",
          "2023-09-07",
          "2023-09-08",
          "2023-09-09",
          "2023-09-10",
          "2023-09-11",
          "2023-09-12",
          "2023-09-13",
          "2023-09-14",
          "2023-09-15",
          "2023-09-16",
          "2023-09-17",
          "2023-09-18",
          "2023-09-19",
          "2023-09-20",
          "2023-09-21",
          "2023-09-22",
          "2023-09-23",
          "2023-09-24",
          "2023-09-25",
          "2023-09-26",
          "2023-09-27",
          "2023-09-28",
          "2023-09-29",
          "2023-09-30",
          "2023-10-01",
          "2023-10-02",
          "2023-10-03",
          "2023-10-04",
          "2023-10-05",
          "2023-10-06",
          "2023-10-07",
          "2023-10-08",
          "2023-10-09",
          "2023-10-10",
          "2023-10-11",
          "2023-10-12",
          "2023-10-13",
          "2023-10-14",
          "2023-10-15",
          "2023-10-16",
          "2023-10-17",
          "2023-10-18",
          "2023-10-19",
          "2023-10-20",
          "2023-10-21",
          "2023-10-22",
          "2023-10-23",
          "2023-10-24",
          "2023-10-25",
          "2023-10-26",
          "2023-10-27",
          "2023-10-28",
          "2023-10-29",
          "2023-10-30",
          "2023-10-31",
          "2023-11-01",
          "2023-11-02",
          "2023-11-03",
          "2023-11-04",
          "2023-11-05",
          "2023-11-06",
          "2023-11-07",
          "2023-11-08",
          "2023-11-09",
          "2023-11-10",
          "2023-11-11",
          "2023-11-12",
          "2023-11-13",
          "2023-11-14",
          "2023-11-15",
          "2023-11-16",
          "2023-11-17",
          "2023-11-18",
          "2023-11-19",
          "2023-11-20",
          "2023-11-21",
          "2023-11-22",
          "2023-11-23",
          "2023-11-24",
          "2023-11-25",
          "2023-11-26",
          "2023-11-27",
          "2023-11-28",
          "2023-11-29",
          "2023-11-30",
          "2023-12-01",
          "2023-12-02",
          "2023-12-03",
          "2023-12-04",
          "2023-12-05",
          "2023-12-06",
          "2023-12-07",
          "2023-12-08",
          "2023-12-09",
          "2023-12-10",
          "2023-12-11",
          "2023-12-12",
          "2023-12-13",
          "2023-12-14",
          "2023-12-15",
          "2023-12-16",
          "2023-12-17",
          "2023-12-18",
          "2023-12-19",
          "2023-12-20",
          "2023-12-21",
          "2023-12-22",
          "2023-12-23",
          "2023-12-24",
          "2023-12-25",
          "2023-12-26",
          "2023-12-27",
          "2023-12-28",
          "2023-12-29",
          "2023-12-30",
          "2023-12-31",
          "2024-01-01",
          "2024-01-02",
          "2024-01-03",
          "2024-01-04",
          "2024-01-05",
          "2024-01-06",
          "2024-01-07",
          "2024-01-08",
          "2024-01-09",
          "2024-01-10",
          "2024-01-11",
          "2024-01-12",
          "2024-01-13",
          "2024-01-14",
          "2024-01-15",
          "2024-01-16",
          "2024-01-17",
          "2024-01-18",
          "2024-01-19",
          "2024-01-20",
          "2024-01-21",
          "2024-01-22",
          "2024-01-23",
          "2024-01-24",
          "2024-01-25",
          "2024-01-26",
          "2024-01-27",
          "2024-01-28",
          "2024-01-29",
          "2024-01-30",
          "2024-01-31",
          "2024-02-01",
          "2024-02-02",
          "2024-02-03",
          "2024-02-04",
          "2024-02-05",
          "2024-02-06",
          "2024-02-07",
          "2024-02-08",
          "2024-02-09",
          "2024-02-10",
          "2024-02-11",
          "2024-02-12",
          "2024-02-13",
          "2024-02-14",
          "2024-02-15",
          "2024-02-16",
          "2024-02-17",
          "2024-02-18",
          "2024-02-19",
          "2024-02-20",
          "2024-02-21",
          "2024-02-22",
          "2024-02-23",
          "2024-02-24",
          "2024-02-25",
          "2024-02-26",
          "2024-02-27",
          "2024-02-28",
          "2024-02-29",
          "2024-03-01",
          "2024-03-02",
          "2024-03-03",
          "2024-03-04",
          "2024-03-05",
          "2024-03-06",
          "2024-03-07",
          "2024-03-08",
          "2024-03-09",
          "2024-03-10",
          "2024-03-11",
          "2024-03-12",
          "2024-03-13",
          "2024-03-14",
          "2024-03-15",
          "2024-03-16",
          "2024-03-17",
          "2024-03-18",
          "2024-03-19",
          "2024-03-20",
          "2024-03-21",
          "2024-03-22",
          "2024-03-23",
          "2024-03-24",
          "2024-03-25",
          "2024-03-26",
          "2024-03-27",
          "2024-03-28",
          "2024-03-29",
          "2024-03-30",
          "2024-03-31",
          "2024-04-01",
          "2024-04-02",
          "2024-04-03",
          "2024-04-04",
          "2024-04-05",
          "2024-04-06",
          "2024-04-07",
          "2024-04-08",
          "2024-04-09",
          "2024-04-10",
          "2024-04-11",
          "2024-04-12",
          "2024-04-13",
          "2024-04-14",
          "2024-04-15",
          "2024-04-16",
          "2024-04-17",
          "2024-04-18",
          "2024-04-19",
          "2024-04-20",
          "2024-04-21",
          "2024-04-22",
          "2024-04-23",
          "2024-04-24",
          "2024-04-25",
          "2024-04-26",
          "2024-04-27",
          "2024-04-28",
          "2024-04-29",
          "2024-04-30",
          "2024-05-01",
          "2024-05-02",
          "2024-05-03",
          "2024-05-04",
          "2024-05-05",
          "2024-05-06",
          "2024-05-07",
          "2024-05-08",
          "2024-05-09",
          "2024-05-10",
          "2024-05-11",
          "2024-05-12",
          "2024-05-13",
          "2024-05-14",
          "2024-05-15",
          "2024-05-16",
          "2024-05-17",
          "2024-05-18",
          "2024-05-19",
          "2024-05-20",
          "2024-05-21",
          "2024-05-22",
          "2024-05-23",
          "2024-05-24",
          "2024-05-25",
          "2024-05-26",
          "2024-05-27",
          "2024-05-28",
          "2024-05-29",
          "2024-05-30",
          "2024-05-31",
          "2024-06-01",
          "2024-06-02",
          "2024-06-03",
          "2024-06-04",
          "2024-06-05",
          "2024-06-06",
          "2024-06-07",
          "2024-06-08",
          "2024-06-09",
          "2024-06-10",
          "2024-06-11",
          "2024-06-12",
          "2024-06-13",
          "2024-06-14",
          "2024-06-15",
          "2024-06-16",
          "2024-06-17",
          "2024-06-18",
          "2024-06-19",
          "2024-06-20",
          "2024-06-21",
          "2024-06-22",
          "2024-06-23",
          "2024-06-24",
          "2024-06-25",
          "2024-06-26",
          "2024-06-27",
          "2024-06-28",
          "2024-06-29",
          "2024-06-30",
          "2024-07-01",
          "2024-07-02",
          "2024-07-03",
          "2024-07-04",
          "2024-07-05",
          "2024-07-06",
          "2024-07-07",
          "2024-07-08",
          "2024-07-09",
          "2024-07-10",
          "2024-07-11",
          "2024-07-12",
          "2024-07-13",
          "2024-07-14",
          "2024-07-15",
          "2024-07-16",
          "2024-07-17",
          "2024-07-18",
          "2024-07-19",
          "2024-07-20",
          "2024-07-21",
          "2024-07-22",
          "2024-07-23",
          "2024-07-24",
          "2024-07-25",
          "2024-07-26",
          "2024-07-27",
          "2024-07-28",
          "2024-07-29",
          "2024-07-30",
          "2024-07-31",
          "2024-08-01",
          "2024-08-02",
          "2024-08-03",
          "2024-08-04",
          "2024-08-05",
          "2024-08-06",
          "2024-08-07",
          "2024-08-08",
          "2024-08-09",
          "2024-08-10",
          "2024-08-11",
          "2024-08-12",
          "2024-08-13",
          "2024-08-14",
          "2024-08-15",
          "2024-08-16",
          "2024-08-17",
          "2024-08-18",
          "2024-08-19",
          "2024-08-20",
          "2024-08-21",
          "2024-08-22",
          "2024-08-23",
          "2024-08-24",
          "2024-08-25",
          "2024-08-26",
          "2024-08-27",
          "2024-08-28",
          "2024-08-29",
          "2024-08-30",
          "2024-08-31",
          "2024-09-01",
          "2024-09-02",
          "2024-09-03",
          "2024-09-04",
          "2024-09-05",
          "2024-09-06",
          "2024-09-07",
          "2024-09-08",
          "2024-09-09",
          "2024-09-10",
          "2024-09-11",
          "2024-09-12",
          "2024-09-13",
          "2024-09-14",
          "2024-09-15",
          "2024-09-16",
          "2024-09-17",
          "2024-09-18",
          "2024-09-19",
          "2024-09-20",
          "2024-09-21",
          "2024-09-22",
          "2024-09-23",
          "2024-09-24",
          "2024-09-25",
          "2024-09-26",
          "2024-09-27",
          "2024-09-28",
          "2024-09-29",
          "2024-09-30",
          "2024-10-01",
          "2024-10-02",
          "2024-10-03",
          "2024-10-04",
          "2024-10-05",
          "2024-10-06",
          "2024-10-07",
          "2024-10-08",
          "2024-10-09",
          "2024-10-10",
          "2024-10-11",
          "2024-10-12",
          "2024-10-13",
          "2024-10-14",
          "2024-10-15",
          "2024-10-16",
          "2024-10-17",
          "2024-10-18",
          "2024-10-19",
          "2024-10-20",
          "2024-10-21",
          "2024-10-22",
          "2024-10-23",
          "2024-10-24",
          "2024-10-25",
          "2024-10-26",
          "2024-10-27",
          "2024-10-28",
          "2024-10-29",
          "2024-10-30",
          "2024-10-31",
          "2024-11-01",
          "2024-11-02",
          "2024-11-03",
          "2024-11-04",
          "2024-11-05",
          "2024-11-06",
          "2024-11-07",
          "2024-11-08",
          "2024-11-09",
          "2024-11-10",
          "2024-11-11",
          "2024-11-12",
          "2024-11-13",
          "2024-11-14",
          "2024-11-15",
          "2024-11-16",
          "2024-11-17",
          "2024-11-18",
          "2024-11-19",
          "2024-11-20",
          "2024-11-21",
          "2024-11-22",
          "2024-11-23",
          "2024-11-24",
          "2024-11-25",
          "2024-11-26",
          "2024-11-27",
          "2024-11-28",
          "2024-11-29",
          "2024-11-30",
          "2024-12-01",
          "2024-12-02",
          "2024-12-03",
          "2024-12-04",
          "2024-12-05",
          "2024-12-06",
          "2024-12-07",
          "2024-12-08",
          "2024-12-09",
          "2024-12-10",
          "2024-12-11",
          "2024-12-12",
          "2024-12-13",
          "2024-12-14",
          "2024-12-15",
          "2024-12-16",
          "2024-12-17",
          "2024-12-18",
          "2024-12-19",
          "2024-12-20",
          "2024-12-21",
          "2024-12-22",
          "2024-12-23",
          "2024-12-24",
          "2024-12-25",
          "2024-12-26",
          "2024-12-27",
          "2024-12-28",
          "2024-12-29",
          "2024-12-30",
          "2024-12-31"
         ],
         "xaxis": "x",
         "y": {
          "bdata": "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",
          "dtype": "f8"
         },
         "yaxis": "y"
        },
        {
         "hovertemplate": "variable=Units_Sold<br>Date=%{x}<br>value=%{y}<extra></extra>",
         "legendgroup": "Units_Sold",
         "line": {
          "color": "#EF553B",
          "dash": "solid"
         },
         "marker": {
          "symbol": "circle"
         },
         "mode": "lines",
         "name": "Units_Sold",
         "showlegend": true,
         "type": "scattergl",
         "x": [
          "2023-01-01",
          "2023-01-02",
          "2023-01-03",
          "2023-01-04",
          "2023-01-05",
          "2023-01-06",
          "2023-01-07",
          "2023-01-08",
          "2023-01-09",
          "2023-01-10",
          "2023-01-11",
          "2023-01-12",
          "2023-01-13",
          "2023-01-14",
          "2023-01-15",
          "2023-01-16",
          "2023-01-17",
          "2023-01-18",
          "2023-01-19",
          "2023-01-20",
          "2023-01-21",
          "2023-01-22",
          "2023-01-23",
          "2023-01-24",
          "2023-01-25",
          "2023-01-26",
          "2023-01-27",
          "2023-01-28",
          "2023-01-29",
          "2023-01-30",
          "2023-01-31",
          "2023-02-01",
          "2023-02-02",
          "2023-02-03",
          "2023-02-04",
          "2023-02-05",
          "2023-02-06",
          "2023-02-07",
          "2023-02-08",
          "2023-02-09",
          "2023-02-10",
          "2023-02-11",
          "2023-02-12",
          "2023-02-13",
          "2023-02-14",
          "2023-02-15",
          "2023-02-16",
          "2023-02-17",
          "2023-02-18",
          "2023-02-19",
          "2023-02-20",
          "2023-02-21",
          "2023-02-22",
          "2023-02-23",
          "2023-02-24",
          "2023-02-25",
          "2023-02-26",
          "2023-02-27",
          "2023-02-28",
          "2023-03-01",
          "2023-03-02",
          "2023-03-03",
          "2023-03-04",
          "2023-03-05",
          "2023-03-06",
          "2023-03-07",
          "2023-03-08",
          "2023-03-09",
          "2023-03-10",
          "2023-03-11",
          "2023-03-12",
          "2023-03-13",
          "2023-03-14",
          "2023-03-15",
          "2023-03-16",
          "2023-03-17",
          "2023-03-18",
          "2023-03-19",
          "2023-03-20",
          "2023-03-21",
          "2023-03-22",
          "2023-03-23",
          "2023-03-24",
          "2023-03-25",
          "2023-03-26",
          "2023-03-27",
          "2023-03-28",
          "2023-03-29",
          "2023-03-30",
          "2023-03-31",
          "2023-04-01",
          "2023-04-02",
          "2023-04-03",
          "2023-04-04",
          "2023-04-05",
          "2023-04-06",
          "2023-04-07",
          "2023-04-08",
          "2023-04-09",
          "2023-04-10",
          "2023-04-11",
          "2023-04-12",
          "2023-04-13",
          "2023-04-14",
          "2023-04-15",
          "2023-04-16",
          "2023-04-17",
          "2023-04-18",
          "2023-04-19",
          "2023-04-20",
          "2023-04-21",
          "2023-04-22",
          "2023-04-23",
          "2023-04-24",
          "2023-04-25",
          "2023-04-26",
          "2023-04-27",
          "2023-04-28",
          "2023-04-29",
          "2023-04-30",
          "2023-05-01",
          "2023-05-02",
          "2023-05-03",
          "2023-05-04",
          "2023-05-05",
          "2023-05-06",
          "2023-05-07",
          "2023-05-08",
          "2023-05-09",
          "2023-05-10",
          "2023-05-11",
          "2023-05-12",
          "2023-05-13",
          "2023-05-14",
          "2023-05-15",
          "2023-05-16",
          "2023-05-17",
          "2023-05-18",
          "2023-05-19",
          "2023-05-20",
          "2023-05-21",
          "2023-05-22",
          "2023-05-23",
          "2023-05-24",
          "2023-05-25",
          "2023-05-26",
          "2023-05-27",
          "2023-05-28",
          "2023-05-29",
          "2023-05-30",
          "2023-05-31",
          "2023-06-01",
          "2023-06-02",
          "2023-06-03",
          "2023-06-04",
          "2023-06-05",
          "2023-06-06",
          "2023-06-07",
          "2023-06-08",
          "2023-06-09",
          "2023-06-10",
          "2023-06-11",
          "2023-06-12",
          "2023-06-13",
          "2023-06-14",
          "2023-06-15",
          "2023-06-16",
          "2023-06-17",
          "2023-06-18",
          "2023-06-19",
          "2023-06-20",
          "2023-06-21",
          "2023-06-22",
          "2023-06-23",
          "2023-06-24",
          "2023-06-25",
          "2023-06-26",
          "2023-06-27",
          "2023-06-28",
          "2023-06-29",
          "2023-06-30",
          "2023-07-01",
          "2023-07-02",
          "2023-07-03",
          "2023-07-04",
          "2023-07-05",
          "2023-07-06",
          "2023-07-07",
          "2023-07-08",
          "2023-07-09",
          "2023-07-10",
          "2023-07-11",
          "2023-07-12",
          "2023-07-13",
          "2023-07-14",
          "2023-07-15",
          "2023-07-16",
          "2023-07-17",
          "2023-07-18",
          "2023-07-19",
          "2023-07-20",
          "2023-07-21",
          "2023-07-22",
          "2023-07-23",
          "2023-07-24",
          "2023-07-25",
          "2023-07-26",
          "2023-07-27",
          "2023-07-28",
          "2023-07-29",
          "2023-07-30",
          "2023-07-31",
          "2023-08-01",
          "2023-08-02",
          "2023-08-03",
          "2023-08-04",
          "2023-08-05",
          "2023-08-06",
          "2023-08-07",
          "2023-08-08",
          "2023-08-09",
          "2023-08-10",
          "2023-08-11",
          "2023-08-12",
          "2023-08-13",
          "2023-08-14",
          "2023-08-15",
          "2023-08-16",
          "2023-08-17",
          "2023-08-18",
          "2023-08-19",
          "2023-08-20",
          "2023-08-21",
          "2023-08-22",
          "2023-08-23",
          "2023-08-24",
          "2023-08-25",
          "2023-08-26",
          "2023-08-27",
          "2023-08-28",
          "2023-08-29",
          "2023-08-30",
          "2023-08-31",
          "2023-09-01",
          "2023-09-02",
          "2023-09-03",
          "2023-09-04",
          "2023-09-05",
          "2023-09-06",
          "2023-09-07",
          "2023-09-08",
          "2023-09-09",
          "2023-09-10",
          "2023-09-11",
          "2023-09-12",
          "2023-09-13",
          "2023-09-14",
          "2023-09-15",
          "2023-09-16",
          "2023-09-17",
          "2023-09-18",
          "2023-09-19",
          "2023-09-20",
          "2023-09-21",
          "2023-09-22",
          "2023-09-23",
          "2023-09-24",
          "2023-09-25",
          "2023-09-26",
          "2023-09-27",
          "2023-09-28",
          "2023-09-29",
          "2023-09-30",
          "2023-10-01",
          "2023-10-02",
          "2023-10-03",
          "2023-10-04",
          "2023-10-05",
          "2023-10-06",
          "2023-10-07",
          "2023-10-08",
          "2023-10-09",
          "2023-10-10",
          "2023-10-11",
          "2023-10-12",
          "2023-10-13",
          "2023-10-14",
          "2023-10-15",
          "2023-10-16",
          "2023-10-17",
          "2023-10-18",
          "2023-10-19",
          "2023-10-20",
          "2023-10-21",
          "2023-10-22",
          "2023-10-23",
          "2023-10-24",
          "2023-10-25",
          "2023-10-26",
          "2023-10-27",
          "2023-10-28",
          "2023-10-29",
          "2023-10-30",
          "2023-10-31",
          "2023-11-01",
          "2023-11-02",
          "2023-11-03",
          "2023-11-04",
          "2023-11-05",
          "2023-11-06",
          "2023-11-07",
          "2023-11-08",
          "2023-11-09",
          "2023-11-10",
          "2023-11-11",
          "2023-11-12",
          "2023-11-13",
          "2023-11-14",
          "2023-11-15",
          "2023-11-16",
          "2023-11-17",
          "2023-11-18",
          "2023-11-19",
          "2023-11-20",
          "2023-11-21",
          "2023-11-22",
          "2023-11-23",
          "2023-11-24",
          "2023-11-25",
          "2023-11-26",
          "2023-11-27",
          "2023-11-28",
          "2023-11-29",
          "2023-11-30",
          "2023-12-01",
          "2023-12-02",
          "2023-12-03",
          "2023-12-04",
          "2023-12-05",
          "2023-12-06",
          "2023-12-07",
          "2023-12-08",
          "2023-12-09",
          "2023-12-10",
          "2023-12-11",
          "2023-12-12",
          "2023-12-13",
          "2023-12-14",
          "2023-12-15",
          "2023-12-16",
          "2023-12-17",
          "2023-12-18",
          "2023-12-19",
          "2023-12-20",
          "2023-12-21",
          "2023-12-22",
          "2023-12-23",
          "2023-12-24",
          "2023-12-25",
          "2023-12-26",
          "2023-12-27",
          "2023-12-28",
          "2023-12-29",
          "2023-12-30",
          "2023-12-31",
          "2024-01-01",
          "2024-01-02",
          "2024-01-03",
          "2024-01-04",
          "2024-01-05",
          "2024-01-06",
          "2024-01-07",
          "2024-01-08",
          "2024-01-09",
          "2024-01-10",
          "2024-01-11",
          "2024-01-12",
          "2024-01-13",
          "2024-01-14",
          "2024-01-15",
          "2024-01-16",
          "2024-01-17",
          "2024-01-18",
          "2024-01-19",
          "2024-01-20",
          "2024-01-21",
          "2024-01-22",
          "2024-01-23",
          "2024-01-24",
          "2024-01-25",
          "2024-01-26",
          "2024-01-27",
          "2024-01-28",
          "2024-01-29",
          "2024-01-30",
          "2024-01-31",
          "2024-02-01",
          "2024-02-02",
          "2024-02-03",
          "2024-02-04",
          "2024-02-05",
          "2024-02-06",
          "2024-02-07",
          "2024-02-08",
          "2024-02-09",
          "2024-02-10",
          "2024-02-11",
          "2024-02-12",
          "2024-02-13",
          "2024-02-14",
          "2024-02-15",
          "2024-02-16",
          "2024-02-17",
          "2024-02-18",
          "2024-02-19",
          "2024-02-20",
          "2024-02-21",
          "2024-02-22",
          "2024-02-23",
          "2024-02-24",
          "2024-02-25",
          "2024-02-26",
          "2024-02-27",
          "2024-02-28",
          "2024-02-29",
          "2024-03-01",
          "2024-03-02",
          "2024-03-03",
          "2024-03-04",
          "2024-03-05",
          "2024-03-06",
          "2024-03-07",
          "2024-03-08",
          "2024-03-09",
          "2024-03-10",
          "2024-03-11",
          "2024-03-12",
          "2024-03-13",
          "2024-03-14",
          "2024-03-15",
          "2024-03-16",
          "2024-03-17",
          "2024-03-18",
          "2024-03-19",
          "2024-03-20",
          "2024-03-21",
          "2024-03-22",
          "2024-03-23",
          "2024-03-24",
          "2024-03-25",
          "2024-03-26",
          "2024-03-27",
          "2024-03-28",
          "2024-03-29",
          "2024-03-30",
          "2024-03-31",
          "2024-04-01",
          "2024-04-02",
          "2024-04-03",
          "2024-04-04",
          "2024-04-05",
          "2024-04-06",
          "2024-04-07",
          "2024-04-08",
          "2024-04-09",
          "2024-04-10",
          "2024-04-11",
          "2024-04-12",
          "2024-04-13",
          "2024-04-14",
          "2024-04-15",
          "2024-04-16",
          "2024-04-17",
          "2024-04-18",
          "2024-04-19",
          "2024-04-20",
          "2024-04-21",
          "2024-04-22",
          "2024-04-23",
          "2024-04-24",
          "2024-04-25",
          "2024-04-26",
          "2024-04-27",
          "2024-04-28",
          "2024-04-29",
          "2024-04-30",
          "2024-05-01",
          "2024-05-02",
          "2024-05-03",
          "2024-05-04",
          "2024-05-05",
          "2024-05-06",
          "2024-05-07",
          "2024-05-08",
          "2024-05-09",
          "2024-05-10",
          "2024-05-11",
          "2024-05-12",
          "2024-05-13",
          "2024-05-14",
          "2024-05-15",
          "2024-05-16",
          "2024-05-17",
          "2024-05-18",
          "2024-05-19",
          "2024-05-20",
          "2024-05-21",
          "2024-05-22",
          "2024-05-23",
          "2024-05-24",
          "2024-05-25",
          "2024-05-26",
          "2024-05-27",
          "2024-05-28",
          "2024-05-29",
          "2024-05-30",
          "2024-05-31",
          "2024-06-01",
          "2024-06-02",
          "2024-06-03",
          "2024-06-04",
          "2024-06-05",
          "2024-06-06",
          "2024-06-07",
          "2024-06-08",
          "2024-06-09",
          "2024-06-10",
          "2024-06-11",
          "2024-06-12",
          "2024-06-13",
          "2024-06-14",
          "2024-06-15",
          "2024-06-16",
          "2024-06-17",
          "2024-06-18",
          "2024-06-19",
          "2024-06-20",
          "2024-06-21",
          "2024-06-22",
          "2024-06-23",
          "2024-06-24",
          "2024-06-25",
          "2024-06-26",
          "2024-06-27",
          "2024-06-28",
          "2024-06-29",
          "2024-06-30",
          "2024-07-01",
          "2024-07-02",
          "2024-07-03",
          "2024-07-04",
          "2024-07-05",
          "2024-07-06",
          "2024-07-07",
          "2024-07-08",
          "2024-07-09",
          "2024-07-10",
          "2024-07-11",
          "2024-07-12",
          "2024-07-13",
          "2024-07-14",
          "2024-07-15",
          "2024-07-16",
          "2024-07-17",
          "2024-07-18",
          "2024-07-19",
          "2024-07-20",
          "2024-07-21",
          "2024-07-22",
          "2024-07-23",
          "2024-07-24",
          "2024-07-25",
          "2024-07-26",
          "2024-07-27",
          "2024-07-28",
          "2024-07-29",
          "2024-07-30",
          "2024-07-31",
          "2024-08-01",
          "2024-08-02",
          "2024-08-03",
          "2024-08-04",
          "2024-08-05",
          "2024-08-06",
          "2024-08-07",
          "2024-08-08",
          "2024-08-09",
          "2024-08-10",
          "2024-08-11",
          "2024-08-12",
          "2024-08-13",
          "2024-08-14",
          "2024-08-15",
          "2024-08-16",
          "2024-08-17",
          "2024-08-18",
          "2024-08-19",
          "2024-08-20",
          "2024-08-21",
          "2024-08-22",
          "2024-08-23",
          "2024-08-24",
          "2024-08-25",
          "2024-08-26",
          "2024-08-27",
          "2024-08-28",
          "2024-08-29",
          "2024-08-30",
          "2024-08-31",
          "2024-09-01",
          "2024-09-02",
          "2024-09-03",
          "2024-09-04",
          "2024-09-05",
          "2024-09-06",
          "2024-09-07",
          "2024-09-08",
          "2024-09-09",
          "2024-09-10",
          "2024-09-11",
          "2024-09-12",
          "2024-09-13",
          "2024-09-14",
          "2024-09-15",
          "2024-09-16",
          "2024-09-17",
          "2024-09-18",
          "2024-09-19",
          "2024-09-20",
          "2024-09-21",
          "2024-09-22",
          "2024-09-23",
          "2024-09-24",
          "2024-09-25",
          "2024-09-26",
          "2024-09-27",
          "2024-09-28",
          "2024-09-29",
          "2024-09-30",
          "2024-10-01",
          "2024-10-02",
          "2024-10-03",
          "2024-10-04",
          "2024-10-05",
          "2024-10-06",
          "2024-10-07",
          "2024-10-08",
          "2024-10-09",
          "2024-10-10",
          "2024-10-11",
          "2024-10-12",
          "2024-10-13",
          "2024-10-14",
          "2024-10-15",
          "2024-10-16",
          "2024-10-17",
          "2024-10-18",
          "2024-10-19",
          "2024-10-20",
          "2024-10-21",
          "2024-10-22",
          "2024-10-23",
          "2024-10-24",
          "2024-10-25",
          "2024-10-26",
          "2024-10-27",
          "2024-10-28",
          "2024-10-29",
          "2024-10-30",
          "2024-10-31",
          "2024-11-01",
          "2024-11-02",
          "2024-11-03",
          "2024-11-04",
          "2024-11-05",
          "2024-11-06",
          "2024-11-07",
          "2024-11-08",
          "2024-11-09",
          "2024-11-10",
          "2024-11-11",
          "2024-11-12",
          "2024-11-13",
          "2024-11-14",
          "2024-11-15",
          "2024-11-16",
          "2024-11-17",
          "2024-11-18",
          "2024-11-19",
          "2024-11-20",
          "2024-11-21",
          "2024-11-22",
          "2024-11-23",
          "2024-11-24",
          "2024-11-25",
          "2024-11-26",
          "2024-11-27",
          "2024-11-28",
          "2024-11-29",
          "2024-11-30",
          "2024-12-01",
          "2024-12-02",
          "2024-12-03",
          "2024-12-04",
          "2024-12-05",
          "2024-12-06",
          "2024-12-07",
          "2024-12-08",
          "2024-12-09",
          "2024-12-10",
          "2024-12-11",
          "2024-12-12",
          "2024-12-13",
          "2024-12-14",
          "2024-12-15",
          "2024-12-16",
          "2024-12-17",
          "2024-12-18",
          "2024-12-19",
          "2024-12-20",
          "2024-12-21",
          "2024-12-22",
          "2024-12-23",
          "2024-12-24",
          "2024-12-25",
          "2024-12-26",
          "2024-12-27",
          "2024-12-28",
          "2024-12-29",
          "2024-12-30",
          "2024-12-31"
         ],
         "xaxis": "x",
         "y": {
          "bdata": "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",
          "dtype": "f8"
         },
         "yaxis": "y"
        }
       ],
       "layout": {
        "legend": {
         "title": {
          "text": "variable"
         },
         "tracegroupgap": 0
        },
        "template": {
         "data": {
          "bar": [
           {
            "error_x": {
             "color": "#2a3f5f"
            },
            "error_y": {
             "color": "#2a3f5f"
            },
            "marker": {
             "line": {
              "color": "#E5ECF6",
              "width": 0.5
             },
             "pattern": {
              "fillmode": "overlay",
              "size": 10,
              "solidity": 0.2
             }
            },
            "type": "bar"
           }
          ],
          "barpolar": [
           {
            "marker": {
             "line": {
              "color": "#E5ECF6",
              "width": 0.5
             },
             "pattern": {
              "fillmode": "overlay",
              "size": 10,
              "solidity": 0.2
             }
            },
            "type": "barpolar"
           }
          ],
          "carpet": [
           {
            "aaxis": {
             "endlinecolor": "#2a3f5f",
             "gridcolor": "white",
             "linecolor": "white",
             "minorgridcolor": "white",
             "startlinecolor": "#2a3f5f"
            },
            "baxis": {
             "endlinecolor": "#2a3f5f",
             "gridcolor": "white",
             "linecolor": "white",
             "minorgridcolor": "white",
             "startlinecolor": "#2a3f5f"
            },
            "type": "carpet"
           }
          ],
          "choropleth": [
           {
            "colorbar": {
             "outlinewidth": 0,
             "ticks": ""
            },
            "type": "choropleth"
           }
          ],
          "contour": [
           {
            "colorbar": {
             "outlinewidth": 0,
             "ticks": ""
            },
            "colorscale": [
             [
              0,
              "#0d0887"
             ],
             [
              0.1111111111111111,
              "#46039f"
             ],
             [
              0.2222222222222222,
              "#7201a8"
             ],
             [
              0.3333333333333333,
              "#9c179e"
             ],
             [
              0.4444444444444444,
              "#bd3786"
             ],
             [
              0.5555555555555556,
              "#d8576b"
             ],
             [
              0.6666666666666666,
              "#ed7953"
             ],
             [
              0.7777777777777778,
              "#fb9f3a"
             ],
             [
              0.8888888888888888,
              "#fdca26"
             ],
             [
              1,
              "#f0f921"
             ]
            ],
            "type": "contour"
           }
          ],
          "contourcarpet": [
           {
            "colorbar": {
             "outlinewidth": 0,
             "ticks": ""
            },
            "type": "contourcarpet"
           }
          ],
          "heatmap": [
           {
            "colorbar": {
             "outlinewidth": 0,
             "ticks": ""
            },
            "colorscale": [
             [
              0,
              "#0d0887"
             ],
             [
              0.1111111111111111,
              "#46039f"
             ],
             [
              0.2222222222222222,
              "#7201a8"
             ],
             [
              0.3333333333333333,
              "#9c179e"
             ],
             [
              0.4444444444444444,
              "#bd3786"
             ],
             [
              0.5555555555555556,
              "#d8576b"
             ],
             [
              0.6666666666666666,
              "#ed7953"
             ],
             [
              0.7777777777777778,
              "#fb9f3a"
             ],
             [
              0.8888888888888888,
              "#fdca26"
             ],
             [
              1,
              "#f0f921"
             ]
            ],
            "type": "heatmap"
           }
          ],
          "histogram": [
           {
            "marker": {
             "pattern": {
              "fillmode": "overlay",
              "size": 10,
              "solidity": 0.2
             }
            },
            "type": "histogram"
           }
          ],
          "histogram2d": [
           {
            "colorbar": {
             "outlinewidth": 0,
             "ticks": ""
            },
            "colorscale": [
             [
              0,
              "#0d0887"
             ],
             [
              0.1111111111111111,
              "#46039f"
             ],
             [
              0.2222222222222222,
              "#7201a8"
             ],
             [
              0.3333333333333333,
              "#9c179e"
             ],
             [
              0.4444444444444444,
              "#bd3786"
             ],
             [
              0.5555555555555556,
              "#d8576b"
             ],
             [
              0.6666666666666666,
              "#ed7953"
             ],
             [
              0.7777777777777778,
              "#fb9f3a"
             ],
             [
              0.8888888888888888,
              "#fdca26"
             ],
             [
              1,
              "#f0f921"
             ]
            ],
            "type": "histogram2d"
           }
          ],
          "histogram2dcontour": [
           {
            "colorbar": {
             "outlinewidth": 0,
             "ticks": ""
            },
            "colorscale": [
             [
              0,
              "#0d0887"
             ],
             [
              0.1111111111111111,
              "#46039f"
             ],
             [
              0.2222222222222222,
              "#7201a8"
             ],
             [
              0.3333333333333333,
              "#9c179e"
             ],
             [
              0.4444444444444444,
              "#bd3786"
             ],
             [
              0.5555555555555556,
              "#d8576b"
             ],
             [
              0.6666666666666666,
              "#ed7953"
             ],
             [
              0.7777777777777778,
              "#fb9f3a"
             ],
             [
              0.8888888888888888,
              "#fdca26"
             ],
             [
              1,
              "#f0f921"
             ]
            ],
            "type": "histogram2dcontour"
           }
          ],
          "mesh3d": [
           {
            "colorbar": {
             "outlinewidth": 0,
             "ticks": ""
            },
            "type": "mesh3d"
           }
          ],
          "parcoords": [
           {
            "line": {
             "colorbar": {
              "outlinewidth": 0,
              "ticks": ""
             }
            },
            "type": "parcoords"
           }
          ],
          "pie": [
           {
            "automargin": true,
            "type": "pie"
           }
          ],
          "scatter": [
           {
            "fillpattern": {
             "fillmode": "overlay",
             "size": 10,
             "solidity": 0.2
            },
            "type": "scatter"
           }
          ],
          "scatter3d": [
           {
            "line": {
             "colorbar": {
              "outlinewidth": 0,
              "ticks": ""
             }
            },
            "marker": {
             "colorbar": {
              "outlinewidth": 0,
              "ticks": ""
             }
            },
            "type": "scatter3d"
           }
          ],
          "scattercarpet": [
           {
            "marker": {
             "colorbar": {
              "outlinewidth": 0,
              "ticks": ""
             }
            },
            "type": "scattercarpet"
           }
          ],
          "scattergeo": [
           {
            "marker": {
             "colorbar": {
              "outlinewidth": 0,
              "ticks": ""
             }
            },
            "type": "scattergeo"
           }
          ],
          "scattergl": [
           {
            "marker": {
             "colorbar": {
              "outlinewidth": 0,
              "ticks": ""
             }
            },
            "type": "scattergl"
           }
          ],
          "scattermap": [
           {
            "marker": {
             "colorbar": {
              "outlinewidth": 0,
              "ticks": ""
             }
            },
            "type": "scattermap"
           }
          ],
          "scattermapbox": [
           {
            "marker": {
             "colorbar": {
              "outlinewidth": 0,
              "ticks": ""
             }
            },
            "type": "scattermapbox"
           }
          ],
          "scatterpolar": [
           {
            "marker": {
             "colorbar": {
              "outlinewidth": 0,
              "ticks": ""
             }
            },
            "type": "scatterpolar"
           }
          ],
          "scatterpolargl": [
           {
            "marker": {
             "colorbar": {
              "outlinewidth": 0,
              "ticks": ""
             }
            },
            "type": "scatterpolargl"
           }
          ],
          "scatterternary": [
           {
            "marker": {
             "colorbar": {
              "outlinewidth": 0,
              "ticks": ""
             }
            },
            "type": "scatterternary"
           }
          ],
          "surface": [
           {
            "colorbar": {
             "outlinewidth": 0,
             "ticks": ""
            },
            "colorscale": [
             [
              0,
              "#0d0887"
             ],
             [
              0.1111111111111111,
              "#46039f"
             ],
             [
              0.2222222222222222,
              "#7201a8"
             ],
             [
              0.3333333333333333,
              "#9c179e"
             ],
             [
              0.4444444444444444,
              "#bd3786"
             ],
             [
              0.5555555555555556,
              "#d8576b"
             ],
             [
              0.6666666666666666,
              "#ed7953"
             ],
             [
              0.7777777777777778,
              "#fb9f3a"
             ],
             [
              0.8888888888888888,
              "#fdca26"
             ],
             [
              1,
              "#f0f921"
             ]
            ],
            "type": "surface"
           }
          ],
          "table": [
           {
            "cells": {
             "fill": {
              "color": "#EBF0F8"
             },
             "line": {
              "color": "white"
             }
            },
            "header": {
             "fill": {
              "color": "#C8D4E3"
             },
             "line": {
              "color": "white"
             }
            },
            "type": "table"
           }
          ]
         },
         "layout": {
          "annotationdefaults": {
           "arrowcolor": "#2a3f5f",
           "arrowhead": 0,
           "arrowwidth": 1
          },
          "autotypenumbers": "strict",
          "coloraxis": {
           "colorbar": {
            "outlinewidth": 0,
            "ticks": ""
           }
          },
          "colorscale": {
           "diverging": [
            [
             0,
             "#8e0152"
            ],
            [
             0.1,
             "#c51b7d"
            ],
            [
             0.2,
             "#de77ae"
            ],
            [
             0.3,
             "#f1b6da"
            ],
            [
             0.4,
             "#fde0ef"
            ],
            [
             0.5,
             "#f7f7f7"
            ],
            [
             0.6,
             "#e6f5d0"
            ],
            [
             0.7,
             "#b8e186"
            ],
            [
             0.8,
             "#7fbc41"
            ],
            [
             0.9,
             "#4d9221"
            ],
            [
             1,
             "#276419"
            ]
           ],
           "sequential": [
            [
             0,
             "#0d0887"
            ],
            [
             0.1111111111111111,
             "#46039f"
            ],
            [
             0.2222222222222222,
             "#7201a8"
            ],
            [
             0.3333333333333333,
             "#9c179e"
            ],
            [
             0.4444444444444444,
             "#bd3786"
            ],
            [
             0.5555555555555556,
             "#d8576b"
            ],
            [
             0.6666666666666666,
             "#ed7953"
            ],
            [
             0.7777777777777778,
             "#fb9f3a"
            ],
            [
             0.8888888888888888,
             "#fdca26"
            ],
            [
             1,
             "#f0f921"
            ]
           ],
           "sequentialminus": [
            [
             0,
             "#0d0887"
            ],
            [
             0.1111111111111111,
             "#46039f"
            ],
            [
             0.2222222222222222,
             "#7201a8"
            ],
            [
             0.3333333333333333,
             "#9c179e"
            ],
            [
             0.4444444444444444,
             "#bd3786"
            ],
            [
             0.5555555555555556,
             "#d8576b"
            ],
            [
             0.6666666666666666,
             "#ed7953"
            ],
            [
             0.7777777777777778,
             "#fb9f3a"
            ],
            [
             0.8888888888888888,
             "#fdca26"
            ],
            [
             1,
             "#f0f921"
            ]
           ]
          },
          "colorway": [
           "#636efa",
           "#EF553B",
           "#00cc96",
           "#ab63fa",
           "#FFA15A",
           "#19d3f3",
           "#FF6692",
           "#B6E880",
           "#FF97FF",
           "#FECB52"
          ],
          "font": {
           "color": "#2a3f5f"
          },
          "geo": {
           "bgcolor": "white",
           "lakecolor": "white",
           "landcolor": "#E5ECF6",
           "showlakes": true,
           "showland": true,
           "subunitcolor": "white"
          },
          "hoverlabel": {
           "align": "left"
          },
          "hovermode": "closest",
          "mapbox": {
           "style": "light"
          },
          "paper_bgcolor": "white",
          "plot_bgcolor": "#E5ECF6",
          "polar": {
           "angularaxis": {
            "gridcolor": "white",
            "linecolor": "white",
            "ticks": ""
           },
           "bgcolor": "#E5ECF6",
           "radialaxis": {
            "gridcolor": "white",
            "linecolor": "white",
            "ticks": ""
           }
          },
          "scene": {
           "xaxis": {
            "backgroundcolor": "#E5ECF6",
            "gridcolor": "white",
            "gridwidth": 2,
            "linecolor": "white",
            "showbackground": true,
            "ticks": "",
            "zerolinecolor": "white"
           },
           "yaxis": {
            "backgroundcolor": "#E5ECF6",
            "gridcolor": "white",
            "gridwidth": 2,
            "linecolor": "white",
            "showbackground": true,
            "ticks": "",
            "zerolinecolor": "white"
           },
           "zaxis": {
            "backgroundcolor": "#E5ECF6",
            "gridcolor": "white",
            "gridwidth": 2,
            "linecolor": "white",
            "showbackground": true,
            "ticks": "",
            "zerolinecolor": "white"
           }
          },
          "shapedefaults": {
           "line": {
            "color": "#2a3f5f"
           }
          },
          "ternary": {
           "aaxis": {
            "gridcolor": "white",
            "linecolor": "white",
            "ticks": ""
           },
           "baxis": {
            "gridcolor": "white",
            "linecolor": "white",
            "ticks": ""
           },
           "bgcolor": "#E5ECF6",
           "caxis": {
            "gridcolor": "white",
            "linecolor": "white",
            "ticks": ""
           }
          },
          "title": {
           "x": 0.05
          },
          "xaxis": {
           "automargin": true,
           "gridcolor": "white",
           "linecolor": "white",
           "ticks": "",
           "title": {
            "standoff": 15
           },
           "zerolinecolor": "white",
           "zerolinewidth": 2
          },
          "yaxis": {
           "automargin": true,
           "gridcolor": "white",
           "linecolor": "white",
           "ticks": "",
           "title": {
            "standoff": 15
           },
           "zerolinecolor": "white",
           "zerolinewidth": 2
          }
         }
        },
        "title": {
         "text": "Sales Revenue and Units Sold by Date"
        },
        "xaxis": {
         "anchor": "y",
         "domain": [
          0,
          1
         ],
         "title": {
          "text": "Date"
         }
        },
        "yaxis": {
         "anchor": "x",
         "domain": [
          0,
          1
         ],
         "title": {
          "text": "value"
         }
        }
       }
      }
     },
     "metadata": {},
     "output_type": "display_data"
    }
   ],
   "source": [
    "import plotly.express as px\n",
    "\n",
    "# Sales by SKU (Revenue)\n",
    "sales_sku = sales_df.groupby('SKU_ID', as_index=False)['Sales'].sum()\n",
    "fig = px.bar(sales_sku, x='SKU_ID', y='Sales', title='Sales Revenue by SKU')\n",
    "fig.show()\n",
    "\n",
    "# Sales by Channel\n",
    "sales_channel = sales_df.groupby('Channel', as_index=False)['Sales'].sum()\n",
    "fig = px.pie(sales_channel, names='Channel', values='Sales', title='Sales Distribution by Channel')\n",
    "fig.show()\n",
    "\n",
    "# Sales by Channel\n",
    "sales_channel = sales_df.groupby('Channel', as_index=False)['Units_Sold'].sum()\n",
    "fig = px.pie(sales_channel, names='Channel', values='Units_Sold', title='Units_Sold Distribution by Channel')\n",
    "fig.show()\n",
    "\n",
    "\n",
    "# Sales by City\n",
    "# Sales by City\n",
    "sales_city = sales_df.groupby('City_ID', as_index=False)['Sales'].sum()\n",
    "fig = px.pie(sales_city, names='City_ID', values='Sales', title='Sales Revenue by City')\n",
    "fig.show()\n",
    "\n",
    "# Sales by Date\n",
    "sales_date = sales_df.groupby('Date', as_index=False).agg({'Sales': 'sum', 'Units_Sold': 'sum'})\n",
    "fig = px.line(sales_date, x='Date', y=['Sales', 'Units_Sold'], title='Sales Revenue and Units Sold by Date')\n",
    "fig.show()\n"
   ]
  },
  {
   "cell_type": "code",
   "execution_count": 1,
   "metadata": {},
   "outputs": [
    {
     "data": {
      "text/html": [
       "<div>\n",
       "<style scoped>\n",
       "    .dataframe tbody tr th:only-of-type {\n",
       "        vertical-align: middle;\n",
       "    }\n",
       "\n",
       "    .dataframe tbody tr th {\n",
       "        vertical-align: top;\n",
       "    }\n",
       "\n",
       "    .dataframe thead th {\n",
       "        text-align: right;\n",
       "    }\n",
       "</style>\n",
       "<table border=\"1\" class=\"dataframe\">\n",
       "  <thead>\n",
       "    <tr style=\"text-align: right;\">\n",
       "      <th></th>\n",
       "      <th>Date</th>\n",
       "      <th>City_ID</th>\n",
       "      <th>SKU_ID</th>\n",
       "      <th>Channel</th>\n",
       "      <th>Units_Sold</th>\n",
       "      <th>Sales</th>\n",
       "      <th>Selling_Price</th>\n",
       "      <th>City_Name</th>\n",
       "      <th>City_tier</th>\n",
       "      <th>Population_Density(persons/km)</th>\n",
       "      <th>...</th>\n",
       "      <th>Product Name</th>\n",
       "      <th>Flavor Variant</th>\n",
       "      <th>SKU Identification Number</th>\n",
       "      <th>Launch Date</th>\n",
       "      <th>Pack Size (L)</th>\n",
       "      <th>General Trade</th>\n",
       "      <th>E Commerce</th>\n",
       "      <th>Modern Trade</th>\n",
       "      <th>HoReCa</th>\n",
       "      <th>Q Commerce</th>\n",
       "    </tr>\n",
       "  </thead>\n",
       "  <tbody>\n",
       "    <tr>\n",
       "      <th>0</th>\n",
       "      <td>2023-01-01</td>\n",
       "      <td>CT001</td>\n",
       "      <td>SKU1002</td>\n",
       "      <td>Q Commerce</td>\n",
       "      <td>268</td>\n",
       "      <td>80.4</td>\n",
       "      <td>0.3</td>\n",
       "      <td>Delhi</td>\n",
       "      <td>Tier 1</td>\n",
       "      <td>14893</td>\n",
       "      <td>...</td>\n",
       "      <td>Minute Maid Mixed Fruit Juice</td>\n",
       "      <td>Mixed Fruit</td>\n",
       "      <td>SKU1002</td>\n",
       "      <td>2015-04-23</td>\n",
       "      <td>1.00</td>\n",
       "      <td>1</td>\n",
       "      <td>1</td>\n",
       "      <td>1</td>\n",
       "      <td>1</td>\n",
       "      <td>1</td>\n",
       "    </tr>\n",
       "    <tr>\n",
       "      <th>1</th>\n",
       "      <td>2023-01-01</td>\n",
       "      <td>CT001</td>\n",
       "      <td>SKU1004</td>\n",
       "      <td>Q Commerce</td>\n",
       "      <td>168</td>\n",
       "      <td>50.4</td>\n",
       "      <td>0.3</td>\n",
       "      <td>Delhi</td>\n",
       "      <td>Tier 1</td>\n",
       "      <td>14893</td>\n",
       "      <td>...</td>\n",
       "      <td>Minute Maid Pulpy Orange</td>\n",
       "      <td>Orange</td>\n",
       "      <td>SKU1004</td>\n",
       "      <td>2015-04-23</td>\n",
       "      <td>1.00</td>\n",
       "      <td>1</td>\n",
       "      <td>1</td>\n",
       "      <td>1</td>\n",
       "      <td>1</td>\n",
       "      <td>1</td>\n",
       "    </tr>\n",
       "    <tr>\n",
       "      <th>2</th>\n",
       "      <td>2023-01-01</td>\n",
       "      <td>CT001</td>\n",
       "      <td>SKU1001</td>\n",
       "      <td>E Commerce</td>\n",
       "      <td>521</td>\n",
       "      <td>156.3</td>\n",
       "      <td>0.3</td>\n",
       "      <td>Delhi</td>\n",
       "      <td>Tier 1</td>\n",
       "      <td>14893</td>\n",
       "      <td>...</td>\n",
       "      <td>Minute Maid Apple Juice - Honey Infused</td>\n",
       "      <td>Apple</td>\n",
       "      <td>SKU1001</td>\n",
       "      <td>2022-02-19</td>\n",
       "      <td>1.00</td>\n",
       "      <td>1</td>\n",
       "      <td>1</td>\n",
       "      <td>0</td>\n",
       "      <td>0</td>\n",
       "      <td>0</td>\n",
       "    </tr>\n",
       "    <tr>\n",
       "      <th>3</th>\n",
       "      <td>2023-01-01</td>\n",
       "      <td>CT001</td>\n",
       "      <td>SKU1002</td>\n",
       "      <td>E Commerce</td>\n",
       "      <td>247</td>\n",
       "      <td>74.1</td>\n",
       "      <td>0.3</td>\n",
       "      <td>Delhi</td>\n",
       "      <td>Tier 1</td>\n",
       "      <td>14893</td>\n",
       "      <td>...</td>\n",
       "      <td>Minute Maid Mixed Fruit Juice</td>\n",
       "      <td>Mixed Fruit</td>\n",
       "      <td>SKU1002</td>\n",
       "      <td>2015-04-23</td>\n",
       "      <td>1.00</td>\n",
       "      <td>1</td>\n",
       "      <td>1</td>\n",
       "      <td>1</td>\n",
       "      <td>1</td>\n",
       "      <td>1</td>\n",
       "    </tr>\n",
       "    <tr>\n",
       "      <th>4</th>\n",
       "      <td>2023-01-01</td>\n",
       "      <td>CT001</td>\n",
       "      <td>SKU1007</td>\n",
       "      <td>E Commerce</td>\n",
       "      <td>161</td>\n",
       "      <td>12075.0</td>\n",
       "      <td>75.0</td>\n",
       "      <td>Delhi</td>\n",
       "      <td>Tier 1</td>\n",
       "      <td>14893</td>\n",
       "      <td>...</td>\n",
       "      <td>Minute Maid 250ml Pulpy Orange</td>\n",
       "      <td>Orange</td>\n",
       "      <td>SKU1007</td>\n",
       "      <td>2015-04-23</td>\n",
       "      <td>0.25</td>\n",
       "      <td>1</td>\n",
       "      <td>1</td>\n",
       "      <td>1</td>\n",
       "      <td>1</td>\n",
       "      <td>0</td>\n",
       "    </tr>\n",
       "    <tr>\n",
       "      <th>...</th>\n",
       "      <td>...</td>\n",
       "      <td>...</td>\n",
       "      <td>...</td>\n",
       "      <td>...</td>\n",
       "      <td>...</td>\n",
       "      <td>...</td>\n",
       "      <td>...</td>\n",
       "      <td>...</td>\n",
       "      <td>...</td>\n",
       "      <td>...</td>\n",
       "      <td>...</td>\n",
       "      <td>...</td>\n",
       "      <td>...</td>\n",
       "      <td>...</td>\n",
       "      <td>...</td>\n",
       "      <td>...</td>\n",
       "      <td>...</td>\n",
       "      <td>...</td>\n",
       "      <td>...</td>\n",
       "      <td>...</td>\n",
       "      <td>...</td>\n",
       "    </tr>\n",
       "    <tr>\n",
       "      <th>995</th>\n",
       "      <td>2023-01-03</td>\n",
       "      <td>CT008</td>\n",
       "      <td>SKU1007</td>\n",
       "      <td>Modern Trade</td>\n",
       "      <td>803</td>\n",
       "      <td>60225.0</td>\n",
       "      <td>75.0</td>\n",
       "      <td>Pune</td>\n",
       "      <td>Tier 1</td>\n",
       "      <td>6034</td>\n",
       "      <td>...</td>\n",
       "      <td>Minute Maid 250ml Pulpy Orange</td>\n",
       "      <td>Orange</td>\n",
       "      <td>SKU1007</td>\n",
       "      <td>2015-04-23</td>\n",
       "      <td>0.25</td>\n",
       "      <td>1</td>\n",
       "      <td>1</td>\n",
       "      <td>1</td>\n",
       "      <td>1</td>\n",
       "      <td>0</td>\n",
       "    </tr>\n",
       "    <tr>\n",
       "      <th>996</th>\n",
       "      <td>2023-01-03</td>\n",
       "      <td>CT008</td>\n",
       "      <td>SKU1004</td>\n",
       "      <td>Modern Trade</td>\n",
       "      <td>209</td>\n",
       "      <td>62.7</td>\n",
       "      <td>0.3</td>\n",
       "      <td>Pune</td>\n",
       "      <td>Tier 1</td>\n",
       "      <td>6034</td>\n",
       "      <td>...</td>\n",
       "      <td>Minute Maid Pulpy Orange</td>\n",
       "      <td>Orange</td>\n",
       "      <td>SKU1004</td>\n",
       "      <td>2015-04-23</td>\n",
       "      <td>1.00</td>\n",
       "      <td>1</td>\n",
       "      <td>1</td>\n",
       "      <td>1</td>\n",
       "      <td>1</td>\n",
       "      <td>1</td>\n",
       "    </tr>\n",
       "    <tr>\n",
       "      <th>997</th>\n",
       "      <td>2023-01-03</td>\n",
       "      <td>CT008</td>\n",
       "      <td>SKU1008</td>\n",
       "      <td>Modern Trade</td>\n",
       "      <td>167</td>\n",
       "      <td>12525.0</td>\n",
       "      <td>75.0</td>\n",
       "      <td>Pune</td>\n",
       "      <td>Tier 1</td>\n",
       "      <td>6034</td>\n",
       "      <td>...</td>\n",
       "      <td>Minute Maid 250ml Mixed Fruit Juice</td>\n",
       "      <td>Mixed Fruit</td>\n",
       "      <td>SKU1008</td>\n",
       "      <td>2015-04-23</td>\n",
       "      <td>0.25</td>\n",
       "      <td>1</td>\n",
       "      <td>1</td>\n",
       "      <td>1</td>\n",
       "      <td>1</td>\n",
       "      <td>0</td>\n",
       "    </tr>\n",
       "    <tr>\n",
       "      <th>998</th>\n",
       "      <td>2023-01-03</td>\n",
       "      <td>CT008</td>\n",
       "      <td>SKU1001</td>\n",
       "      <td>General Trade</td>\n",
       "      <td>2366</td>\n",
       "      <td>709.8</td>\n",
       "      <td>0.3</td>\n",
       "      <td>Pune</td>\n",
       "      <td>Tier 1</td>\n",
       "      <td>6034</td>\n",
       "      <td>...</td>\n",
       "      <td>Minute Maid Apple Juice - Honey Infused</td>\n",
       "      <td>Apple</td>\n",
       "      <td>SKU1001</td>\n",
       "      <td>2022-02-19</td>\n",
       "      <td>1.00</td>\n",
       "      <td>1</td>\n",
       "      <td>1</td>\n",
       "      <td>0</td>\n",
       "      <td>0</td>\n",
       "      <td>0</td>\n",
       "    </tr>\n",
       "    <tr>\n",
       "      <th>999</th>\n",
       "      <td>2023-01-03</td>\n",
       "      <td>CT008</td>\n",
       "      <td>SKU1002</td>\n",
       "      <td>General Trade</td>\n",
       "      <td>883</td>\n",
       "      <td>264.9</td>\n",
       "      <td>0.3</td>\n",
       "      <td>Pune</td>\n",
       "      <td>Tier 1</td>\n",
       "      <td>6034</td>\n",
       "      <td>...</td>\n",
       "      <td>Minute Maid Mixed Fruit Juice</td>\n",
       "      <td>Mixed Fruit</td>\n",
       "      <td>SKU1002</td>\n",
       "      <td>2015-04-23</td>\n",
       "      <td>1.00</td>\n",
       "      <td>1</td>\n",
       "      <td>1</td>\n",
       "      <td>1</td>\n",
       "      <td>1</td>\n",
       "      <td>1</td>\n",
       "    </tr>\n",
       "  </tbody>\n",
       "</table>\n",
       "<p>1000 rows × 21 columns</p>\n",
       "</div>"
      ],
      "text/plain": [
       "          Date City_ID   SKU_ID        Channel  Units_Sold    Sales  \\\n",
       "0   2023-01-01   CT001  SKU1002     Q Commerce         268     80.4   \n",
       "1   2023-01-01   CT001  SKU1004     Q Commerce         168     50.4   \n",
       "2   2023-01-01   CT001  SKU1001     E Commerce         521    156.3   \n",
       "3   2023-01-01   CT001  SKU1002     E Commerce         247     74.1   \n",
       "4   2023-01-01   CT001  SKU1007     E Commerce         161  12075.0   \n",
       "..         ...     ...      ...            ...         ...      ...   \n",
       "995 2023-01-03   CT008  SKU1007   Modern Trade         803  60225.0   \n",
       "996 2023-01-03   CT008  SKU1004   Modern Trade         209     62.7   \n",
       "997 2023-01-03   CT008  SKU1008   Modern Trade         167  12525.0   \n",
       "998 2023-01-03   CT008  SKU1001  General Trade        2366    709.8   \n",
       "999 2023-01-03   CT008  SKU1002  General Trade         883    264.9   \n",
       "\n",
       "     Selling_Price City_Name City_tier  Population_Density(persons/km)  ...  \\\n",
       "0              0.3     Delhi    Tier 1                           14893  ...   \n",
       "1              0.3     Delhi    Tier 1                           14893  ...   \n",
       "2              0.3     Delhi    Tier 1                           14893  ...   \n",
       "3              0.3     Delhi    Tier 1                           14893  ...   \n",
       "4             75.0     Delhi    Tier 1                           14893  ...   \n",
       "..             ...       ...       ...                             ...  ...   \n",
       "995           75.0      Pune    Tier 1                            6034  ...   \n",
       "996            0.3      Pune    Tier 1                            6034  ...   \n",
       "997           75.0      Pune    Tier 1                            6034  ...   \n",
       "998            0.3      Pune    Tier 1                            6034  ...   \n",
       "999            0.3      Pune    Tier 1                            6034  ...   \n",
       "\n",
       "                                Product Name Flavor Variant  \\\n",
       "0              Minute Maid Mixed Fruit Juice    Mixed Fruit   \n",
       "1                   Minute Maid Pulpy Orange         Orange   \n",
       "2    Minute Maid Apple Juice - Honey Infused          Apple   \n",
       "3              Minute Maid Mixed Fruit Juice    Mixed Fruit   \n",
       "4             Minute Maid 250ml Pulpy Orange         Orange   \n",
       "..                                       ...            ...   \n",
       "995           Minute Maid 250ml Pulpy Orange         Orange   \n",
       "996                 Minute Maid Pulpy Orange         Orange   \n",
       "997      Minute Maid 250ml Mixed Fruit Juice    Mixed Fruit   \n",
       "998  Minute Maid Apple Juice - Honey Infused          Apple   \n",
       "999            Minute Maid Mixed Fruit Juice    Mixed Fruit   \n",
       "\n",
       "    SKU Identification Number Launch Date Pack Size (L)  General Trade  \\\n",
       "0                     SKU1002  2015-04-23          1.00              1   \n",
       "1                     SKU1004  2015-04-23          1.00              1   \n",
       "2                     SKU1001  2022-02-19          1.00              1   \n",
       "3                     SKU1002  2015-04-23          1.00              1   \n",
       "4                     SKU1007  2015-04-23          0.25              1   \n",
       "..                        ...         ...           ...            ...   \n",
       "995                   SKU1007  2015-04-23          0.25              1   \n",
       "996                   SKU1004  2015-04-23          1.00              1   \n",
       "997                   SKU1008  2015-04-23          0.25              1   \n",
       "998                   SKU1001  2022-02-19          1.00              1   \n",
       "999                   SKU1002  2015-04-23          1.00              1   \n",
       "\n",
       "     E Commerce  Modern Trade  HoReCa  Q Commerce  \n",
       "0             1             1       1           1  \n",
       "1             1             1       1           1  \n",
       "2             1             0       0           0  \n",
       "3             1             1       1           1  \n",
       "4             1             1       1           0  \n",
       "..          ...           ...     ...         ...  \n",
       "995           1             1       1           0  \n",
       "996           1             1       1           1  \n",
       "997           1             1       1           0  \n",
       "998           1             0       0           0  \n",
       "999           1             1       1           1  \n",
       "\n",
       "[1000 rows x 21 columns]"
      ]
     },
     "execution_count": 1,
     "metadata": {},
     "output_type": "execute_result"
    }
   ],
   "source": [
    "import pandas as pd\n",
    "import plotly.express as px\n",
    "\n",
    "# Load datasets\n",
    "city = pd.read_csv('../../data/processed/city_processed.csv')\n",
    "competitor = pd.read_csv('../../data/processed/competitors_processed.csv')\n",
    "consumer = pd.read_csv('../../data/processed/consumer_behavior_processed.csv')\n",
    "external = pd.read_csv('../../data/processed/market_influencers_processed.csv')\n",
    "sales = pd.read_csv('../../data/processed/sales_processed.csv')\n",
    "products = pd.read_csv('../../data/processed/products_processed.csv')\n",
    "\n",
    "# Create Selling_Price = Sales / Units_Sold\n",
    "sales['Selling_Price'] = sales['Sales'] / sales['Units_Sold']\n",
    "\n",
    "# Convert dates to datetime in all datasets\n",
    "sales['Date'] = pd.to_datetime(sales['Date'])\n",
    "external['Week_Start_Date'] = pd.to_datetime(external['Week_Start_Date'])\n",
    "competitor['Date'] = pd.to_datetime(competitor['Date'])\n",
    "\n",
    "\n",
    "\n",
    "# Merge with city data\n",
    "merged = sales.merge(city, on='City_ID', how='left')\n",
    "\n",
    "merged = merged.merge(\n",
    "    products, \n",
    "    left_on='SKU_ID', \n",
    "    right_on='SKU Identification Number', \n",
    "    how='left'\n",
    ")\n",
    "\n",
    "# merged = merged.merge(\n",
    "#     consumer, \n",
    "#     on=\"City_ID\",\n",
    "#     how='left'\n",
    "# )\n",
    "\n",
    "\n",
    "\n",
    "# # Add week start date to sales data\n",
    "# merged['Week_Start_Date'] = merged['Date'] - pd.to_timedelta(merged['Date'].dt.dayofweek, unit='D')\n",
    "\n",
    "# # Merge with external market data (now aligned on datetime)\n",
    "# merged = merged.merge(\n",
    "#     external, \n",
    "#     left_on=['Week_Start_Date', 'City_ID'], \n",
    "#     right_on=['Week_Start_Date', 'City_ID'], \n",
    "#     how='left'\n",
    "# )\n",
    "\n",
    "# # Merge with competitor data (filter for Minute Maid)\n",
    "# competitor_mm = competitor[competitor['Brand'] == 'Minute Maid']\n",
    "# merged = merged.merge(\n",
    "#     competitor_mm, \n",
    "#     left_on=['Week_Start_Date', 'Channel'], \n",
    "#     right_on=['Date', 'Channel'], \n",
    "#     suffixes=('', '_competitor'), \n",
    "#     how='left'\n",
    "# )\n",
    "\n",
    "# # Merge consumer behavior (aggregate by city and channel)\n",
    "# # Standardize channel names to match (e.g., \"E-commerce\" vs \"E Commerce\")\n",
    "# consumer['Preferred_Channel'] = consumer['Preferred_Channel'].str.replace('-', ' ', regex=False)\n",
    "# merged['Channel'] = merged['Channel'].str.replace('-', ' ', regex=False)\n",
    "\n",
    "# consumer_agg = consumer.groupby(['City_ID', 'Preferred_Channel']).agg(\n",
    "#     Avg_Income=('Income_Level', 'mean'),\n",
    "#     Preferred_Flavor=('Preferred_Flavor', lambda x: x.mode()[0]),\n",
    "#     Active_Customers=('Active', 'sum')\n",
    "# ).reset_index()\n",
    "\n",
    "# merged = merged.merge(\n",
    "#     consumer_agg, \n",
    "#     left_on=['City_ID', 'Channel'], \n",
    "#     right_on=['City_ID', 'Preferred_Channel'], \n",
    "#     how='left'\n",
    "# )\n",
    "\n",
    "merged.head(1000)"
   ]
  },
  {
   "cell_type": "code",
   "execution_count": 20,
   "metadata": {},
   "outputs": [],
   "source": [
    "merged.to_csv('../../data/aggregated/merged_data_daily_granularity.csv', index=False)"
   ]
  },
  {
   "cell_type": "code",
   "execution_count": 2,
   "metadata": {},
   "outputs": [
    {
     "data": {
      "text/html": [
       "<div>\n",
       "<style scoped>\n",
       "    .dataframe tbody tr th:only-of-type {\n",
       "        vertical-align: middle;\n",
       "    }\n",
       "\n",
       "    .dataframe tbody tr th {\n",
       "        vertical-align: top;\n",
       "    }\n",
       "\n",
       "    .dataframe thead th {\n",
       "        text-align: right;\n",
       "    }\n",
       "</style>\n",
       "<table border=\"1\" class=\"dataframe\">\n",
       "  <thead>\n",
       "    <tr style=\"text-align: right;\">\n",
       "      <th></th>\n",
       "      <th>Date</th>\n",
       "      <th>City_ID</th>\n",
       "      <th>SKU_ID</th>\n",
       "      <th>Channel</th>\n",
       "      <th>Units_Sold</th>\n",
       "      <th>Sales</th>\n",
       "      <th>Selling_Price</th>\n",
       "      <th>City_Name</th>\n",
       "      <th>City_tier</th>\n",
       "      <th>Population_Density(persons/km)</th>\n",
       "      <th>...</th>\n",
       "      <th>Product Name</th>\n",
       "      <th>Flavor Variant</th>\n",
       "      <th>SKU Identification Number</th>\n",
       "      <th>Launch Date</th>\n",
       "      <th>Pack Size (L)</th>\n",
       "      <th>General Trade</th>\n",
       "      <th>E Commerce</th>\n",
       "      <th>Modern Trade</th>\n",
       "      <th>HoReCa</th>\n",
       "      <th>Q Commerce</th>\n",
       "    </tr>\n",
       "  </thead>\n",
       "  <tbody>\n",
       "    <tr>\n",
       "      <th>0</th>\n",
       "      <td>2023-01-01</td>\n",
       "      <td>CT001</td>\n",
       "      <td>SKU1002</td>\n",
       "      <td>Q Commerce</td>\n",
       "      <td>268</td>\n",
       "      <td>80.4</td>\n",
       "      <td>0.3</td>\n",
       "      <td>Delhi</td>\n",
       "      <td>Tier 1</td>\n",
       "      <td>14893</td>\n",
       "      <td>...</td>\n",
       "      <td>Minute Maid Mixed Fruit Juice</td>\n",
       "      <td>Mixed Fruit</td>\n",
       "      <td>SKU1002</td>\n",
       "      <td>2015-04-23</td>\n",
       "      <td>1.00</td>\n",
       "      <td>1</td>\n",
       "      <td>1</td>\n",
       "      <td>1</td>\n",
       "      <td>1</td>\n",
       "      <td>1</td>\n",
       "    </tr>\n",
       "    <tr>\n",
       "      <th>1</th>\n",
       "      <td>2023-01-01</td>\n",
       "      <td>CT001</td>\n",
       "      <td>SKU1004</td>\n",
       "      <td>Q Commerce</td>\n",
       "      <td>168</td>\n",
       "      <td>50.4</td>\n",
       "      <td>0.3</td>\n",
       "      <td>Delhi</td>\n",
       "      <td>Tier 1</td>\n",
       "      <td>14893</td>\n",
       "      <td>...</td>\n",
       "      <td>Minute Maid Pulpy Orange</td>\n",
       "      <td>Orange</td>\n",
       "      <td>SKU1004</td>\n",
       "      <td>2015-04-23</td>\n",
       "      <td>1.00</td>\n",
       "      <td>1</td>\n",
       "      <td>1</td>\n",
       "      <td>1</td>\n",
       "      <td>1</td>\n",
       "      <td>1</td>\n",
       "    </tr>\n",
       "    <tr>\n",
       "      <th>2</th>\n",
       "      <td>2023-01-01</td>\n",
       "      <td>CT001</td>\n",
       "      <td>SKU1001</td>\n",
       "      <td>E Commerce</td>\n",
       "      <td>521</td>\n",
       "      <td>156.3</td>\n",
       "      <td>0.3</td>\n",
       "      <td>Delhi</td>\n",
       "      <td>Tier 1</td>\n",
       "      <td>14893</td>\n",
       "      <td>...</td>\n",
       "      <td>Minute Maid Apple Juice - Honey Infused</td>\n",
       "      <td>Apple</td>\n",
       "      <td>SKU1001</td>\n",
       "      <td>2022-02-19</td>\n",
       "      <td>1.00</td>\n",
       "      <td>1</td>\n",
       "      <td>1</td>\n",
       "      <td>0</td>\n",
       "      <td>0</td>\n",
       "      <td>0</td>\n",
       "    </tr>\n",
       "    <tr>\n",
       "      <th>3</th>\n",
       "      <td>2023-01-01</td>\n",
       "      <td>CT001</td>\n",
       "      <td>SKU1002</td>\n",
       "      <td>E Commerce</td>\n",
       "      <td>247</td>\n",
       "      <td>74.1</td>\n",
       "      <td>0.3</td>\n",
       "      <td>Delhi</td>\n",
       "      <td>Tier 1</td>\n",
       "      <td>14893</td>\n",
       "      <td>...</td>\n",
       "      <td>Minute Maid Mixed Fruit Juice</td>\n",
       "      <td>Mixed Fruit</td>\n",
       "      <td>SKU1002</td>\n",
       "      <td>2015-04-23</td>\n",
       "      <td>1.00</td>\n",
       "      <td>1</td>\n",
       "      <td>1</td>\n",
       "      <td>1</td>\n",
       "      <td>1</td>\n",
       "      <td>1</td>\n",
       "    </tr>\n",
       "    <tr>\n",
       "      <th>4</th>\n",
       "      <td>2023-01-01</td>\n",
       "      <td>CT001</td>\n",
       "      <td>SKU1007</td>\n",
       "      <td>E Commerce</td>\n",
       "      <td>161</td>\n",
       "      <td>12075.0</td>\n",
       "      <td>75.0</td>\n",
       "      <td>Delhi</td>\n",
       "      <td>Tier 1</td>\n",
       "      <td>14893</td>\n",
       "      <td>...</td>\n",
       "      <td>Minute Maid 250ml Pulpy Orange</td>\n",
       "      <td>Orange</td>\n",
       "      <td>SKU1007</td>\n",
       "      <td>2015-04-23</td>\n",
       "      <td>0.25</td>\n",
       "      <td>1</td>\n",
       "      <td>1</td>\n",
       "      <td>1</td>\n",
       "      <td>1</td>\n",
       "      <td>0</td>\n",
       "    </tr>\n",
       "    <tr>\n",
       "      <th>...</th>\n",
       "      <td>...</td>\n",
       "      <td>...</td>\n",
       "      <td>...</td>\n",
       "      <td>...</td>\n",
       "      <td>...</td>\n",
       "      <td>...</td>\n",
       "      <td>...</td>\n",
       "      <td>...</td>\n",
       "      <td>...</td>\n",
       "      <td>...</td>\n",
       "      <td>...</td>\n",
       "      <td>...</td>\n",
       "      <td>...</td>\n",
       "      <td>...</td>\n",
       "      <td>...</td>\n",
       "      <td>...</td>\n",
       "      <td>...</td>\n",
       "      <td>...</td>\n",
       "      <td>...</td>\n",
       "      <td>...</td>\n",
       "      <td>...</td>\n",
       "    </tr>\n",
       "    <tr>\n",
       "      <th>995</th>\n",
       "      <td>2023-01-03</td>\n",
       "      <td>CT008</td>\n",
       "      <td>SKU1007</td>\n",
       "      <td>Modern Trade</td>\n",
       "      <td>803</td>\n",
       "      <td>60225.0</td>\n",
       "      <td>75.0</td>\n",
       "      <td>Pune</td>\n",
       "      <td>Tier 1</td>\n",
       "      <td>6034</td>\n",
       "      <td>...</td>\n",
       "      <td>Minute Maid 250ml Pulpy Orange</td>\n",
       "      <td>Orange</td>\n",
       "      <td>SKU1007</td>\n",
       "      <td>2015-04-23</td>\n",
       "      <td>0.25</td>\n",
       "      <td>1</td>\n",
       "      <td>1</td>\n",
       "      <td>1</td>\n",
       "      <td>1</td>\n",
       "      <td>0</td>\n",
       "    </tr>\n",
       "    <tr>\n",
       "      <th>996</th>\n",
       "      <td>2023-01-03</td>\n",
       "      <td>CT008</td>\n",
       "      <td>SKU1004</td>\n",
       "      <td>Modern Trade</td>\n",
       "      <td>209</td>\n",
       "      <td>62.7</td>\n",
       "      <td>0.3</td>\n",
       "      <td>Pune</td>\n",
       "      <td>Tier 1</td>\n",
       "      <td>6034</td>\n",
       "      <td>...</td>\n",
       "      <td>Minute Maid Pulpy Orange</td>\n",
       "      <td>Orange</td>\n",
       "      <td>SKU1004</td>\n",
       "      <td>2015-04-23</td>\n",
       "      <td>1.00</td>\n",
       "      <td>1</td>\n",
       "      <td>1</td>\n",
       "      <td>1</td>\n",
       "      <td>1</td>\n",
       "      <td>1</td>\n",
       "    </tr>\n",
       "    <tr>\n",
       "      <th>997</th>\n",
       "      <td>2023-01-03</td>\n",
       "      <td>CT008</td>\n",
       "      <td>SKU1008</td>\n",
       "      <td>Modern Trade</td>\n",
       "      <td>167</td>\n",
       "      <td>12525.0</td>\n",
       "      <td>75.0</td>\n",
       "      <td>Pune</td>\n",
       "      <td>Tier 1</td>\n",
       "      <td>6034</td>\n",
       "      <td>...</td>\n",
       "      <td>Minute Maid 250ml Mixed Fruit Juice</td>\n",
       "      <td>Mixed Fruit</td>\n",
       "      <td>SKU1008</td>\n",
       "      <td>2015-04-23</td>\n",
       "      <td>0.25</td>\n",
       "      <td>1</td>\n",
       "      <td>1</td>\n",
       "      <td>1</td>\n",
       "      <td>1</td>\n",
       "      <td>0</td>\n",
       "    </tr>\n",
       "    <tr>\n",
       "      <th>998</th>\n",
       "      <td>2023-01-03</td>\n",
       "      <td>CT008</td>\n",
       "      <td>SKU1001</td>\n",
       "      <td>General Trade</td>\n",
       "      <td>2366</td>\n",
       "      <td>709.8</td>\n",
       "      <td>0.3</td>\n",
       "      <td>Pune</td>\n",
       "      <td>Tier 1</td>\n",
       "      <td>6034</td>\n",
       "      <td>...</td>\n",
       "      <td>Minute Maid Apple Juice - Honey Infused</td>\n",
       "      <td>Apple</td>\n",
       "      <td>SKU1001</td>\n",
       "      <td>2022-02-19</td>\n",
       "      <td>1.00</td>\n",
       "      <td>1</td>\n",
       "      <td>1</td>\n",
       "      <td>0</td>\n",
       "      <td>0</td>\n",
       "      <td>0</td>\n",
       "    </tr>\n",
       "    <tr>\n",
       "      <th>999</th>\n",
       "      <td>2023-01-03</td>\n",
       "      <td>CT008</td>\n",
       "      <td>SKU1002</td>\n",
       "      <td>General Trade</td>\n",
       "      <td>883</td>\n",
       "      <td>264.9</td>\n",
       "      <td>0.3</td>\n",
       "      <td>Pune</td>\n",
       "      <td>Tier 1</td>\n",
       "      <td>6034</td>\n",
       "      <td>...</td>\n",
       "      <td>Minute Maid Mixed Fruit Juice</td>\n",
       "      <td>Mixed Fruit</td>\n",
       "      <td>SKU1002</td>\n",
       "      <td>2015-04-23</td>\n",
       "      <td>1.00</td>\n",
       "      <td>1</td>\n",
       "      <td>1</td>\n",
       "      <td>1</td>\n",
       "      <td>1</td>\n",
       "      <td>1</td>\n",
       "    </tr>\n",
       "  </tbody>\n",
       "</table>\n",
       "<p>1000 rows × 21 columns</p>\n",
       "</div>"
      ],
      "text/plain": [
       "           Date City_ID   SKU_ID        Channel  Units_Sold    Sales  \\\n",
       "0    2023-01-01   CT001  SKU1002     Q Commerce         268     80.4   \n",
       "1    2023-01-01   CT001  SKU1004     Q Commerce         168     50.4   \n",
       "2    2023-01-01   CT001  SKU1001     E Commerce         521    156.3   \n",
       "3    2023-01-01   CT001  SKU1002     E Commerce         247     74.1   \n",
       "4    2023-01-01   CT001  SKU1007     E Commerce         161  12075.0   \n",
       "..          ...     ...      ...            ...         ...      ...   \n",
       "995  2023-01-03   CT008  SKU1007   Modern Trade         803  60225.0   \n",
       "996  2023-01-03   CT008  SKU1004   Modern Trade         209     62.7   \n",
       "997  2023-01-03   CT008  SKU1008   Modern Trade         167  12525.0   \n",
       "998  2023-01-03   CT008  SKU1001  General Trade        2366    709.8   \n",
       "999  2023-01-03   CT008  SKU1002  General Trade         883    264.9   \n",
       "\n",
       "     Selling_Price City_Name City_tier  Population_Density(persons/km)  ...  \\\n",
       "0              0.3     Delhi    Tier 1                           14893  ...   \n",
       "1              0.3     Delhi    Tier 1                           14893  ...   \n",
       "2              0.3     Delhi    Tier 1                           14893  ...   \n",
       "3              0.3     Delhi    Tier 1                           14893  ...   \n",
       "4             75.0     Delhi    Tier 1                           14893  ...   \n",
       "..             ...       ...       ...                             ...  ...   \n",
       "995           75.0      Pune    Tier 1                            6034  ...   \n",
       "996            0.3      Pune    Tier 1                            6034  ...   \n",
       "997           75.0      Pune    Tier 1                            6034  ...   \n",
       "998            0.3      Pune    Tier 1                            6034  ...   \n",
       "999            0.3      Pune    Tier 1                            6034  ...   \n",
       "\n",
       "                                Product Name Flavor Variant  \\\n",
       "0              Minute Maid Mixed Fruit Juice    Mixed Fruit   \n",
       "1                   Minute Maid Pulpy Orange         Orange   \n",
       "2    Minute Maid Apple Juice - Honey Infused          Apple   \n",
       "3              Minute Maid Mixed Fruit Juice    Mixed Fruit   \n",
       "4             Minute Maid 250ml Pulpy Orange         Orange   \n",
       "..                                       ...            ...   \n",
       "995           Minute Maid 250ml Pulpy Orange         Orange   \n",
       "996                 Minute Maid Pulpy Orange         Orange   \n",
       "997      Minute Maid 250ml Mixed Fruit Juice    Mixed Fruit   \n",
       "998  Minute Maid Apple Juice - Honey Infused          Apple   \n",
       "999            Minute Maid Mixed Fruit Juice    Mixed Fruit   \n",
       "\n",
       "    SKU Identification Number Launch Date Pack Size (L)  General Trade  \\\n",
       "0                     SKU1002  2015-04-23          1.00              1   \n",
       "1                     SKU1004  2015-04-23          1.00              1   \n",
       "2                     SKU1001  2022-02-19          1.00              1   \n",
       "3                     SKU1002  2015-04-23          1.00              1   \n",
       "4                     SKU1007  2015-04-23          0.25              1   \n",
       "..                        ...         ...           ...            ...   \n",
       "995                   SKU1007  2015-04-23          0.25              1   \n",
       "996                   SKU1004  2015-04-23          1.00              1   \n",
       "997                   SKU1008  2015-04-23          0.25              1   \n",
       "998                   SKU1001  2022-02-19          1.00              1   \n",
       "999                   SKU1002  2015-04-23          1.00              1   \n",
       "\n",
       "     E Commerce  Modern Trade  HoReCa  Q Commerce  \n",
       "0             1             1       1           1  \n",
       "1             1             1       1           1  \n",
       "2             1             0       0           0  \n",
       "3             1             1       1           1  \n",
       "4             1             1       1           0  \n",
       "..          ...           ...     ...         ...  \n",
       "995           1             1       1           0  \n",
       "996           1             1       1           1  \n",
       "997           1             1       1           0  \n",
       "998           1             0       0           0  \n",
       "999           1             1       1           1  \n",
       "\n",
       "[1000 rows x 21 columns]"
      ]
     },
     "execution_count": 2,
     "metadata": {},
     "output_type": "execute_result"
    }
   ],
   "source": [
    "# drop City_ID, SKU_ID, Product_Name, SKU Identification Name, Launch Date\n",
    "merged = pd.read_csv('../../data/aggregated/merged_data_daily_granularity.csv')\n",
    "# merged = merged.drop(columns=['City_ID', 'SKU_ID', 'Product Name', 'SKU Identification Number', 'Launch Date', \"Channel\", \"Selling_Price\"])\n",
    "merged.head(1000)"
   ]
  },
  {
   "cell_type": "code",
   "execution_count": 3,
   "metadata": {},
   "outputs": [
    {
     "data": {
      "text/html": [
       "<div>\n",
       "<style scoped>\n",
       "    .dataframe tbody tr th:only-of-type {\n",
       "        vertical-align: middle;\n",
       "    }\n",
       "\n",
       "    .dataframe tbody tr th {\n",
       "        vertical-align: top;\n",
       "    }\n",
       "\n",
       "    .dataframe thead th {\n",
       "        text-align: right;\n",
       "    }\n",
       "</style>\n",
       "<table border=\"1\" class=\"dataframe\">\n",
       "  <thead>\n",
       "    <tr style=\"text-align: right;\">\n",
       "      <th></th>\n",
       "      <th>Date</th>\n",
       "      <th>City_ID</th>\n",
       "      <th>SKU_ID</th>\n",
       "      <th>Channel</th>\n",
       "      <th>Units_Sold</th>\n",
       "      <th>Sales</th>\n",
       "      <th>Selling_Price</th>\n",
       "      <th>Population_Density(persons/km)</th>\n",
       "      <th>Per_Capita_Income (INR)</th>\n",
       "      <th>Product Name</th>\n",
       "      <th>SKU Identification Number</th>\n",
       "      <th>Launch Date</th>\n",
       "      <th>General Trade</th>\n",
       "      <th>E Commerce</th>\n",
       "      <th>Modern Trade</th>\n",
       "      <th>HoReCa</th>\n",
       "      <th>Q Commerce</th>\n",
       "      <th>City_Name_Ahmedabad</th>\n",
       "      <th>City_Name_Bengaluru</th>\n",
       "      <th>City_Name_Bhopal</th>\n",
       "      <th>City_Name_Chandigarh</th>\n",
       "      <th>City_Name_Chennai</th>\n",
       "      <th>City_Name_Delhi</th>\n",
       "      <th>City_Name_Guwahati</th>\n",
       "      <th>City_Name_Hyderabad</th>\n",
       "      <th>City_Name_Jaipur</th>\n",
       "      <th>City_Name_Jammu</th>\n",
       "      <th>City_Name_Kochi</th>\n",
       "      <th>City_Name_Kolkata</th>\n",
       "      <th>City_Name_Lucknow</th>\n",
       "      <th>City_Name_Ludhiana</th>\n",
       "      <th>City_Name_Mumbai</th>\n",
       "      <th>City_Name_Nagpur</th>\n",
       "      <th>City_Name_Patna</th>\n",
       "      <th>City_Name_Pune</th>\n",
       "      <th>City_Name_Surat</th>\n",
       "      <th>City_Name_Visakhapatnam</th>\n",
       "      <th>City_tier_Tier 1</th>\n",
       "      <th>City_tier_Tier 2</th>\n",
       "      <th>Flavor Variant_Apple</th>\n",
       "      <th>Flavor Variant_Guava</th>\n",
       "      <th>Flavor Variant_Mixed Fruit</th>\n",
       "      <th>Flavor Variant_Orange</th>\n",
       "      <th>Pack Size (L)_0.135</th>\n",
       "      <th>Pack Size (L)_0.25</th>\n",
       "      <th>Pack Size (L)_1.0</th>\n",
       "    </tr>\n",
       "  </thead>\n",
       "  <tbody>\n",
       "    <tr>\n",
       "      <th>0</th>\n",
       "      <td>2023-01-01</td>\n",
       "      <td>CT001</td>\n",
       "      <td>SKU1002</td>\n",
       "      <td>Q Commerce</td>\n",
       "      <td>268</td>\n",
       "      <td>80.4</td>\n",
       "      <td>0.3</td>\n",
       "      <td>14893</td>\n",
       "      <td>461910</td>\n",
       "      <td>Minute Maid Mixed Fruit Juice</td>\n",
       "      <td>SKU1002</td>\n",
       "      <td>2015-04-23</td>\n",
       "      <td>1</td>\n",
       "      <td>1</td>\n",
       "      <td>1</td>\n",
       "      <td>1</td>\n",
       "      <td>1</td>\n",
       "      <td>0</td>\n",
       "      <td>0</td>\n",
       "      <td>0</td>\n",
       "      <td>0</td>\n",
       "      <td>0</td>\n",
       "      <td>1</td>\n",
       "      <td>0</td>\n",
       "      <td>0</td>\n",
       "      <td>0</td>\n",
       "      <td>0</td>\n",
       "      <td>0</td>\n",
       "      <td>0</td>\n",
       "      <td>0</td>\n",
       "      <td>0</td>\n",
       "      <td>0</td>\n",
       "      <td>0</td>\n",
       "      <td>0</td>\n",
       "      <td>0</td>\n",
       "      <td>0</td>\n",
       "      <td>0</td>\n",
       "      <td>1</td>\n",
       "      <td>0</td>\n",
       "      <td>0</td>\n",
       "      <td>0</td>\n",
       "      <td>1</td>\n",
       "      <td>0</td>\n",
       "      <td>0</td>\n",
       "      <td>0</td>\n",
       "      <td>1</td>\n",
       "    </tr>\n",
       "    <tr>\n",
       "      <th>1</th>\n",
       "      <td>2023-01-01</td>\n",
       "      <td>CT001</td>\n",
       "      <td>SKU1004</td>\n",
       "      <td>Q Commerce</td>\n",
       "      <td>168</td>\n",
       "      <td>50.4</td>\n",
       "      <td>0.3</td>\n",
       "      <td>14893</td>\n",
       "      <td>461910</td>\n",
       "      <td>Minute Maid Pulpy Orange</td>\n",
       "      <td>SKU1004</td>\n",
       "      <td>2015-04-23</td>\n",
       "      <td>1</td>\n",
       "      <td>1</td>\n",
       "      <td>1</td>\n",
       "      <td>1</td>\n",
       "      <td>1</td>\n",
       "      <td>0</td>\n",
       "      <td>0</td>\n",
       "      <td>0</td>\n",
       "      <td>0</td>\n",
       "      <td>0</td>\n",
       "      <td>1</td>\n",
       "      <td>0</td>\n",
       "      <td>0</td>\n",
       "      <td>0</td>\n",
       "      <td>0</td>\n",
       "      <td>0</td>\n",
       "      <td>0</td>\n",
       "      <td>0</td>\n",
       "      <td>0</td>\n",
       "      <td>0</td>\n",
       "      <td>0</td>\n",
       "      <td>0</td>\n",
       "      <td>0</td>\n",
       "      <td>0</td>\n",
       "      <td>0</td>\n",
       "      <td>1</td>\n",
       "      <td>0</td>\n",
       "      <td>0</td>\n",
       "      <td>0</td>\n",
       "      <td>0</td>\n",
       "      <td>1</td>\n",
       "      <td>0</td>\n",
       "      <td>0</td>\n",
       "      <td>1</td>\n",
       "    </tr>\n",
       "    <tr>\n",
       "      <th>2</th>\n",
       "      <td>2023-01-01</td>\n",
       "      <td>CT001</td>\n",
       "      <td>SKU1001</td>\n",
       "      <td>E Commerce</td>\n",
       "      <td>521</td>\n",
       "      <td>156.3</td>\n",
       "      <td>0.3</td>\n",
       "      <td>14893</td>\n",
       "      <td>461910</td>\n",
       "      <td>Minute Maid Apple Juice - Honey Infused</td>\n",
       "      <td>SKU1001</td>\n",
       "      <td>2022-02-19</td>\n",
       "      <td>1</td>\n",
       "      <td>1</td>\n",
       "      <td>0</td>\n",
       "      <td>0</td>\n",
       "      <td>0</td>\n",
       "      <td>0</td>\n",
       "      <td>0</td>\n",
       "      <td>0</td>\n",
       "      <td>0</td>\n",
       "      <td>0</td>\n",
       "      <td>1</td>\n",
       "      <td>0</td>\n",
       "      <td>0</td>\n",
       "      <td>0</td>\n",
       "      <td>0</td>\n",
       "      <td>0</td>\n",
       "      <td>0</td>\n",
       "      <td>0</td>\n",
       "      <td>0</td>\n",
       "      <td>0</td>\n",
       "      <td>0</td>\n",
       "      <td>0</td>\n",
       "      <td>0</td>\n",
       "      <td>0</td>\n",
       "      <td>0</td>\n",
       "      <td>1</td>\n",
       "      <td>0</td>\n",
       "      <td>1</td>\n",
       "      <td>0</td>\n",
       "      <td>0</td>\n",
       "      <td>0</td>\n",
       "      <td>0</td>\n",
       "      <td>0</td>\n",
       "      <td>1</td>\n",
       "    </tr>\n",
       "    <tr>\n",
       "      <th>3</th>\n",
       "      <td>2023-01-01</td>\n",
       "      <td>CT001</td>\n",
       "      <td>SKU1002</td>\n",
       "      <td>E Commerce</td>\n",
       "      <td>247</td>\n",
       "      <td>74.1</td>\n",
       "      <td>0.3</td>\n",
       "      <td>14893</td>\n",
       "      <td>461910</td>\n",
       "      <td>Minute Maid Mixed Fruit Juice</td>\n",
       "      <td>SKU1002</td>\n",
       "      <td>2015-04-23</td>\n",
       "      <td>1</td>\n",
       "      <td>1</td>\n",
       "      <td>1</td>\n",
       "      <td>1</td>\n",
       "      <td>1</td>\n",
       "      <td>0</td>\n",
       "      <td>0</td>\n",
       "      <td>0</td>\n",
       "      <td>0</td>\n",
       "      <td>0</td>\n",
       "      <td>1</td>\n",
       "      <td>0</td>\n",
       "      <td>0</td>\n",
       "      <td>0</td>\n",
       "      <td>0</td>\n",
       "      <td>0</td>\n",
       "      <td>0</td>\n",
       "      <td>0</td>\n",
       "      <td>0</td>\n",
       "      <td>0</td>\n",
       "      <td>0</td>\n",
       "      <td>0</td>\n",
       "      <td>0</td>\n",
       "      <td>0</td>\n",
       "      <td>0</td>\n",
       "      <td>1</td>\n",
       "      <td>0</td>\n",
       "      <td>0</td>\n",
       "      <td>0</td>\n",
       "      <td>1</td>\n",
       "      <td>0</td>\n",
       "      <td>0</td>\n",
       "      <td>0</td>\n",
       "      <td>1</td>\n",
       "    </tr>\n",
       "    <tr>\n",
       "      <th>4</th>\n",
       "      <td>2023-01-01</td>\n",
       "      <td>CT001</td>\n",
       "      <td>SKU1007</td>\n",
       "      <td>E Commerce</td>\n",
       "      <td>161</td>\n",
       "      <td>12075.0</td>\n",
       "      <td>75.0</td>\n",
       "      <td>14893</td>\n",
       "      <td>461910</td>\n",
       "      <td>Minute Maid 250ml Pulpy Orange</td>\n",
       "      <td>SKU1007</td>\n",
       "      <td>2015-04-23</td>\n",
       "      <td>1</td>\n",
       "      <td>1</td>\n",
       "      <td>1</td>\n",
       "      <td>1</td>\n",
       "      <td>0</td>\n",
       "      <td>0</td>\n",
       "      <td>0</td>\n",
       "      <td>0</td>\n",
       "      <td>0</td>\n",
       "      <td>0</td>\n",
       "      <td>1</td>\n",
       "      <td>0</td>\n",
       "      <td>0</td>\n",
       "      <td>0</td>\n",
       "      <td>0</td>\n",
       "      <td>0</td>\n",
       "      <td>0</td>\n",
       "      <td>0</td>\n",
       "      <td>0</td>\n",
       "      <td>0</td>\n",
       "      <td>0</td>\n",
       "      <td>0</td>\n",
       "      <td>0</td>\n",
       "      <td>0</td>\n",
       "      <td>0</td>\n",
       "      <td>1</td>\n",
       "      <td>0</td>\n",
       "      <td>0</td>\n",
       "      <td>0</td>\n",
       "      <td>0</td>\n",
       "      <td>1</td>\n",
       "      <td>0</td>\n",
       "      <td>1</td>\n",
       "      <td>0</td>\n",
       "    </tr>\n",
       "    <tr>\n",
       "      <th>...</th>\n",
       "      <td>...</td>\n",
       "      <td>...</td>\n",
       "      <td>...</td>\n",
       "      <td>...</td>\n",
       "      <td>...</td>\n",
       "      <td>...</td>\n",
       "      <td>...</td>\n",
       "      <td>...</td>\n",
       "      <td>...</td>\n",
       "      <td>...</td>\n",
       "      <td>...</td>\n",
       "      <td>...</td>\n",
       "      <td>...</td>\n",
       "      <td>...</td>\n",
       "      <td>...</td>\n",
       "      <td>...</td>\n",
       "      <td>...</td>\n",
       "      <td>...</td>\n",
       "      <td>...</td>\n",
       "      <td>...</td>\n",
       "      <td>...</td>\n",
       "      <td>...</td>\n",
       "      <td>...</td>\n",
       "      <td>...</td>\n",
       "      <td>...</td>\n",
       "      <td>...</td>\n",
       "      <td>...</td>\n",
       "      <td>...</td>\n",
       "      <td>...</td>\n",
       "      <td>...</td>\n",
       "      <td>...</td>\n",
       "      <td>...</td>\n",
       "      <td>...</td>\n",
       "      <td>...</td>\n",
       "      <td>...</td>\n",
       "      <td>...</td>\n",
       "      <td>...</td>\n",
       "      <td>...</td>\n",
       "      <td>...</td>\n",
       "      <td>...</td>\n",
       "      <td>...</td>\n",
       "      <td>...</td>\n",
       "      <td>...</td>\n",
       "      <td>...</td>\n",
       "      <td>...</td>\n",
       "      <td>...</td>\n",
       "    </tr>\n",
       "    <tr>\n",
       "      <th>995</th>\n",
       "      <td>2023-01-03</td>\n",
       "      <td>CT008</td>\n",
       "      <td>SKU1007</td>\n",
       "      <td>Modern Trade</td>\n",
       "      <td>803</td>\n",
       "      <td>60225.0</td>\n",
       "      <td>75.0</td>\n",
       "      <td>6034</td>\n",
       "      <td>336503</td>\n",
       "      <td>Minute Maid 250ml Pulpy Orange</td>\n",
       "      <td>SKU1007</td>\n",
       "      <td>2015-04-23</td>\n",
       "      <td>1</td>\n",
       "      <td>1</td>\n",
       "      <td>1</td>\n",
       "      <td>1</td>\n",
       "      <td>0</td>\n",
       "      <td>0</td>\n",
       "      <td>0</td>\n",
       "      <td>0</td>\n",
       "      <td>0</td>\n",
       "      <td>0</td>\n",
       "      <td>0</td>\n",
       "      <td>0</td>\n",
       "      <td>0</td>\n",
       "      <td>0</td>\n",
       "      <td>0</td>\n",
       "      <td>0</td>\n",
       "      <td>0</td>\n",
       "      <td>0</td>\n",
       "      <td>0</td>\n",
       "      <td>0</td>\n",
       "      <td>0</td>\n",
       "      <td>0</td>\n",
       "      <td>1</td>\n",
       "      <td>0</td>\n",
       "      <td>0</td>\n",
       "      <td>1</td>\n",
       "      <td>0</td>\n",
       "      <td>0</td>\n",
       "      <td>0</td>\n",
       "      <td>0</td>\n",
       "      <td>1</td>\n",
       "      <td>0</td>\n",
       "      <td>1</td>\n",
       "      <td>0</td>\n",
       "    </tr>\n",
       "    <tr>\n",
       "      <th>996</th>\n",
       "      <td>2023-01-03</td>\n",
       "      <td>CT008</td>\n",
       "      <td>SKU1004</td>\n",
       "      <td>Modern Trade</td>\n",
       "      <td>209</td>\n",
       "      <td>62.7</td>\n",
       "      <td>0.3</td>\n",
       "      <td>6034</td>\n",
       "      <td>336503</td>\n",
       "      <td>Minute Maid Pulpy Orange</td>\n",
       "      <td>SKU1004</td>\n",
       "      <td>2015-04-23</td>\n",
       "      <td>1</td>\n",
       "      <td>1</td>\n",
       "      <td>1</td>\n",
       "      <td>1</td>\n",
       "      <td>1</td>\n",
       "      <td>0</td>\n",
       "      <td>0</td>\n",
       "      <td>0</td>\n",
       "      <td>0</td>\n",
       "      <td>0</td>\n",
       "      <td>0</td>\n",
       "      <td>0</td>\n",
       "      <td>0</td>\n",
       "      <td>0</td>\n",
       "      <td>0</td>\n",
       "      <td>0</td>\n",
       "      <td>0</td>\n",
       "      <td>0</td>\n",
       "      <td>0</td>\n",
       "      <td>0</td>\n",
       "      <td>0</td>\n",
       "      <td>0</td>\n",
       "      <td>1</td>\n",
       "      <td>0</td>\n",
       "      <td>0</td>\n",
       "      <td>1</td>\n",
       "      <td>0</td>\n",
       "      <td>0</td>\n",
       "      <td>0</td>\n",
       "      <td>0</td>\n",
       "      <td>1</td>\n",
       "      <td>0</td>\n",
       "      <td>0</td>\n",
       "      <td>1</td>\n",
       "    </tr>\n",
       "    <tr>\n",
       "      <th>997</th>\n",
       "      <td>2023-01-03</td>\n",
       "      <td>CT008</td>\n",
       "      <td>SKU1008</td>\n",
       "      <td>Modern Trade</td>\n",
       "      <td>167</td>\n",
       "      <td>12525.0</td>\n",
       "      <td>75.0</td>\n",
       "      <td>6034</td>\n",
       "      <td>336503</td>\n",
       "      <td>Minute Maid 250ml Mixed Fruit Juice</td>\n",
       "      <td>SKU1008</td>\n",
       "      <td>2015-04-23</td>\n",
       "      <td>1</td>\n",
       "      <td>1</td>\n",
       "      <td>1</td>\n",
       "      <td>1</td>\n",
       "      <td>0</td>\n",
       "      <td>0</td>\n",
       "      <td>0</td>\n",
       "      <td>0</td>\n",
       "      <td>0</td>\n",
       "      <td>0</td>\n",
       "      <td>0</td>\n",
       "      <td>0</td>\n",
       "      <td>0</td>\n",
       "      <td>0</td>\n",
       "      <td>0</td>\n",
       "      <td>0</td>\n",
       "      <td>0</td>\n",
       "      <td>0</td>\n",
       "      <td>0</td>\n",
       "      <td>0</td>\n",
       "      <td>0</td>\n",
       "      <td>0</td>\n",
       "      <td>1</td>\n",
       "      <td>0</td>\n",
       "      <td>0</td>\n",
       "      <td>1</td>\n",
       "      <td>0</td>\n",
       "      <td>0</td>\n",
       "      <td>0</td>\n",
       "      <td>1</td>\n",
       "      <td>0</td>\n",
       "      <td>0</td>\n",
       "      <td>1</td>\n",
       "      <td>0</td>\n",
       "    </tr>\n",
       "    <tr>\n",
       "      <th>998</th>\n",
       "      <td>2023-01-03</td>\n",
       "      <td>CT008</td>\n",
       "      <td>SKU1001</td>\n",
       "      <td>General Trade</td>\n",
       "      <td>2366</td>\n",
       "      <td>709.8</td>\n",
       "      <td>0.3</td>\n",
       "      <td>6034</td>\n",
       "      <td>336503</td>\n",
       "      <td>Minute Maid Apple Juice - Honey Infused</td>\n",
       "      <td>SKU1001</td>\n",
       "      <td>2022-02-19</td>\n",
       "      <td>1</td>\n",
       "      <td>1</td>\n",
       "      <td>0</td>\n",
       "      <td>0</td>\n",
       "      <td>0</td>\n",
       "      <td>0</td>\n",
       "      <td>0</td>\n",
       "      <td>0</td>\n",
       "      <td>0</td>\n",
       "      <td>0</td>\n",
       "      <td>0</td>\n",
       "      <td>0</td>\n",
       "      <td>0</td>\n",
       "      <td>0</td>\n",
       "      <td>0</td>\n",
       "      <td>0</td>\n",
       "      <td>0</td>\n",
       "      <td>0</td>\n",
       "      <td>0</td>\n",
       "      <td>0</td>\n",
       "      <td>0</td>\n",
       "      <td>0</td>\n",
       "      <td>1</td>\n",
       "      <td>0</td>\n",
       "      <td>0</td>\n",
       "      <td>1</td>\n",
       "      <td>0</td>\n",
       "      <td>1</td>\n",
       "      <td>0</td>\n",
       "      <td>0</td>\n",
       "      <td>0</td>\n",
       "      <td>0</td>\n",
       "      <td>0</td>\n",
       "      <td>1</td>\n",
       "    </tr>\n",
       "    <tr>\n",
       "      <th>999</th>\n",
       "      <td>2023-01-03</td>\n",
       "      <td>CT008</td>\n",
       "      <td>SKU1002</td>\n",
       "      <td>General Trade</td>\n",
       "      <td>883</td>\n",
       "      <td>264.9</td>\n",
       "      <td>0.3</td>\n",
       "      <td>6034</td>\n",
       "      <td>336503</td>\n",
       "      <td>Minute Maid Mixed Fruit Juice</td>\n",
       "      <td>SKU1002</td>\n",
       "      <td>2015-04-23</td>\n",
       "      <td>1</td>\n",
       "      <td>1</td>\n",
       "      <td>1</td>\n",
       "      <td>1</td>\n",
       "      <td>1</td>\n",
       "      <td>0</td>\n",
       "      <td>0</td>\n",
       "      <td>0</td>\n",
       "      <td>0</td>\n",
       "      <td>0</td>\n",
       "      <td>0</td>\n",
       "      <td>0</td>\n",
       "      <td>0</td>\n",
       "      <td>0</td>\n",
       "      <td>0</td>\n",
       "      <td>0</td>\n",
       "      <td>0</td>\n",
       "      <td>0</td>\n",
       "      <td>0</td>\n",
       "      <td>0</td>\n",
       "      <td>0</td>\n",
       "      <td>0</td>\n",
       "      <td>1</td>\n",
       "      <td>0</td>\n",
       "      <td>0</td>\n",
       "      <td>1</td>\n",
       "      <td>0</td>\n",
       "      <td>0</td>\n",
       "      <td>0</td>\n",
       "      <td>1</td>\n",
       "      <td>0</td>\n",
       "      <td>0</td>\n",
       "      <td>0</td>\n",
       "      <td>1</td>\n",
       "    </tr>\n",
       "  </tbody>\n",
       "</table>\n",
       "<p>1000 rows × 46 columns</p>\n",
       "</div>"
      ],
      "text/plain": [
       "           Date City_ID   SKU_ID        Channel  Units_Sold    Sales  \\\n",
       "0    2023-01-01   CT001  SKU1002     Q Commerce         268     80.4   \n",
       "1    2023-01-01   CT001  SKU1004     Q Commerce         168     50.4   \n",
       "2    2023-01-01   CT001  SKU1001     E Commerce         521    156.3   \n",
       "3    2023-01-01   CT001  SKU1002     E Commerce         247     74.1   \n",
       "4    2023-01-01   CT001  SKU1007     E Commerce         161  12075.0   \n",
       "..          ...     ...      ...            ...         ...      ...   \n",
       "995  2023-01-03   CT008  SKU1007   Modern Trade         803  60225.0   \n",
       "996  2023-01-03   CT008  SKU1004   Modern Trade         209     62.7   \n",
       "997  2023-01-03   CT008  SKU1008   Modern Trade         167  12525.0   \n",
       "998  2023-01-03   CT008  SKU1001  General Trade        2366    709.8   \n",
       "999  2023-01-03   CT008  SKU1002  General Trade         883    264.9   \n",
       "\n",
       "     Selling_Price  Population_Density(persons/km)  Per_Capita_Income (INR)  \\\n",
       "0              0.3                           14893                   461910   \n",
       "1              0.3                           14893                   461910   \n",
       "2              0.3                           14893                   461910   \n",
       "3              0.3                           14893                   461910   \n",
       "4             75.0                           14893                   461910   \n",
       "..             ...                             ...                      ...   \n",
       "995           75.0                            6034                   336503   \n",
       "996            0.3                            6034                   336503   \n",
       "997           75.0                            6034                   336503   \n",
       "998            0.3                            6034                   336503   \n",
       "999            0.3                            6034                   336503   \n",
       "\n",
       "                                Product Name SKU Identification Number  \\\n",
       "0              Minute Maid Mixed Fruit Juice                   SKU1002   \n",
       "1                   Minute Maid Pulpy Orange                   SKU1004   \n",
       "2    Minute Maid Apple Juice - Honey Infused                   SKU1001   \n",
       "3              Minute Maid Mixed Fruit Juice                   SKU1002   \n",
       "4             Minute Maid 250ml Pulpy Orange                   SKU1007   \n",
       "..                                       ...                       ...   \n",
       "995           Minute Maid 250ml Pulpy Orange                   SKU1007   \n",
       "996                 Minute Maid Pulpy Orange                   SKU1004   \n",
       "997      Minute Maid 250ml Mixed Fruit Juice                   SKU1008   \n",
       "998  Minute Maid Apple Juice - Honey Infused                   SKU1001   \n",
       "999            Minute Maid Mixed Fruit Juice                   SKU1002   \n",
       "\n",
       "    Launch Date  General Trade  E Commerce  Modern Trade  HoReCa  Q Commerce  \\\n",
       "0    2015-04-23              1           1             1       1           1   \n",
       "1    2015-04-23              1           1             1       1           1   \n",
       "2    2022-02-19              1           1             0       0           0   \n",
       "3    2015-04-23              1           1             1       1           1   \n",
       "4    2015-04-23              1           1             1       1           0   \n",
       "..          ...            ...         ...           ...     ...         ...   \n",
       "995  2015-04-23              1           1             1       1           0   \n",
       "996  2015-04-23              1           1             1       1           1   \n",
       "997  2015-04-23              1           1             1       1           0   \n",
       "998  2022-02-19              1           1             0       0           0   \n",
       "999  2015-04-23              1           1             1       1           1   \n",
       "\n",
       "     City_Name_Ahmedabad  City_Name_Bengaluru  City_Name_Bhopal  \\\n",
       "0                      0                    0                 0   \n",
       "1                      0                    0                 0   \n",
       "2                      0                    0                 0   \n",
       "3                      0                    0                 0   \n",
       "4                      0                    0                 0   \n",
       "..                   ...                  ...               ...   \n",
       "995                    0                    0                 0   \n",
       "996                    0                    0                 0   \n",
       "997                    0                    0                 0   \n",
       "998                    0                    0                 0   \n",
       "999                    0                    0                 0   \n",
       "\n",
       "     City_Name_Chandigarh  City_Name_Chennai  City_Name_Delhi  \\\n",
       "0                       0                  0                1   \n",
       "1                       0                  0                1   \n",
       "2                       0                  0                1   \n",
       "3                       0                  0                1   \n",
       "4                       0                  0                1   \n",
       "..                    ...                ...              ...   \n",
       "995                     0                  0                0   \n",
       "996                     0                  0                0   \n",
       "997                     0                  0                0   \n",
       "998                     0                  0                0   \n",
       "999                     0                  0                0   \n",
       "\n",
       "     City_Name_Guwahati  City_Name_Hyderabad  City_Name_Jaipur  \\\n",
       "0                     0                    0                 0   \n",
       "1                     0                    0                 0   \n",
       "2                     0                    0                 0   \n",
       "3                     0                    0                 0   \n",
       "4                     0                    0                 0   \n",
       "..                  ...                  ...               ...   \n",
       "995                   0                    0                 0   \n",
       "996                   0                    0                 0   \n",
       "997                   0                    0                 0   \n",
       "998                   0                    0                 0   \n",
       "999                   0                    0                 0   \n",
       "\n",
       "     City_Name_Jammu  City_Name_Kochi  City_Name_Kolkata  City_Name_Lucknow  \\\n",
       "0                  0                0                  0                  0   \n",
       "1                  0                0                  0                  0   \n",
       "2                  0                0                  0                  0   \n",
       "3                  0                0                  0                  0   \n",
       "4                  0                0                  0                  0   \n",
       "..               ...              ...                ...                ...   \n",
       "995                0                0                  0                  0   \n",
       "996                0                0                  0                  0   \n",
       "997                0                0                  0                  0   \n",
       "998                0                0                  0                  0   \n",
       "999                0                0                  0                  0   \n",
       "\n",
       "     City_Name_Ludhiana  City_Name_Mumbai  City_Name_Nagpur  City_Name_Patna  \\\n",
       "0                     0                 0                 0                0   \n",
       "1                     0                 0                 0                0   \n",
       "2                     0                 0                 0                0   \n",
       "3                     0                 0                 0                0   \n",
       "4                     0                 0                 0                0   \n",
       "..                  ...               ...               ...              ...   \n",
       "995                   0                 0                 0                0   \n",
       "996                   0                 0                 0                0   \n",
       "997                   0                 0                 0                0   \n",
       "998                   0                 0                 0                0   \n",
       "999                   0                 0                 0                0   \n",
       "\n",
       "     City_Name_Pune  City_Name_Surat  City_Name_Visakhapatnam  \\\n",
       "0                 0                0                        0   \n",
       "1                 0                0                        0   \n",
       "2                 0                0                        0   \n",
       "3                 0                0                        0   \n",
       "4                 0                0                        0   \n",
       "..              ...              ...                      ...   \n",
       "995               1                0                        0   \n",
       "996               1                0                        0   \n",
       "997               1                0                        0   \n",
       "998               1                0                        0   \n",
       "999               1                0                        0   \n",
       "\n",
       "     City_tier_Tier 1  City_tier_Tier 2  Flavor Variant_Apple  \\\n",
       "0                   1                 0                     0   \n",
       "1                   1                 0                     0   \n",
       "2                   1                 0                     1   \n",
       "3                   1                 0                     0   \n",
       "4                   1                 0                     0   \n",
       "..                ...               ...                   ...   \n",
       "995                 1                 0                     0   \n",
       "996                 1                 0                     0   \n",
       "997                 1                 0                     0   \n",
       "998                 1                 0                     1   \n",
       "999                 1                 0                     0   \n",
       "\n",
       "     Flavor Variant_Guava  Flavor Variant_Mixed Fruit  Flavor Variant_Orange  \\\n",
       "0                       0                           1                      0   \n",
       "1                       0                           0                      1   \n",
       "2                       0                           0                      0   \n",
       "3                       0                           1                      0   \n",
       "4                       0                           0                      1   \n",
       "..                    ...                         ...                    ...   \n",
       "995                     0                           0                      1   \n",
       "996                     0                           0                      1   \n",
       "997                     0                           1                      0   \n",
       "998                     0                           0                      0   \n",
       "999                     0                           1                      0   \n",
       "\n",
       "     Pack Size (L)_0.135  Pack Size (L)_0.25  Pack Size (L)_1.0  \n",
       "0                      0                   0                  1  \n",
       "1                      0                   0                  1  \n",
       "2                      0                   0                  1  \n",
       "3                      0                   0                  1  \n",
       "4                      0                   1                  0  \n",
       "..                   ...                 ...                ...  \n",
       "995                    0                   1                  0  \n",
       "996                    0                   0                  1  \n",
       "997                    0                   1                  0  \n",
       "998                    0                   0                  1  \n",
       "999                    0                   0                  1  \n",
       "\n",
       "[1000 rows x 46 columns]"
      ]
     },
     "execution_count": 3,
     "metadata": {},
     "output_type": "execute_result"
    }
   ],
   "source": [
    "pd.set_option('display.max_columns', None)\n",
    "\n",
    "# One-hot encode categorical columns\n",
    "merged = pd.get_dummies(merged, columns=['City_Name', 'City_tier', 'Flavor Variant', 'Pack Size (L)'], dtype=int)\n",
    "merged.head(1000)"
   ]
  },
  {
   "cell_type": "code",
   "execution_count": 4,
   "metadata": {},
   "outputs": [],
   "source": [
    "merged.to_csv('../../data/aggregated/merged_data_daily_granularity_ohe.csv', index=False)"
   ]
  },
  {
   "cell_type": "code",
   "execution_count": 15,
   "metadata": {},
   "outputs": [
    {
     "data": {
      "text/plain": [
       "Date                              datetime64[ns]\n",
       "City_ID                                   object\n",
       "SKU_ID                                    object\n",
       "Channel                                   object\n",
       "Units_Sold                                 int64\n",
       "Sales                                    float64\n",
       "Selling_Price                            float64\n",
       "Population_Density(persons/km)             int64\n",
       "Per_Capita_Income (INR)                    int64\n",
       "Product Name                              object\n",
       "SKU Identification Number                 object\n",
       "Launch Date                               object\n",
       "General Trade                              int64\n",
       "E Commerce                                 int64\n",
       "Modern Trade                               int64\n",
       "HoReCa                                     int64\n",
       "Q Commerce                                 int64\n",
       "City_Name_Ahmedabad                        int64\n",
       "City_Name_Bengaluru                        int64\n",
       "City_Name_Bhopal                           int64\n",
       "City_Name_Chandigarh                       int64\n",
       "City_Name_Chennai                          int64\n",
       "City_Name_Delhi                            int64\n",
       "City_Name_Guwahati                         int64\n",
       "City_Name_Hyderabad                        int64\n",
       "City_Name_Jaipur                           int64\n",
       "City_Name_Jammu                            int64\n",
       "City_Name_Kochi                            int64\n",
       "City_Name_Kolkata                          int64\n",
       "City_Name_Lucknow                          int64\n",
       "City_Name_Ludhiana                         int64\n",
       "City_Name_Mumbai                           int64\n",
       "City_Name_Nagpur                           int64\n",
       "City_Name_Patna                            int64\n",
       "City_Name_Pune                             int64\n",
       "City_Name_Surat                            int64\n",
       "City_Name_Visakhapatnam                    int64\n",
       "City_tier_Tier 1                           int64\n",
       "City_tier_Tier 2                           int64\n",
       "Flavor Variant_Apple                       int64\n",
       "Flavor Variant_Guava                       int64\n",
       "Flavor Variant_Mixed Fruit                 int64\n",
       "Flavor Variant_Orange                      int64\n",
       "Pack Size (L)_0.135                        int64\n",
       "Pack Size (L)_0.25                         int64\n",
       "Pack Size (L)_1.0                          int64\n",
       "dtype: object"
      ]
     },
     "execution_count": 15,
     "metadata": {},
     "output_type": "execute_result"
    }
   ],
   "source": [
    "import pandas as pd\n",
    "\n",
    "df = pd.read_csv('../../data/aggregated/merged_data_daily_granularity_ohe.csv')\n",
    "\n",
    "# convert Date to datetime object of format yyyy-mm-dd\n",
    "df['Date'] = pd.to_datetime(df['Date'])\n",
    "\n",
    "df.dtypes"
   ]
  },
  {
   "cell_type": "code",
   "execution_count": 16,
   "metadata": {},
   "outputs": [
    {
     "data": {
      "text/html": [
       "<div>\n",
       "<style scoped>\n",
       "    .dataframe tbody tr th:only-of-type {\n",
       "        vertical-align: middle;\n",
       "    }\n",
       "\n",
       "    .dataframe tbody tr th {\n",
       "        vertical-align: top;\n",
       "    }\n",
       "\n",
       "    .dataframe thead th {\n",
       "        text-align: right;\n",
       "    }\n",
       "</style>\n",
       "<table border=\"1\" class=\"dataframe\">\n",
       "  <thead>\n",
       "    <tr style=\"text-align: right;\">\n",
       "      <th></th>\n",
       "      <th>Date</th>\n",
       "      <th>Units_Sold</th>\n",
       "      <th>Sales</th>\n",
       "      <th>Selling_Price</th>\n",
       "      <th>Population_Density(persons/km)</th>\n",
       "      <th>Per_Capita_Income (INR)</th>\n",
       "      <th>City_Name_Ahmedabad</th>\n",
       "      <th>City_Name_Bengaluru</th>\n",
       "      <th>City_Name_Bhopal</th>\n",
       "      <th>City_Name_Chandigarh</th>\n",
       "      <th>City_Name_Chennai</th>\n",
       "      <th>City_Name_Delhi</th>\n",
       "      <th>City_Name_Guwahati</th>\n",
       "      <th>City_Name_Hyderabad</th>\n",
       "      <th>City_Name_Jaipur</th>\n",
       "      <th>City_Name_Jammu</th>\n",
       "      <th>City_Name_Kochi</th>\n",
       "      <th>City_Name_Kolkata</th>\n",
       "      <th>City_Name_Lucknow</th>\n",
       "      <th>City_Name_Ludhiana</th>\n",
       "      <th>City_Name_Mumbai</th>\n",
       "      <th>City_Name_Nagpur</th>\n",
       "      <th>City_Name_Patna</th>\n",
       "      <th>City_Name_Pune</th>\n",
       "      <th>City_Name_Surat</th>\n",
       "      <th>City_Name_Visakhapatnam</th>\n",
       "      <th>City_tier_Tier 1</th>\n",
       "      <th>City_tier_Tier 2</th>\n",
       "      <th>Flavor Variant_Apple</th>\n",
       "      <th>Flavor Variant_Guava</th>\n",
       "      <th>Flavor Variant_Mixed Fruit</th>\n",
       "      <th>Flavor Variant_Orange</th>\n",
       "      <th>Pack Size (L)_0.135</th>\n",
       "      <th>Pack Size (L)_0.25</th>\n",
       "      <th>Pack Size (L)_1.0</th>\n",
       "    </tr>\n",
       "  </thead>\n",
       "  <tbody>\n",
       "    <tr>\n",
       "      <th>0</th>\n",
       "      <td>2023-01-01</td>\n",
       "      <td>133098</td>\n",
       "      <td>2881566.0</td>\n",
       "      <td>30.671429</td>\n",
       "      <td>8730.2</td>\n",
       "      <td>313292.1</td>\n",
       "      <td>21</td>\n",
       "      <td>21</td>\n",
       "      <td>21</td>\n",
       "      <td>21</td>\n",
       "      <td>21</td>\n",
       "      <td>21</td>\n",
       "      <td>21</td>\n",
       "      <td>21</td>\n",
       "      <td>21</td>\n",
       "      <td>21</td>\n",
       "      <td>21</td>\n",
       "      <td>21</td>\n",
       "      <td>21</td>\n",
       "      <td>21</td>\n",
       "      <td>21</td>\n",
       "      <td>21</td>\n",
       "      <td>21</td>\n",
       "      <td>21</td>\n",
       "      <td>21</td>\n",
       "      <td>21</td>\n",
       "      <td>168</td>\n",
       "      <td>252</td>\n",
       "      <td>40</td>\n",
       "      <td>0</td>\n",
       "      <td>200</td>\n",
       "      <td>180</td>\n",
       "      <td>20</td>\n",
       "      <td>160</td>\n",
       "      <td>240</td>\n",
       "    </tr>\n",
       "    <tr>\n",
       "      <th>1</th>\n",
       "      <td>2023-01-02</td>\n",
       "      <td>131995</td>\n",
       "      <td>2780910.0</td>\n",
       "      <td>30.671429</td>\n",
       "      <td>8730.2</td>\n",
       "      <td>313292.1</td>\n",
       "      <td>21</td>\n",
       "      <td>21</td>\n",
       "      <td>21</td>\n",
       "      <td>21</td>\n",
       "      <td>21</td>\n",
       "      <td>21</td>\n",
       "      <td>21</td>\n",
       "      <td>21</td>\n",
       "      <td>21</td>\n",
       "      <td>21</td>\n",
       "      <td>21</td>\n",
       "      <td>21</td>\n",
       "      <td>21</td>\n",
       "      <td>21</td>\n",
       "      <td>21</td>\n",
       "      <td>21</td>\n",
       "      <td>21</td>\n",
       "      <td>21</td>\n",
       "      <td>21</td>\n",
       "      <td>21</td>\n",
       "      <td>168</td>\n",
       "      <td>252</td>\n",
       "      <td>40</td>\n",
       "      <td>0</td>\n",
       "      <td>200</td>\n",
       "      <td>180</td>\n",
       "      <td>20</td>\n",
       "      <td>160</td>\n",
       "      <td>240</td>\n",
       "    </tr>\n",
       "    <tr>\n",
       "      <th>2</th>\n",
       "      <td>2023-01-03</td>\n",
       "      <td>132096</td>\n",
       "      <td>2848796.7</td>\n",
       "      <td>30.671429</td>\n",
       "      <td>8730.2</td>\n",
       "      <td>313292.1</td>\n",
       "      <td>21</td>\n",
       "      <td>21</td>\n",
       "      <td>21</td>\n",
       "      <td>21</td>\n",
       "      <td>21</td>\n",
       "      <td>21</td>\n",
       "      <td>21</td>\n",
       "      <td>21</td>\n",
       "      <td>21</td>\n",
       "      <td>21</td>\n",
       "      <td>21</td>\n",
       "      <td>21</td>\n",
       "      <td>21</td>\n",
       "      <td>21</td>\n",
       "      <td>21</td>\n",
       "      <td>21</td>\n",
       "      <td>21</td>\n",
       "      <td>21</td>\n",
       "      <td>21</td>\n",
       "      <td>21</td>\n",
       "      <td>168</td>\n",
       "      <td>252</td>\n",
       "      <td>40</td>\n",
       "      <td>0</td>\n",
       "      <td>200</td>\n",
       "      <td>180</td>\n",
       "      <td>20</td>\n",
       "      <td>160</td>\n",
       "      <td>240</td>\n",
       "    </tr>\n",
       "    <tr>\n",
       "      <th>3</th>\n",
       "      <td>2023-01-04</td>\n",
       "      <td>132530</td>\n",
       "      <td>2819088.9</td>\n",
       "      <td>30.671429</td>\n",
       "      <td>8730.2</td>\n",
       "      <td>313292.1</td>\n",
       "      <td>21</td>\n",
       "      <td>21</td>\n",
       "      <td>21</td>\n",
       "      <td>21</td>\n",
       "      <td>21</td>\n",
       "      <td>21</td>\n",
       "      <td>21</td>\n",
       "      <td>21</td>\n",
       "      <td>21</td>\n",
       "      <td>21</td>\n",
       "      <td>21</td>\n",
       "      <td>21</td>\n",
       "      <td>21</td>\n",
       "      <td>21</td>\n",
       "      <td>21</td>\n",
       "      <td>21</td>\n",
       "      <td>21</td>\n",
       "      <td>21</td>\n",
       "      <td>21</td>\n",
       "      <td>21</td>\n",
       "      <td>168</td>\n",
       "      <td>252</td>\n",
       "      <td>40</td>\n",
       "      <td>0</td>\n",
       "      <td>200</td>\n",
       "      <td>180</td>\n",
       "      <td>20</td>\n",
       "      <td>160</td>\n",
       "      <td>240</td>\n",
       "    </tr>\n",
       "    <tr>\n",
       "      <th>4</th>\n",
       "      <td>2023-01-05</td>\n",
       "      <td>133672</td>\n",
       "      <td>2769576.6</td>\n",
       "      <td>30.671429</td>\n",
       "      <td>8730.2</td>\n",
       "      <td>313292.1</td>\n",
       "      <td>21</td>\n",
       "      <td>21</td>\n",
       "      <td>21</td>\n",
       "      <td>21</td>\n",
       "      <td>21</td>\n",
       "      <td>21</td>\n",
       "      <td>21</td>\n",
       "      <td>21</td>\n",
       "      <td>21</td>\n",
       "      <td>21</td>\n",
       "      <td>21</td>\n",
       "      <td>21</td>\n",
       "      <td>21</td>\n",
       "      <td>21</td>\n",
       "      <td>21</td>\n",
       "      <td>21</td>\n",
       "      <td>21</td>\n",
       "      <td>21</td>\n",
       "      <td>21</td>\n",
       "      <td>21</td>\n",
       "      <td>168</td>\n",
       "      <td>252</td>\n",
       "      <td>40</td>\n",
       "      <td>0</td>\n",
       "      <td>200</td>\n",
       "      <td>180</td>\n",
       "      <td>20</td>\n",
       "      <td>160</td>\n",
       "      <td>240</td>\n",
       "    </tr>\n",
       "    <tr>\n",
       "      <th>...</th>\n",
       "      <td>...</td>\n",
       "      <td>...</td>\n",
       "      <td>...</td>\n",
       "      <td>...</td>\n",
       "      <td>...</td>\n",
       "      <td>...</td>\n",
       "      <td>...</td>\n",
       "      <td>...</td>\n",
       "      <td>...</td>\n",
       "      <td>...</td>\n",
       "      <td>...</td>\n",
       "      <td>...</td>\n",
       "      <td>...</td>\n",
       "      <td>...</td>\n",
       "      <td>...</td>\n",
       "      <td>...</td>\n",
       "      <td>...</td>\n",
       "      <td>...</td>\n",
       "      <td>...</td>\n",
       "      <td>...</td>\n",
       "      <td>...</td>\n",
       "      <td>...</td>\n",
       "      <td>...</td>\n",
       "      <td>...</td>\n",
       "      <td>...</td>\n",
       "      <td>...</td>\n",
       "      <td>...</td>\n",
       "      <td>...</td>\n",
       "      <td>...</td>\n",
       "      <td>...</td>\n",
       "      <td>...</td>\n",
       "      <td>...</td>\n",
       "      <td>...</td>\n",
       "      <td>...</td>\n",
       "      <td>...</td>\n",
       "    </tr>\n",
       "    <tr>\n",
       "      <th>726</th>\n",
       "      <td>2024-12-27</td>\n",
       "      <td>165415</td>\n",
       "      <td>2970576.9</td>\n",
       "      <td>28.030435</td>\n",
       "      <td>8730.2</td>\n",
       "      <td>313292.1</td>\n",
       "      <td>23</td>\n",
       "      <td>23</td>\n",
       "      <td>23</td>\n",
       "      <td>23</td>\n",
       "      <td>23</td>\n",
       "      <td>23</td>\n",
       "      <td>23</td>\n",
       "      <td>23</td>\n",
       "      <td>23</td>\n",
       "      <td>23</td>\n",
       "      <td>23</td>\n",
       "      <td>23</td>\n",
       "      <td>23</td>\n",
       "      <td>23</td>\n",
       "      <td>23</td>\n",
       "      <td>23</td>\n",
       "      <td>23</td>\n",
       "      <td>23</td>\n",
       "      <td>23</td>\n",
       "      <td>23</td>\n",
       "      <td>184</td>\n",
       "      <td>276</td>\n",
       "      <td>40</td>\n",
       "      <td>40</td>\n",
       "      <td>200</td>\n",
       "      <td>180</td>\n",
       "      <td>20</td>\n",
       "      <td>160</td>\n",
       "      <td>280</td>\n",
       "    </tr>\n",
       "    <tr>\n",
       "      <th>727</th>\n",
       "      <td>2024-12-28</td>\n",
       "      <td>164602</td>\n",
       "      <td>3091994.4</td>\n",
       "      <td>28.030435</td>\n",
       "      <td>8730.2</td>\n",
       "      <td>313292.1</td>\n",
       "      <td>23</td>\n",
       "      <td>23</td>\n",
       "      <td>23</td>\n",
       "      <td>23</td>\n",
       "      <td>23</td>\n",
       "      <td>23</td>\n",
       "      <td>23</td>\n",
       "      <td>23</td>\n",
       "      <td>23</td>\n",
       "      <td>23</td>\n",
       "      <td>23</td>\n",
       "      <td>23</td>\n",
       "      <td>23</td>\n",
       "      <td>23</td>\n",
       "      <td>23</td>\n",
       "      <td>23</td>\n",
       "      <td>23</td>\n",
       "      <td>23</td>\n",
       "      <td>23</td>\n",
       "      <td>23</td>\n",
       "      <td>184</td>\n",
       "      <td>276</td>\n",
       "      <td>40</td>\n",
       "      <td>40</td>\n",
       "      <td>200</td>\n",
       "      <td>180</td>\n",
       "      <td>20</td>\n",
       "      <td>160</td>\n",
       "      <td>280</td>\n",
       "    </tr>\n",
       "    <tr>\n",
       "      <th>728</th>\n",
       "      <td>2024-12-29</td>\n",
       "      <td>166162</td>\n",
       "      <td>3165291.0</td>\n",
       "      <td>28.030435</td>\n",
       "      <td>8730.2</td>\n",
       "      <td>313292.1</td>\n",
       "      <td>23</td>\n",
       "      <td>23</td>\n",
       "      <td>23</td>\n",
       "      <td>23</td>\n",
       "      <td>23</td>\n",
       "      <td>23</td>\n",
       "      <td>23</td>\n",
       "      <td>23</td>\n",
       "      <td>23</td>\n",
       "      <td>23</td>\n",
       "      <td>23</td>\n",
       "      <td>23</td>\n",
       "      <td>23</td>\n",
       "      <td>23</td>\n",
       "      <td>23</td>\n",
       "      <td>23</td>\n",
       "      <td>23</td>\n",
       "      <td>23</td>\n",
       "      <td>23</td>\n",
       "      <td>23</td>\n",
       "      <td>184</td>\n",
       "      <td>276</td>\n",
       "      <td>40</td>\n",
       "      <td>40</td>\n",
       "      <td>200</td>\n",
       "      <td>180</td>\n",
       "      <td>20</td>\n",
       "      <td>160</td>\n",
       "      <td>280</td>\n",
       "    </tr>\n",
       "    <tr>\n",
       "      <th>729</th>\n",
       "      <td>2024-12-30</td>\n",
       "      <td>166345</td>\n",
       "      <td>3057104.4</td>\n",
       "      <td>28.030435</td>\n",
       "      <td>8730.2</td>\n",
       "      <td>313292.1</td>\n",
       "      <td>23</td>\n",
       "      <td>23</td>\n",
       "      <td>23</td>\n",
       "      <td>23</td>\n",
       "      <td>23</td>\n",
       "      <td>23</td>\n",
       "      <td>23</td>\n",
       "      <td>23</td>\n",
       "      <td>23</td>\n",
       "      <td>23</td>\n",
       "      <td>23</td>\n",
       "      <td>23</td>\n",
       "      <td>23</td>\n",
       "      <td>23</td>\n",
       "      <td>23</td>\n",
       "      <td>23</td>\n",
       "      <td>23</td>\n",
       "      <td>23</td>\n",
       "      <td>23</td>\n",
       "      <td>23</td>\n",
       "      <td>184</td>\n",
       "      <td>276</td>\n",
       "      <td>40</td>\n",
       "      <td>40</td>\n",
       "      <td>200</td>\n",
       "      <td>180</td>\n",
       "      <td>20</td>\n",
       "      <td>160</td>\n",
       "      <td>280</td>\n",
       "    </tr>\n",
       "    <tr>\n",
       "      <th>730</th>\n",
       "      <td>2024-12-31</td>\n",
       "      <td>169571</td>\n",
       "      <td>3184116.9</td>\n",
       "      <td>28.030435</td>\n",
       "      <td>8730.2</td>\n",
       "      <td>313292.1</td>\n",
       "      <td>23</td>\n",
       "      <td>23</td>\n",
       "      <td>23</td>\n",
       "      <td>23</td>\n",
       "      <td>23</td>\n",
       "      <td>23</td>\n",
       "      <td>23</td>\n",
       "      <td>23</td>\n",
       "      <td>23</td>\n",
       "      <td>23</td>\n",
       "      <td>23</td>\n",
       "      <td>23</td>\n",
       "      <td>23</td>\n",
       "      <td>23</td>\n",
       "      <td>23</td>\n",
       "      <td>23</td>\n",
       "      <td>23</td>\n",
       "      <td>23</td>\n",
       "      <td>23</td>\n",
       "      <td>23</td>\n",
       "      <td>184</td>\n",
       "      <td>276</td>\n",
       "      <td>40</td>\n",
       "      <td>40</td>\n",
       "      <td>200</td>\n",
       "      <td>180</td>\n",
       "      <td>20</td>\n",
       "      <td>160</td>\n",
       "      <td>280</td>\n",
       "    </tr>\n",
       "  </tbody>\n",
       "</table>\n",
       "<p>731 rows × 35 columns</p>\n",
       "</div>"
      ],
      "text/plain": [
       "          Date  Units_Sold      Sales  Selling_Price  \\\n",
       "0   2023-01-01      133098  2881566.0      30.671429   \n",
       "1   2023-01-02      131995  2780910.0      30.671429   \n",
       "2   2023-01-03      132096  2848796.7      30.671429   \n",
       "3   2023-01-04      132530  2819088.9      30.671429   \n",
       "4   2023-01-05      133672  2769576.6      30.671429   \n",
       "..         ...         ...        ...            ...   \n",
       "726 2024-12-27      165415  2970576.9      28.030435   \n",
       "727 2024-12-28      164602  3091994.4      28.030435   \n",
       "728 2024-12-29      166162  3165291.0      28.030435   \n",
       "729 2024-12-30      166345  3057104.4      28.030435   \n",
       "730 2024-12-31      169571  3184116.9      28.030435   \n",
       "\n",
       "     Population_Density(persons/km)  Per_Capita_Income (INR)  \\\n",
       "0                            8730.2                 313292.1   \n",
       "1                            8730.2                 313292.1   \n",
       "2                            8730.2                 313292.1   \n",
       "3                            8730.2                 313292.1   \n",
       "4                            8730.2                 313292.1   \n",
       "..                              ...                      ...   \n",
       "726                          8730.2                 313292.1   \n",
       "727                          8730.2                 313292.1   \n",
       "728                          8730.2                 313292.1   \n",
       "729                          8730.2                 313292.1   \n",
       "730                          8730.2                 313292.1   \n",
       "\n",
       "     City_Name_Ahmedabad  City_Name_Bengaluru  City_Name_Bhopal  \\\n",
       "0                     21                   21                21   \n",
       "1                     21                   21                21   \n",
       "2                     21                   21                21   \n",
       "3                     21                   21                21   \n",
       "4                     21                   21                21   \n",
       "..                   ...                  ...               ...   \n",
       "726                   23                   23                23   \n",
       "727                   23                   23                23   \n",
       "728                   23                   23                23   \n",
       "729                   23                   23                23   \n",
       "730                   23                   23                23   \n",
       "\n",
       "     City_Name_Chandigarh  City_Name_Chennai  City_Name_Delhi  \\\n",
       "0                      21                 21               21   \n",
       "1                      21                 21               21   \n",
       "2                      21                 21               21   \n",
       "3                      21                 21               21   \n",
       "4                      21                 21               21   \n",
       "..                    ...                ...              ...   \n",
       "726                    23                 23               23   \n",
       "727                    23                 23               23   \n",
       "728                    23                 23               23   \n",
       "729                    23                 23               23   \n",
       "730                    23                 23               23   \n",
       "\n",
       "     City_Name_Guwahati  City_Name_Hyderabad  City_Name_Jaipur  \\\n",
       "0                    21                   21                21   \n",
       "1                    21                   21                21   \n",
       "2                    21                   21                21   \n",
       "3                    21                   21                21   \n",
       "4                    21                   21                21   \n",
       "..                  ...                  ...               ...   \n",
       "726                  23                   23                23   \n",
       "727                  23                   23                23   \n",
       "728                  23                   23                23   \n",
       "729                  23                   23                23   \n",
       "730                  23                   23                23   \n",
       "\n",
       "     City_Name_Jammu  City_Name_Kochi  City_Name_Kolkata  City_Name_Lucknow  \\\n",
       "0                 21               21                 21                 21   \n",
       "1                 21               21                 21                 21   \n",
       "2                 21               21                 21                 21   \n",
       "3                 21               21                 21                 21   \n",
       "4                 21               21                 21                 21   \n",
       "..               ...              ...                ...                ...   \n",
       "726               23               23                 23                 23   \n",
       "727               23               23                 23                 23   \n",
       "728               23               23                 23                 23   \n",
       "729               23               23                 23                 23   \n",
       "730               23               23                 23                 23   \n",
       "\n",
       "     City_Name_Ludhiana  City_Name_Mumbai  City_Name_Nagpur  City_Name_Patna  \\\n",
       "0                    21                21                21               21   \n",
       "1                    21                21                21               21   \n",
       "2                    21                21                21               21   \n",
       "3                    21                21                21               21   \n",
       "4                    21                21                21               21   \n",
       "..                  ...               ...               ...              ...   \n",
       "726                  23                23                23               23   \n",
       "727                  23                23                23               23   \n",
       "728                  23                23                23               23   \n",
       "729                  23                23                23               23   \n",
       "730                  23                23                23               23   \n",
       "\n",
       "     City_Name_Pune  City_Name_Surat  City_Name_Visakhapatnam  \\\n",
       "0                21               21                       21   \n",
       "1                21               21                       21   \n",
       "2                21               21                       21   \n",
       "3                21               21                       21   \n",
       "4                21               21                       21   \n",
       "..              ...              ...                      ...   \n",
       "726              23               23                       23   \n",
       "727              23               23                       23   \n",
       "728              23               23                       23   \n",
       "729              23               23                       23   \n",
       "730              23               23                       23   \n",
       "\n",
       "     City_tier_Tier 1  City_tier_Tier 2  Flavor Variant_Apple  \\\n",
       "0                 168               252                    40   \n",
       "1                 168               252                    40   \n",
       "2                 168               252                    40   \n",
       "3                 168               252                    40   \n",
       "4                 168               252                    40   \n",
       "..                ...               ...                   ...   \n",
       "726               184               276                    40   \n",
       "727               184               276                    40   \n",
       "728               184               276                    40   \n",
       "729               184               276                    40   \n",
       "730               184               276                    40   \n",
       "\n",
       "     Flavor Variant_Guava  Flavor Variant_Mixed Fruit  Flavor Variant_Orange  \\\n",
       "0                       0                         200                    180   \n",
       "1                       0                         200                    180   \n",
       "2                       0                         200                    180   \n",
       "3                       0                         200                    180   \n",
       "4                       0                         200                    180   \n",
       "..                    ...                         ...                    ...   \n",
       "726                    40                         200                    180   \n",
       "727                    40                         200                    180   \n",
       "728                    40                         200                    180   \n",
       "729                    40                         200                    180   \n",
       "730                    40                         200                    180   \n",
       "\n",
       "     Pack Size (L)_0.135  Pack Size (L)_0.25  Pack Size (L)_1.0  \n",
       "0                     20                 160                240  \n",
       "1                     20                 160                240  \n",
       "2                     20                 160                240  \n",
       "3                     20                 160                240  \n",
       "4                     20                 160                240  \n",
       "..                   ...                 ...                ...  \n",
       "726                   20                 160                280  \n",
       "727                   20                 160                280  \n",
       "728                   20                 160                280  \n",
       "729                   20                 160                280  \n",
       "730                   20                 160                280  \n",
       "\n",
       "[731 rows x 35 columns]"
      ]
     },
     "execution_count": 16,
     "metadata": {},
     "output_type": "execute_result"
    }
   ],
   "source": [
    "\n",
    "# Fetch the above columns\n",
    "df = df[\n",
    "    [\n",
    "        'Date', \n",
    "        'Units_Sold', \n",
    "        'Sales', \n",
    "        'Selling_Price', \n",
    "        'Population_Density(persons/km)', \n",
    "        'Per_Capita_Income (INR)', \n",
    "        'City_Name_Ahmedabad', \n",
    "        'City_Name_Bengaluru', \n",
    "        'City_Name_Bhopal', \n",
    "        'City_Name_Chandigarh', \n",
    "        'City_Name_Chennai', \n",
    "        'City_Name_Delhi', \n",
    "        'City_Name_Guwahati', \n",
    "        'City_Name_Hyderabad', \n",
    "        'City_Name_Jaipur', \n",
    "        'City_Name_Jammu', \n",
    "        'City_Name_Kochi', \n",
    "        'City_Name_Kolkata', \n",
    "        'City_Name_Lucknow', \n",
    "        'City_Name_Ludhiana', \n",
    "        'City_Name_Mumbai', \n",
    "        'City_Name_Nagpur', \n",
    "        'City_Name_Patna', \n",
    "        'City_Name_Pune', \n",
    "        'City_Name_Surat', \n",
    "        'City_Name_Visakhapatnam', \n",
    "        'City_tier_Tier 1', \n",
    "        'City_tier_Tier 2', \n",
    "        'Flavor Variant_Apple', \n",
    "        'Flavor Variant_Guava', \n",
    "        'Flavor Variant_Mixed Fruit', \n",
    "        'Flavor Variant_Orange', \n",
    "        'Pack Size (L)_0.135', \n",
    "        'Pack Size (L)_0.25', \n",
    "        'Pack Size (L)_1.0'\n",
    "    ]\n",
    "]\n",
    "\n",
    "df_grouped = df.groupby('Date').agg({\n",
    "    'Units_Sold': 'sum',\n",
    "    'Sales': 'sum',\n",
    "    'Selling_Price': 'mean',\n",
    "    'Population_Density(persons/km)': 'mean',\n",
    "    'Per_Capita_Income (INR)': 'mean',\n",
    "    'City_Name_Ahmedabad': 'sum',\n",
    "    'City_Name_Bengaluru': 'sum',\n",
    "    'City_Name_Bhopal': 'sum',\n",
    "    'City_Name_Chandigarh': 'sum',\n",
    "    'City_Name_Chennai': 'sum',\n",
    "    'City_Name_Delhi': 'sum',\n",
    "    'City_Name_Guwahati': 'sum',\n",
    "    'City_Name_Hyderabad': 'sum',\n",
    "    'City_Name_Jaipur': 'sum',\n",
    "    'City_Name_Jammu': 'sum',\n",
    "    'City_Name_Kochi': 'sum',\n",
    "    'City_Name_Kolkata': 'sum',\n",
    "    'City_Name_Lucknow': 'sum',\n",
    "    'City_Name_Ludhiana': 'sum',\n",
    "    'City_Name_Mumbai': 'sum',\n",
    "    'City_Name_Nagpur': 'sum',\n",
    "    'City_Name_Patna': 'sum',\n",
    "    'City_Name_Pune': 'sum',\n",
    "    'City_Name_Surat': 'sum',\n",
    "    'City_Name_Visakhapatnam': 'sum',\n",
    "    'City_tier_Tier 1': 'sum',\n",
    "    'City_tier_Tier 2': 'sum',\n",
    "    'Flavor Variant_Apple': 'sum',\n",
    "    'Flavor Variant_Guava': 'sum',\n",
    "    'Flavor Variant_Mixed Fruit': 'sum',\n",
    "    'Flavor Variant_Orange': 'sum',\n",
    "    'Pack Size (L)_0.135': 'sum',\n",
    "    'Pack Size (L)_0.25': 'sum',\n",
    "    'Pack Size (L)_1.0': 'sum'\n",
    "}).reset_index()\n",
    "\n",
    "df_grouped.head(1000)"
   ]
  },
  {
   "cell_type": "code",
   "execution_count": 17,
   "metadata": {},
   "outputs": [],
   "source": [
    "df_grouped.to_csv('../../data/aggregated/merged_grouped_sales_data.csv', index=False)"
   ]
  },
  {
   "cell_type": "code",
   "execution_count": 35,
   "metadata": {},
   "outputs": [
    {
     "name": "stdout",
     "output_type": "stream",
     "text": [
      "(105, 14)\n"
     ]
    },
    {
     "data": {
      "text/html": [
       "<div>\n",
       "<style scoped>\n",
       "    .dataframe tbody tr th:only-of-type {\n",
       "        vertical-align: middle;\n",
       "    }\n",
       "\n",
       "    .dataframe tbody tr th {\n",
       "        vertical-align: top;\n",
       "    }\n",
       "\n",
       "    .dataframe thead th {\n",
       "        text-align: right;\n",
       "    }\n",
       "</style>\n",
       "<table border=\"1\" class=\"dataframe\">\n",
       "  <thead>\n",
       "    <tr style=\"text-align: right;\">\n",
       "      <th></th>\n",
       "      <th>Date</th>\n",
       "      <th>Mentions_Count</th>\n",
       "      <th>Sentiment_Score</th>\n",
       "      <th>Channel_E Commerce</th>\n",
       "      <th>Channel_General Trade</th>\n",
       "      <th>Channel_HoReCa</th>\n",
       "      <th>Channel_Modern Trade</th>\n",
       "      <th>Channel_Q Commerce</th>\n",
       "      <th>Brand_Amazon Solimo</th>\n",
       "      <th>Brand_B Natural</th>\n",
       "      <th>Brand_Minute Maid</th>\n",
       "      <th>Brand_Paper Boat</th>\n",
       "      <th>Brand_Real Fruit Juice</th>\n",
       "      <th>Brand_Tropicana</th>\n",
       "    </tr>\n",
       "  </thead>\n",
       "  <tbody>\n",
       "    <tr>\n",
       "      <th>0</th>\n",
       "      <td>2023-01-02</td>\n",
       "      <td>4027</td>\n",
       "      <td>69.116667</td>\n",
       "      <td>3</td>\n",
       "      <td>2</td>\n",
       "      <td>3</td>\n",
       "      <td>2</td>\n",
       "      <td>2</td>\n",
       "      <td>1</td>\n",
       "      <td>2</td>\n",
       "      <td>5</td>\n",
       "      <td>2</td>\n",
       "      <td>1</td>\n",
       "      <td>1</td>\n",
       "    </tr>\n",
       "    <tr>\n",
       "      <th>1</th>\n",
       "      <td>2023-01-09</td>\n",
       "      <td>4899</td>\n",
       "      <td>68.725000</td>\n",
       "      <td>3</td>\n",
       "      <td>2</td>\n",
       "      <td>3</td>\n",
       "      <td>2</td>\n",
       "      <td>2</td>\n",
       "      <td>1</td>\n",
       "      <td>2</td>\n",
       "      <td>5</td>\n",
       "      <td>2</td>\n",
       "      <td>1</td>\n",
       "      <td>1</td>\n",
       "    </tr>\n",
       "    <tr>\n",
       "      <th>2</th>\n",
       "      <td>2023-01-16</td>\n",
       "      <td>6050</td>\n",
       "      <td>69.975000</td>\n",
       "      <td>3</td>\n",
       "      <td>2</td>\n",
       "      <td>3</td>\n",
       "      <td>2</td>\n",
       "      <td>2</td>\n",
       "      <td>1</td>\n",
       "      <td>2</td>\n",
       "      <td>5</td>\n",
       "      <td>2</td>\n",
       "      <td>1</td>\n",
       "      <td>1</td>\n",
       "    </tr>\n",
       "    <tr>\n",
       "      <th>3</th>\n",
       "      <td>2023-01-23</td>\n",
       "      <td>4087</td>\n",
       "      <td>71.891667</td>\n",
       "      <td>3</td>\n",
       "      <td>2</td>\n",
       "      <td>3</td>\n",
       "      <td>2</td>\n",
       "      <td>2</td>\n",
       "      <td>1</td>\n",
       "      <td>2</td>\n",
       "      <td>5</td>\n",
       "      <td>2</td>\n",
       "      <td>1</td>\n",
       "      <td>1</td>\n",
       "    </tr>\n",
       "    <tr>\n",
       "      <th>4</th>\n",
       "      <td>2023-01-30</td>\n",
       "      <td>4732</td>\n",
       "      <td>67.008333</td>\n",
       "      <td>3</td>\n",
       "      <td>2</td>\n",
       "      <td>3</td>\n",
       "      <td>2</td>\n",
       "      <td>2</td>\n",
       "      <td>1</td>\n",
       "      <td>2</td>\n",
       "      <td>5</td>\n",
       "      <td>2</td>\n",
       "      <td>1</td>\n",
       "      <td>1</td>\n",
       "    </tr>\n",
       "    <tr>\n",
       "      <th>...</th>\n",
       "      <td>...</td>\n",
       "      <td>...</td>\n",
       "      <td>...</td>\n",
       "      <td>...</td>\n",
       "      <td>...</td>\n",
       "      <td>...</td>\n",
       "      <td>...</td>\n",
       "      <td>...</td>\n",
       "      <td>...</td>\n",
       "      <td>...</td>\n",
       "      <td>...</td>\n",
       "      <td>...</td>\n",
       "      <td>...</td>\n",
       "      <td>...</td>\n",
       "    </tr>\n",
       "    <tr>\n",
       "      <th>100</th>\n",
       "      <td>2024-12-02</td>\n",
       "      <td>4887</td>\n",
       "      <td>67.733333</td>\n",
       "      <td>3</td>\n",
       "      <td>2</td>\n",
       "      <td>3</td>\n",
       "      <td>2</td>\n",
       "      <td>2</td>\n",
       "      <td>1</td>\n",
       "      <td>2</td>\n",
       "      <td>5</td>\n",
       "      <td>2</td>\n",
       "      <td>1</td>\n",
       "      <td>1</td>\n",
       "    </tr>\n",
       "    <tr>\n",
       "      <th>101</th>\n",
       "      <td>2024-12-09</td>\n",
       "      <td>4716</td>\n",
       "      <td>71.616667</td>\n",
       "      <td>3</td>\n",
       "      <td>2</td>\n",
       "      <td>3</td>\n",
       "      <td>2</td>\n",
       "      <td>2</td>\n",
       "      <td>1</td>\n",
       "      <td>2</td>\n",
       "      <td>5</td>\n",
       "      <td>2</td>\n",
       "      <td>1</td>\n",
       "      <td>1</td>\n",
       "    </tr>\n",
       "    <tr>\n",
       "      <th>102</th>\n",
       "      <td>2024-12-16</td>\n",
       "      <td>5095</td>\n",
       "      <td>68.241667</td>\n",
       "      <td>3</td>\n",
       "      <td>2</td>\n",
       "      <td>3</td>\n",
       "      <td>2</td>\n",
       "      <td>2</td>\n",
       "      <td>1</td>\n",
       "      <td>2</td>\n",
       "      <td>5</td>\n",
       "      <td>2</td>\n",
       "      <td>1</td>\n",
       "      <td>1</td>\n",
       "    </tr>\n",
       "    <tr>\n",
       "      <th>103</th>\n",
       "      <td>2024-12-23</td>\n",
       "      <td>4371</td>\n",
       "      <td>69.375000</td>\n",
       "      <td>3</td>\n",
       "      <td>2</td>\n",
       "      <td>3</td>\n",
       "      <td>2</td>\n",
       "      <td>2</td>\n",
       "      <td>1</td>\n",
       "      <td>2</td>\n",
       "      <td>5</td>\n",
       "      <td>2</td>\n",
       "      <td>1</td>\n",
       "      <td>1</td>\n",
       "    </tr>\n",
       "    <tr>\n",
       "      <th>104</th>\n",
       "      <td>2024-12-30</td>\n",
       "      <td>3850</td>\n",
       "      <td>67.783333</td>\n",
       "      <td>3</td>\n",
       "      <td>2</td>\n",
       "      <td>3</td>\n",
       "      <td>2</td>\n",
       "      <td>2</td>\n",
       "      <td>1</td>\n",
       "      <td>2</td>\n",
       "      <td>5</td>\n",
       "      <td>2</td>\n",
       "      <td>1</td>\n",
       "      <td>1</td>\n",
       "    </tr>\n",
       "  </tbody>\n",
       "</table>\n",
       "<p>105 rows × 14 columns</p>\n",
       "</div>"
      ],
      "text/plain": [
       "          Date  Mentions_Count  Sentiment_Score  Channel_E Commerce  \\\n",
       "0   2023-01-02            4027        69.116667                   3   \n",
       "1   2023-01-09            4899        68.725000                   3   \n",
       "2   2023-01-16            6050        69.975000                   3   \n",
       "3   2023-01-23            4087        71.891667                   3   \n",
       "4   2023-01-30            4732        67.008333                   3   \n",
       "..         ...             ...              ...                 ...   \n",
       "100 2024-12-02            4887        67.733333                   3   \n",
       "101 2024-12-09            4716        71.616667                   3   \n",
       "102 2024-12-16            5095        68.241667                   3   \n",
       "103 2024-12-23            4371        69.375000                   3   \n",
       "104 2024-12-30            3850        67.783333                   3   \n",
       "\n",
       "     Channel_General Trade  Channel_HoReCa  Channel_Modern Trade  \\\n",
       "0                        2               3                     2   \n",
       "1                        2               3                     2   \n",
       "2                        2               3                     2   \n",
       "3                        2               3                     2   \n",
       "4                        2               3                     2   \n",
       "..                     ...             ...                   ...   \n",
       "100                      2               3                     2   \n",
       "101                      2               3                     2   \n",
       "102                      2               3                     2   \n",
       "103                      2               3                     2   \n",
       "104                      2               3                     2   \n",
       "\n",
       "     Channel_Q Commerce  Brand_Amazon Solimo  Brand_B Natural  \\\n",
       "0                     2                    1                2   \n",
       "1                     2                    1                2   \n",
       "2                     2                    1                2   \n",
       "3                     2                    1                2   \n",
       "4                     2                    1                2   \n",
       "..                  ...                  ...              ...   \n",
       "100                   2                    1                2   \n",
       "101                   2                    1                2   \n",
       "102                   2                    1                2   \n",
       "103                   2                    1                2   \n",
       "104                   2                    1                2   \n",
       "\n",
       "     Brand_Minute Maid  Brand_Paper Boat  Brand_Real Fruit Juice  \\\n",
       "0                    5                 2                       1   \n",
       "1                    5                 2                       1   \n",
       "2                    5                 2                       1   \n",
       "3                    5                 2                       1   \n",
       "4                    5                 2                       1   \n",
       "..                 ...               ...                     ...   \n",
       "100                  5                 2                       1   \n",
       "101                  5                 2                       1   \n",
       "102                  5                 2                       1   \n",
       "103                  5                 2                       1   \n",
       "104                  5                 2                       1   \n",
       "\n",
       "     Brand_Tropicana  \n",
       "0                  1  \n",
       "1                  1  \n",
       "2                  1  \n",
       "3                  1  \n",
       "4                  1  \n",
       "..               ...  \n",
       "100                1  \n",
       "101                1  \n",
       "102                1  \n",
       "103                1  \n",
       "104                1  \n",
       "\n",
       "[105 rows x 14 columns]"
      ]
     },
     "execution_count": 35,
     "metadata": {},
     "output_type": "execute_result"
    }
   ],
   "source": [
    "# read competitors data\n",
    "import pandas as pd\n",
    "\n",
    "df = pd.read_csv('../../data/processed/competitors_processed.csv')\n",
    "df['Date'] = pd.to_datetime(df['Date'])\n",
    "\n",
    "df = pd.get_dummies(df, columns=['Channel', 'Brand'], dtype=int)\n",
    "\n",
    "df = df.groupby('Date').agg({\n",
    "    'Mentions_Count': 'sum',\n",
    "    'Sentiment_Score': 'mean',\n",
    "    # 'Share_of_Voice': 'sum',  \n",
    "    'Channel_E Commerce': 'sum',\n",
    "    'Channel_General Trade': 'sum',\n",
    "    'Channel_HoReCa': 'sum',\n",
    "    'Channel_Modern Trade': 'sum',\n",
    "    'Channel_Q Commerce': 'sum',\n",
    "    'Brand_Amazon Solimo': 'sum',\n",
    "    'Brand_B Natural': 'sum',\n",
    "    'Brand_Minute Maid': 'sum',\n",
    "    'Brand_Paper Boat': 'sum',\n",
    "    'Brand_Real Fruit Juice': 'sum',\n",
    "    'Brand_Tropicana': 'sum'\n",
    "}).reset_index()\n",
    "\n",
    "print(df.shape)\n",
    "\n",
    "df.head(1000)"
   ]
  },
  {
   "cell_type": "code",
   "execution_count": 22,
   "metadata": {},
   "outputs": [],
   "source": [
    "df.to_csv('../../data/aggregated/competitors_weekly_data.csv', index=False)"
   ]
  },
  {
   "cell_type": "code",
   "execution_count": 34,
   "metadata": {},
   "outputs": [
    {
     "name": "stdout",
     "output_type": "stream",
     "text": [
      "(105, 10)\n"
     ]
    },
    {
     "data": {
      "text/html": [
       "<div>\n",
       "<style scoped>\n",
       "    .dataframe tbody tr th:only-of-type {\n",
       "        vertical-align: middle;\n",
       "    }\n",
       "\n",
       "    .dataframe tbody tr th {\n",
       "        vertical-align: top;\n",
       "    }\n",
       "\n",
       "    .dataframe thead th {\n",
       "        text-align: right;\n",
       "    }\n",
       "</style>\n",
       "<table border=\"1\" class=\"dataframe\">\n",
       "  <thead>\n",
       "    <tr style=\"text-align: right;\">\n",
       "      <th></th>\n",
       "      <th>Week_Start_Date</th>\n",
       "      <th>Avg_Temperature</th>\n",
       "      <th>Festival_Diwali</th>\n",
       "      <th>Festival_Holi</th>\n",
       "      <th>Festival_No Festival</th>\n",
       "      <th>Festival_Pongal</th>\n",
       "      <th>Weather_Type_Cold</th>\n",
       "      <th>Weather_Type_Hot</th>\n",
       "      <th>Weather_Type_Mild</th>\n",
       "      <th>Weather_Type_Rainy</th>\n",
       "    </tr>\n",
       "  </thead>\n",
       "  <tbody>\n",
       "    <tr>\n",
       "      <th>0</th>\n",
       "      <td>2023-01-02</td>\n",
       "      <td>20.105</td>\n",
       "      <td>0</td>\n",
       "      <td>0</td>\n",
       "      <td>1</td>\n",
       "      <td>0</td>\n",
       "      <td>1</td>\n",
       "      <td>0</td>\n",
       "      <td>1</td>\n",
       "      <td>0</td>\n",
       "    </tr>\n",
       "    <tr>\n",
       "      <th>1</th>\n",
       "      <td>2023-01-09</td>\n",
       "      <td>20.440</td>\n",
       "      <td>0</td>\n",
       "      <td>0</td>\n",
       "      <td>0</td>\n",
       "      <td>1</td>\n",
       "      <td>1</td>\n",
       "      <td>0</td>\n",
       "      <td>1</td>\n",
       "      <td>0</td>\n",
       "    </tr>\n",
       "    <tr>\n",
       "      <th>2</th>\n",
       "      <td>2023-01-16</td>\n",
       "      <td>20.305</td>\n",
       "      <td>0</td>\n",
       "      <td>0</td>\n",
       "      <td>1</td>\n",
       "      <td>0</td>\n",
       "      <td>1</td>\n",
       "      <td>0</td>\n",
       "      <td>1</td>\n",
       "      <td>0</td>\n",
       "    </tr>\n",
       "    <tr>\n",
       "      <th>3</th>\n",
       "      <td>2023-01-23</td>\n",
       "      <td>20.825</td>\n",
       "      <td>0</td>\n",
       "      <td>0</td>\n",
       "      <td>1</td>\n",
       "      <td>0</td>\n",
       "      <td>1</td>\n",
       "      <td>0</td>\n",
       "      <td>1</td>\n",
       "      <td>0</td>\n",
       "    </tr>\n",
       "    <tr>\n",
       "      <th>4</th>\n",
       "      <td>2023-01-30</td>\n",
       "      <td>21.845</td>\n",
       "      <td>0</td>\n",
       "      <td>0</td>\n",
       "      <td>1</td>\n",
       "      <td>0</td>\n",
       "      <td>1</td>\n",
       "      <td>0</td>\n",
       "      <td>1</td>\n",
       "      <td>0</td>\n",
       "    </tr>\n",
       "  </tbody>\n",
       "</table>\n",
       "</div>"
      ],
      "text/plain": [
       "  Week_Start_Date  Avg_Temperature  Festival_Diwali  Festival_Holi  \\\n",
       "0      2023-01-02           20.105                0              0   \n",
       "1      2023-01-09           20.440                0              0   \n",
       "2      2023-01-16           20.305                0              0   \n",
       "3      2023-01-23           20.825                0              0   \n",
       "4      2023-01-30           21.845                0              0   \n",
       "\n",
       "   Festival_No Festival  Festival_Pongal  Weather_Type_Cold  Weather_Type_Hot  \\\n",
       "0                     1                0                  1                 0   \n",
       "1                     0                1                  1                 0   \n",
       "2                     1                0                  1                 0   \n",
       "3                     1                0                  1                 0   \n",
       "4                     1                0                  1                 0   \n",
       "\n",
       "   Weather_Type_Mild  Weather_Type_Rainy  \n",
       "0                  1                   0  \n",
       "1                  1                   0  \n",
       "2                  1                   0  \n",
       "3                  1                   0  \n",
       "4                  1                   0  "
      ]
     },
     "execution_count": 34,
     "metadata": {},
     "output_type": "execute_result"
    }
   ],
   "source": [
    "\n",
    "import pandas as pd\n",
    "\n",
    "# read market data\n",
    "df = pd.read_csv('../../data/processed/market_influencers_processed.csv')\n",
    "city_df = pd.read_csv('../../data/processed/city_processed.csv')\n",
    "\n",
    "# convert Week_Start_Date to datetime object of format yyyy-mm-dd\n",
    "df['Week_Start_Date'] = pd.to_datetime(df['Week_Start_Date'])\n",
    "\n",
    "df = pd.get_dummies(df, columns=['Festival', 'Weather_Type'], dtype=int)\n",
    "# group by Week_Start_Date and aggregate\n",
    "df = df.groupby('Week_Start_Date').agg({\n",
    "    'Avg_Temperature': 'mean',\n",
    "    'Festival_Diwali': 'max',\n",
    "    'Festival_Holi': 'max',\n",
    "    'Festival_No Festival': 'max',\n",
    "    'Festival_Pongal': 'max',\n",
    "    'Weather_Type_Cold': 'max',\n",
    "    'Weather_Type_Hot': 'max',\n",
    "    'Weather_Type_Mild': 'max',\n",
    "    'Weather_Type_Rainy': 'max'\n",
    "}).reset_index()\n",
    "\n",
    "print(df.shape)\n",
    "df.head()"
   ]
  },
  {
   "cell_type": "code",
   "execution_count": 30,
   "metadata": {},
   "outputs": [],
   "source": [
    "df.to_csv('../../data/aggregated/market_influencers_weekly_data.csv', index=False)"
   ]
  },
  {
   "cell_type": "code",
   "execution_count": 37,
   "metadata": {},
   "outputs": [
    {
     "name": "stdout",
     "output_type": "stream",
     "text": [
      "(105, 10)\n",
      "(105, 14)\n",
      "(105, 23)\n"
     ]
    },
    {
     "data": {
      "text/html": [
       "<div>\n",
       "<style scoped>\n",
       "    .dataframe tbody tr th:only-of-type {\n",
       "        vertical-align: middle;\n",
       "    }\n",
       "\n",
       "    .dataframe tbody tr th {\n",
       "        vertical-align: top;\n",
       "    }\n",
       "\n",
       "    .dataframe thead th {\n",
       "        text-align: right;\n",
       "    }\n",
       "</style>\n",
       "<table border=\"1\" class=\"dataframe\">\n",
       "  <thead>\n",
       "    <tr style=\"text-align: right;\">\n",
       "      <th></th>\n",
       "      <th>Avg_Temperature</th>\n",
       "      <th>Festival_Diwali</th>\n",
       "      <th>Festival_Holi</th>\n",
       "      <th>Festival_No Festival</th>\n",
       "      <th>Festival_Pongal</th>\n",
       "      <th>Weather_Type_Cold</th>\n",
       "      <th>Weather_Type_Hot</th>\n",
       "      <th>Weather_Type_Mild</th>\n",
       "      <th>Weather_Type_Rainy</th>\n",
       "      <th>Date</th>\n",
       "      <th>Mentions_Count</th>\n",
       "      <th>Sentiment_Score</th>\n",
       "      <th>Channel_E Commerce</th>\n",
       "      <th>Channel_General Trade</th>\n",
       "      <th>Channel_HoReCa</th>\n",
       "      <th>Channel_Modern Trade</th>\n",
       "      <th>Channel_Q Commerce</th>\n",
       "      <th>Brand_Amazon Solimo</th>\n",
       "      <th>Brand_B Natural</th>\n",
       "      <th>Brand_Minute Maid</th>\n",
       "      <th>Brand_Paper Boat</th>\n",
       "      <th>Brand_Real Fruit Juice</th>\n",
       "      <th>Brand_Tropicana</th>\n",
       "    </tr>\n",
       "  </thead>\n",
       "  <tbody>\n",
       "    <tr>\n",
       "      <th>0</th>\n",
       "      <td>20.105</td>\n",
       "      <td>0</td>\n",
       "      <td>0</td>\n",
       "      <td>1</td>\n",
       "      <td>0</td>\n",
       "      <td>1</td>\n",
       "      <td>0</td>\n",
       "      <td>1</td>\n",
       "      <td>0</td>\n",
       "      <td>2023-01-02</td>\n",
       "      <td>4027</td>\n",
       "      <td>69.116667</td>\n",
       "      <td>3</td>\n",
       "      <td>2</td>\n",
       "      <td>3</td>\n",
       "      <td>2</td>\n",
       "      <td>2</td>\n",
       "      <td>1</td>\n",
       "      <td>2</td>\n",
       "      <td>5</td>\n",
       "      <td>2</td>\n",
       "      <td>1</td>\n",
       "      <td>1</td>\n",
       "    </tr>\n",
       "    <tr>\n",
       "      <th>1</th>\n",
       "      <td>20.440</td>\n",
       "      <td>0</td>\n",
       "      <td>0</td>\n",
       "      <td>0</td>\n",
       "      <td>1</td>\n",
       "      <td>1</td>\n",
       "      <td>0</td>\n",
       "      <td>1</td>\n",
       "      <td>0</td>\n",
       "      <td>2023-01-09</td>\n",
       "      <td>4899</td>\n",
       "      <td>68.725000</td>\n",
       "      <td>3</td>\n",
       "      <td>2</td>\n",
       "      <td>3</td>\n",
       "      <td>2</td>\n",
       "      <td>2</td>\n",
       "      <td>1</td>\n",
       "      <td>2</td>\n",
       "      <td>5</td>\n",
       "      <td>2</td>\n",
       "      <td>1</td>\n",
       "      <td>1</td>\n",
       "    </tr>\n",
       "    <tr>\n",
       "      <th>2</th>\n",
       "      <td>20.305</td>\n",
       "      <td>0</td>\n",
       "      <td>0</td>\n",
       "      <td>1</td>\n",
       "      <td>0</td>\n",
       "      <td>1</td>\n",
       "      <td>0</td>\n",
       "      <td>1</td>\n",
       "      <td>0</td>\n",
       "      <td>2023-01-16</td>\n",
       "      <td>6050</td>\n",
       "      <td>69.975000</td>\n",
       "      <td>3</td>\n",
       "      <td>2</td>\n",
       "      <td>3</td>\n",
       "      <td>2</td>\n",
       "      <td>2</td>\n",
       "      <td>1</td>\n",
       "      <td>2</td>\n",
       "      <td>5</td>\n",
       "      <td>2</td>\n",
       "      <td>1</td>\n",
       "      <td>1</td>\n",
       "    </tr>\n",
       "    <tr>\n",
       "      <th>3</th>\n",
       "      <td>20.825</td>\n",
       "      <td>0</td>\n",
       "      <td>0</td>\n",
       "      <td>1</td>\n",
       "      <td>0</td>\n",
       "      <td>1</td>\n",
       "      <td>0</td>\n",
       "      <td>1</td>\n",
       "      <td>0</td>\n",
       "      <td>2023-01-23</td>\n",
       "      <td>4087</td>\n",
       "      <td>71.891667</td>\n",
       "      <td>3</td>\n",
       "      <td>2</td>\n",
       "      <td>3</td>\n",
       "      <td>2</td>\n",
       "      <td>2</td>\n",
       "      <td>1</td>\n",
       "      <td>2</td>\n",
       "      <td>5</td>\n",
       "      <td>2</td>\n",
       "      <td>1</td>\n",
       "      <td>1</td>\n",
       "    </tr>\n",
       "    <tr>\n",
       "      <th>4</th>\n",
       "      <td>21.845</td>\n",
       "      <td>0</td>\n",
       "      <td>0</td>\n",
       "      <td>1</td>\n",
       "      <td>0</td>\n",
       "      <td>1</td>\n",
       "      <td>0</td>\n",
       "      <td>1</td>\n",
       "      <td>0</td>\n",
       "      <td>2023-01-30</td>\n",
       "      <td>4732</td>\n",
       "      <td>67.008333</td>\n",
       "      <td>3</td>\n",
       "      <td>2</td>\n",
       "      <td>3</td>\n",
       "      <td>2</td>\n",
       "      <td>2</td>\n",
       "      <td>1</td>\n",
       "      <td>2</td>\n",
       "      <td>5</td>\n",
       "      <td>2</td>\n",
       "      <td>1</td>\n",
       "      <td>1</td>\n",
       "    </tr>\n",
       "    <tr>\n",
       "      <th>...</th>\n",
       "      <td>...</td>\n",
       "      <td>...</td>\n",
       "      <td>...</td>\n",
       "      <td>...</td>\n",
       "      <td>...</td>\n",
       "      <td>...</td>\n",
       "      <td>...</td>\n",
       "      <td>...</td>\n",
       "      <td>...</td>\n",
       "      <td>...</td>\n",
       "      <td>...</td>\n",
       "      <td>...</td>\n",
       "      <td>...</td>\n",
       "      <td>...</td>\n",
       "      <td>...</td>\n",
       "      <td>...</td>\n",
       "      <td>...</td>\n",
       "      <td>...</td>\n",
       "      <td>...</td>\n",
       "      <td>...</td>\n",
       "      <td>...</td>\n",
       "      <td>...</td>\n",
       "      <td>...</td>\n",
       "    </tr>\n",
       "    <tr>\n",
       "      <th>100</th>\n",
       "      <td>21.060</td>\n",
       "      <td>0</td>\n",
       "      <td>0</td>\n",
       "      <td>1</td>\n",
       "      <td>0</td>\n",
       "      <td>1</td>\n",
       "      <td>0</td>\n",
       "      <td>1</td>\n",
       "      <td>0</td>\n",
       "      <td>2024-12-02</td>\n",
       "      <td>4887</td>\n",
       "      <td>67.733333</td>\n",
       "      <td>3</td>\n",
       "      <td>2</td>\n",
       "      <td>3</td>\n",
       "      <td>2</td>\n",
       "      <td>2</td>\n",
       "      <td>1</td>\n",
       "      <td>2</td>\n",
       "      <td>5</td>\n",
       "      <td>2</td>\n",
       "      <td>1</td>\n",
       "      <td>1</td>\n",
       "    </tr>\n",
       "    <tr>\n",
       "      <th>101</th>\n",
       "      <td>20.510</td>\n",
       "      <td>0</td>\n",
       "      <td>0</td>\n",
       "      <td>1</td>\n",
       "      <td>0</td>\n",
       "      <td>1</td>\n",
       "      <td>0</td>\n",
       "      <td>0</td>\n",
       "      <td>0</td>\n",
       "      <td>2024-12-09</td>\n",
       "      <td>4716</td>\n",
       "      <td>71.616667</td>\n",
       "      <td>3</td>\n",
       "      <td>2</td>\n",
       "      <td>3</td>\n",
       "      <td>2</td>\n",
       "      <td>2</td>\n",
       "      <td>1</td>\n",
       "      <td>2</td>\n",
       "      <td>5</td>\n",
       "      <td>2</td>\n",
       "      <td>1</td>\n",
       "      <td>1</td>\n",
       "    </tr>\n",
       "    <tr>\n",
       "      <th>102</th>\n",
       "      <td>20.565</td>\n",
       "      <td>0</td>\n",
       "      <td>0</td>\n",
       "      <td>1</td>\n",
       "      <td>0</td>\n",
       "      <td>1</td>\n",
       "      <td>0</td>\n",
       "      <td>1</td>\n",
       "      <td>0</td>\n",
       "      <td>2024-12-16</td>\n",
       "      <td>5095</td>\n",
       "      <td>68.241667</td>\n",
       "      <td>3</td>\n",
       "      <td>2</td>\n",
       "      <td>3</td>\n",
       "      <td>2</td>\n",
       "      <td>2</td>\n",
       "      <td>1</td>\n",
       "      <td>2</td>\n",
       "      <td>5</td>\n",
       "      <td>2</td>\n",
       "      <td>1</td>\n",
       "      <td>1</td>\n",
       "    </tr>\n",
       "    <tr>\n",
       "      <th>103</th>\n",
       "      <td>19.880</td>\n",
       "      <td>0</td>\n",
       "      <td>0</td>\n",
       "      <td>1</td>\n",
       "      <td>0</td>\n",
       "      <td>1</td>\n",
       "      <td>0</td>\n",
       "      <td>0</td>\n",
       "      <td>0</td>\n",
       "      <td>2024-12-23</td>\n",
       "      <td>4371</td>\n",
       "      <td>69.375000</td>\n",
       "      <td>3</td>\n",
       "      <td>2</td>\n",
       "      <td>3</td>\n",
       "      <td>2</td>\n",
       "      <td>2</td>\n",
       "      <td>1</td>\n",
       "      <td>2</td>\n",
       "      <td>5</td>\n",
       "      <td>2</td>\n",
       "      <td>1</td>\n",
       "      <td>1</td>\n",
       "    </tr>\n",
       "    <tr>\n",
       "      <th>104</th>\n",
       "      <td>19.690</td>\n",
       "      <td>0</td>\n",
       "      <td>0</td>\n",
       "      <td>1</td>\n",
       "      <td>0</td>\n",
       "      <td>1</td>\n",
       "      <td>0</td>\n",
       "      <td>0</td>\n",
       "      <td>0</td>\n",
       "      <td>2024-12-30</td>\n",
       "      <td>3850</td>\n",
       "      <td>67.783333</td>\n",
       "      <td>3</td>\n",
       "      <td>2</td>\n",
       "      <td>3</td>\n",
       "      <td>2</td>\n",
       "      <td>2</td>\n",
       "      <td>1</td>\n",
       "      <td>2</td>\n",
       "      <td>5</td>\n",
       "      <td>2</td>\n",
       "      <td>1</td>\n",
       "      <td>1</td>\n",
       "    </tr>\n",
       "  </tbody>\n",
       "</table>\n",
       "<p>105 rows × 23 columns</p>\n",
       "</div>"
      ],
      "text/plain": [
       "     Avg_Temperature  Festival_Diwali  Festival_Holi  Festival_No Festival  \\\n",
       "0             20.105                0              0                     1   \n",
       "1             20.440                0              0                     0   \n",
       "2             20.305                0              0                     1   \n",
       "3             20.825                0              0                     1   \n",
       "4             21.845                0              0                     1   \n",
       "..               ...              ...            ...                   ...   \n",
       "100           21.060                0              0                     1   \n",
       "101           20.510                0              0                     1   \n",
       "102           20.565                0              0                     1   \n",
       "103           19.880                0              0                     1   \n",
       "104           19.690                0              0                     1   \n",
       "\n",
       "     Festival_Pongal  Weather_Type_Cold  Weather_Type_Hot  Weather_Type_Mild  \\\n",
       "0                  0                  1                 0                  1   \n",
       "1                  1                  1                 0                  1   \n",
       "2                  0                  1                 0                  1   \n",
       "3                  0                  1                 0                  1   \n",
       "4                  0                  1                 0                  1   \n",
       "..               ...                ...               ...                ...   \n",
       "100                0                  1                 0                  1   \n",
       "101                0                  1                 0                  0   \n",
       "102                0                  1                 0                  1   \n",
       "103                0                  1                 0                  0   \n",
       "104                0                  1                 0                  0   \n",
       "\n",
       "     Weather_Type_Rainy        Date  Mentions_Count  Sentiment_Score  \\\n",
       "0                     0  2023-01-02            4027        69.116667   \n",
       "1                     0  2023-01-09            4899        68.725000   \n",
       "2                     0  2023-01-16            6050        69.975000   \n",
       "3                     0  2023-01-23            4087        71.891667   \n",
       "4                     0  2023-01-30            4732        67.008333   \n",
       "..                  ...         ...             ...              ...   \n",
       "100                   0  2024-12-02            4887        67.733333   \n",
       "101                   0  2024-12-09            4716        71.616667   \n",
       "102                   0  2024-12-16            5095        68.241667   \n",
       "103                   0  2024-12-23            4371        69.375000   \n",
       "104                   0  2024-12-30            3850        67.783333   \n",
       "\n",
       "     Channel_E Commerce  Channel_General Trade  Channel_HoReCa  \\\n",
       "0                     3                      2               3   \n",
       "1                     3                      2               3   \n",
       "2                     3                      2               3   \n",
       "3                     3                      2               3   \n",
       "4                     3                      2               3   \n",
       "..                  ...                    ...             ...   \n",
       "100                   3                      2               3   \n",
       "101                   3                      2               3   \n",
       "102                   3                      2               3   \n",
       "103                   3                      2               3   \n",
       "104                   3                      2               3   \n",
       "\n",
       "     Channel_Modern Trade  Channel_Q Commerce  Brand_Amazon Solimo  \\\n",
       "0                       2                   2                    1   \n",
       "1                       2                   2                    1   \n",
       "2                       2                   2                    1   \n",
       "3                       2                   2                    1   \n",
       "4                       2                   2                    1   \n",
       "..                    ...                 ...                  ...   \n",
       "100                     2                   2                    1   \n",
       "101                     2                   2                    1   \n",
       "102                     2                   2                    1   \n",
       "103                     2                   2                    1   \n",
       "104                     2                   2                    1   \n",
       "\n",
       "     Brand_B Natural  Brand_Minute Maid  Brand_Paper Boat  \\\n",
       "0                  2                  5                 2   \n",
       "1                  2                  5                 2   \n",
       "2                  2                  5                 2   \n",
       "3                  2                  5                 2   \n",
       "4                  2                  5                 2   \n",
       "..               ...                ...               ...   \n",
       "100                2                  5                 2   \n",
       "101                2                  5                 2   \n",
       "102                2                  5                 2   \n",
       "103                2                  5                 2   \n",
       "104                2                  5                 2   \n",
       "\n",
       "     Brand_Real Fruit Juice  Brand_Tropicana  \n",
       "0                         1                1  \n",
       "1                         1                1  \n",
       "2                         1                1  \n",
       "3                         1                1  \n",
       "4                         1                1  \n",
       "..                      ...              ...  \n",
       "100                       1                1  \n",
       "101                       1                1  \n",
       "102                       1                1  \n",
       "103                       1                1  \n",
       "104                       1                1  \n",
       "\n",
       "[105 rows x 23 columns]"
      ]
     },
     "execution_count": 37,
     "metadata": {},
     "output_type": "execute_result"
    }
   ],
   "source": [
    "import pandas as pd \n",
    "\n",
    "market = pd.read_csv('../../data/aggregated/market_influencers_weekly_data.csv')\n",
    "competitors = pd.read_csv('../../data/aggregated/competitors_weekly_data.csv')\n",
    "print(market.shape)\n",
    "print(competitors.shape)\n",
    "\n",
    "# merge on Date and Week_Start_Date\n",
    "df = market.merge(competitors, left_on='Week_Start_Date', right_on='Date', how='left')\n",
    "df = df.drop(columns=['Week_Start_Date'])\n",
    "print(df.shape)\n",
    "df.head(1000)"
   ]
  },
  {
   "cell_type": "code",
   "execution_count": 38,
   "metadata": {},
   "outputs": [],
   "source": [
    "df.to_csv('../../data/aggregated/market_competitors_influence_weekly_data.csv', index=False)"
   ]
  },
  {
   "cell_type": "code",
   "execution_count": null,
   "metadata": {},
   "outputs": [],
   "source": []
  }
 ],
 "metadata": {
  "kernelspec": {
   "display_name": ".venv",
   "language": "python",
   "name": "python3"
  },
  "language_info": {
   "codemirror_mode": {
    "name": "ipython",
    "version": 3
   },
   "file_extension": ".py",
   "mimetype": "text/x-python",
   "name": "python",
   "nbconvert_exporter": "python",
   "pygments_lexer": "ipython3",
   "version": "3.10.6"
  }
 },
 "nbformat": 4,
 "nbformat_minor": 2
}
