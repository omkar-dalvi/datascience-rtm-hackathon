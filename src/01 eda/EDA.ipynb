{
 "cells": [
  {
   "cell_type": "markdown",
   "metadata": {},
   "source": [
    "## Understanding problem statement\n",
    "\n",
    "- Objective: Create a ML model that optimizes the channel distribution by maximizing market reach and revenue\n",
    "\n",
    "### Phase 1: EDA\n",
    "- Understand how variables differ across channels and region\n",
    "- Visualize on week, city and channel levels\n",
    "- Insights: Action items to optmize distribution channel"
   ]
  },
  {
   "cell_type": "markdown",
   "metadata": {},
   "source": [
    "## Ingesting the data"
   ]
  },
  {
   "cell_type": "code",
   "execution_count": null,
   "metadata": {},
   "outputs": [],
   "source": [
    "# READING ALL THE DATA IN PANDAS DATAFRAME\n",
    "\n",
    "import pandas as pd\n",
    "city_df = pd.read_csv('../../data/raw/city.csv', encoding='ISO-8859-1')\n",
    "competitors_df = pd.read_csv('../../data/raw/competitivelandscape.csv')\n",
    "consumer_behaviour_df = pd.read_csv('../../data/raw/consumerbehavior.csv')\n",
    "market_influencers_df = pd.read_csv('../../data/raw/externalmarketinfluencers.csv')\n",
    "products_df = pd.read_csv('../../data/raw/products.csv')\n",
    "sales_df = pd.read_csv('../../data/raw/retailsalesdistribution.csv')"
   ]
  },
  {
   "cell_type": "markdown",
   "metadata": {},
   "source": [
    "## Univariate "
   ]
  },
  {
   "cell_type": "markdown",
   "metadata": {},
   "source": [
    "### Sales data"
   ]
  },
  {
   "cell_type": "code",
   "execution_count": null,
   "metadata": {},
   "outputs": [
    {
     "data": {
      "text/html": [
       "<div>\n",
       "<style scoped>\n",
       "    .dataframe tbody tr th:only-of-type {\n",
       "        vertical-align: middle;\n",
       "    }\n",
       "\n",
       "    .dataframe tbody tr th {\n",
       "        vertical-align: top;\n",
       "    }\n",
       "\n",
       "    .dataframe thead th {\n",
       "        text-align: right;\n",
       "    }\n",
       "</style>\n",
       "<table border=\"1\" class=\"dataframe\">\n",
       "  <thead>\n",
       "    <tr style=\"text-align: right;\">\n",
       "      <th></th>\n",
       "      <th>Date</th>\n",
       "      <th>City_ID</th>\n",
       "      <th>SKU_ID</th>\n",
       "      <th>Channel</th>\n",
       "      <th>Units_Sold</th>\n",
       "      <th>Sales</th>\n",
       "    </tr>\n",
       "  </thead>\n",
       "  <tbody>\n",
       "    <tr>\n",
       "      <th>0</th>\n",
       "      <td>2023-01-01</td>\n",
       "      <td>CT001</td>\n",
       "      <td>SKU1002</td>\n",
       "      <td>Q Commerce</td>\n",
       "      <td>268</td>\n",
       "      <td>80.4</td>\n",
       "    </tr>\n",
       "    <tr>\n",
       "      <th>1</th>\n",
       "      <td>2023-01-01</td>\n",
       "      <td>CT001</td>\n",
       "      <td>SKU1004</td>\n",
       "      <td>Q Commerce</td>\n",
       "      <td>168</td>\n",
       "      <td>50.4</td>\n",
       "    </tr>\n",
       "    <tr>\n",
       "      <th>2</th>\n",
       "      <td>2023-01-01</td>\n",
       "      <td>CT001</td>\n",
       "      <td>SKU1001</td>\n",
       "      <td>E Commerce</td>\n",
       "      <td>521</td>\n",
       "      <td>156.3</td>\n",
       "    </tr>\n",
       "    <tr>\n",
       "      <th>3</th>\n",
       "      <td>2023-01-01</td>\n",
       "      <td>CT001</td>\n",
       "      <td>SKU1002</td>\n",
       "      <td>E Commerce</td>\n",
       "      <td>247</td>\n",
       "      <td>74.1</td>\n",
       "    </tr>\n",
       "    <tr>\n",
       "      <th>4</th>\n",
       "      <td>2023-01-01</td>\n",
       "      <td>CT001</td>\n",
       "      <td>SKU1007</td>\n",
       "      <td>E Commerce</td>\n",
       "      <td>161</td>\n",
       "      <td>12075.0</td>\n",
       "    </tr>\n",
       "  </tbody>\n",
       "</table>\n",
       "</div>"
      ],
      "text/plain": [
       "         Date City_ID   SKU_ID     Channel  Units_Sold    Sales\n",
       "0  2023-01-01   CT001  SKU1002  Q Commerce         268     80.4\n",
       "1  2023-01-01   CT001  SKU1004  Q Commerce         168     50.4\n",
       "2  2023-01-01   CT001  SKU1001  E Commerce         521    156.3\n",
       "3  2023-01-01   CT001  SKU1002  E Commerce         247     74.1\n",
       "4  2023-01-01   CT001  SKU1007  E Commerce         161  12075.0"
      ]
     },
     "execution_count": 5,
     "metadata": {},
     "output_type": "execute_result"
    }
   ],
   "source": [
    "sales_df.head()"
   ]
  },
  {
   "cell_type": "code",
   "execution_count": null,
   "metadata": {},
   "outputs": [
    {
     "name": "stderr",
     "output_type": "stream",
     "text": [
      "c:\\Users\\DELL\\Desktop\\datascience-rtm-hackathon\\.venv\\lib\\site-packages\\tqdm\\auto.py:21: TqdmWarning: IProgress not found. Please update jupyter and ipywidgets. See https://ipywidgets.readthedocs.io/en/stable/user_install.html\n",
      "  from .autonotebook import tqdm as notebook_tqdm\n",
      "Matplotlib is building the font cache; this may take a moment.\n"
     ]
    },
    {
     "data": {
      "text/html": [
       "\n",
       "        <div>\n",
       "            <ins><a href=\"https://ydata.ai/register\">Upgrade to ydata-sdk</a></ins>\n",
       "            <p>\n",
       "                Improve your data and profiling with ydata-sdk, featuring data quality scoring, redundancy detection, outlier identification, text validation, and synthetic data generation.\n",
       "            </p>\n",
       "        </div>\n",
       "        "
      ],
      "text/plain": [
       "<IPython.core.display.HTML object>"
      ]
     },
     "metadata": {},
     "output_type": "display_data"
    }
   ],
   "source": [
    "from ydata_profiling import ProfileReport\n",
    "\n",
    "sales_data_profile = ProfileReport(sales_df, title='Sales Data Profiling Report', explorative=True)\n"
   ]
  },
  {
   "cell_type": "code",
   "execution_count": null,
   "metadata": {},
   "outputs": [],
   "source": [
    "sales_data_profile.to_file('../../eda/sales_data_profile.html')"
   ]
  },
  {
   "cell_type": "code",
   "execution_count": null,
   "metadata": {},
   "outputs": [
    {
     "name": "stderr",
     "output_type": "stream",
     "text": [
      "Render widgets:   0%|          | 0/1 [00:00<?, ?it/s]"
     ]
    }
   ],
   "source": [
    "sales_data_profile.to_widgets()"
   ]
  },
  {
   "cell_type": "code",
   "execution_count": null,
   "metadata": {},
   "outputs": [],
   "source": []
  }
 ],
 "metadata": {
  "kernelspec": {
   "display_name": ".venv",
   "language": "python",
   "name": "python3"
  },
  "language_info": {
   "codemirror_mode": {
    "name": "ipython",
    "version": 3
   },
   "file_extension": ".py",
   "mimetype": "text/x-python",
   "name": "python",
   "nbconvert_exporter": "python",
   "pygments_lexer": "ipython3",
   "version": "3.10.16"
  }
 },
 "nbformat": 4,
 "nbformat_minor": 2
}
