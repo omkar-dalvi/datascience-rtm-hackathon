{
 "cells": [
  {
   "cell_type": "markdown",
   "metadata": {},
   "source": [
    "## Understanding problem statement\n",
    "\n",
    "- Objective: Create a ML model that optimizes the channel distribution by maximizing market reach and revenue\n",
    "\n",
    "### Phase 1: EDA\n",
    "- Understand how variables differ across channels and region\n",
    "- Visualize on week, city and channel levels\n",
    "- Insights: Action items to optmize distribution channel"
   ]
  },
  {
   "cell_type": "markdown",
   "metadata": {},
   "source": [
    "## Ingesting the data"
   ]
  },
  {
   "cell_type": "code",
   "execution_count": 2,
   "metadata": {},
   "outputs": [],
   "source": [
    "# READING ALL THE DATA IN PANDAS DATAFRAME\n",
    "\n",
    "import pandas as pd\n",
    "city_df = pd.read_csv('../../data/raw/city.csv', encoding='ISO-8859-1')\n",
    "competitors_df = pd.read_csv('../../data/raw/competitivelandscape.csv')\n",
    "consumer_behaviour_df = pd.read_csv('../../data/raw/consumerbehavior.csv')\n",
    "market_influencers_df = pd.read_csv('../../data/raw/externalmarketinfluencers.csv')\n",
    "products_df = pd.read_csv('../../data/raw/products.csv')\n",
    "sales_df = pd.read_csv('../../data/raw/retailsalesdistribution.csv')"
   ]
  },
  {
   "cell_type": "markdown",
   "metadata": {},
   "source": [
    "## Univariate "
   ]
  },
  {
   "cell_type": "markdown",
   "metadata": {},
   "source": [
    "### Sales data"
   ]
  },
  {
   "cell_type": "code",
   "execution_count": 2,
   "metadata": {},
   "outputs": [
    {
     "data": {
      "text/html": [
       "<div>\n",
       "<style scoped>\n",
       "    .dataframe tbody tr th:only-of-type {\n",
       "        vertical-align: middle;\n",
       "    }\n",
       "\n",
       "    .dataframe tbody tr th {\n",
       "        vertical-align: top;\n",
       "    }\n",
       "\n",
       "    .dataframe thead th {\n",
       "        text-align: right;\n",
       "    }\n",
       "</style>\n",
       "<table border=\"1\" class=\"dataframe\">\n",
       "  <thead>\n",
       "    <tr style=\"text-align: right;\">\n",
       "      <th></th>\n",
       "      <th>Date</th>\n",
       "      <th>City_ID</th>\n",
       "      <th>SKU_ID</th>\n",
       "      <th>Channel</th>\n",
       "      <th>Units_Sold</th>\n",
       "      <th>Sales</th>\n",
       "    </tr>\n",
       "  </thead>\n",
       "  <tbody>\n",
       "    <tr>\n",
       "      <th>0</th>\n",
       "      <td>2023-01-01</td>\n",
       "      <td>CT001</td>\n",
       "      <td>SKU1002</td>\n",
       "      <td>Q Commerce</td>\n",
       "      <td>268</td>\n",
       "      <td>80.4</td>\n",
       "    </tr>\n",
       "    <tr>\n",
       "      <th>1</th>\n",
       "      <td>2023-01-01</td>\n",
       "      <td>CT001</td>\n",
       "      <td>SKU1004</td>\n",
       "      <td>Q Commerce</td>\n",
       "      <td>168</td>\n",
       "      <td>50.4</td>\n",
       "    </tr>\n",
       "    <tr>\n",
       "      <th>2</th>\n",
       "      <td>2023-01-01</td>\n",
       "      <td>CT001</td>\n",
       "      <td>SKU1001</td>\n",
       "      <td>E Commerce</td>\n",
       "      <td>521</td>\n",
       "      <td>156.3</td>\n",
       "    </tr>\n",
       "    <tr>\n",
       "      <th>3</th>\n",
       "      <td>2023-01-01</td>\n",
       "      <td>CT001</td>\n",
       "      <td>SKU1002</td>\n",
       "      <td>E Commerce</td>\n",
       "      <td>247</td>\n",
       "      <td>74.1</td>\n",
       "    </tr>\n",
       "    <tr>\n",
       "      <th>4</th>\n",
       "      <td>2023-01-01</td>\n",
       "      <td>CT001</td>\n",
       "      <td>SKU1007</td>\n",
       "      <td>E Commerce</td>\n",
       "      <td>161</td>\n",
       "      <td>12075.0</td>\n",
       "    </tr>\n",
       "  </tbody>\n",
       "</table>\n",
       "</div>"
      ],
      "text/plain": [
       "         Date City_ID   SKU_ID     Channel  Units_Sold    Sales\n",
       "0  2023-01-01   CT001  SKU1002  Q Commerce         268     80.4\n",
       "1  2023-01-01   CT001  SKU1004  Q Commerce         168     50.4\n",
       "2  2023-01-01   CT001  SKU1001  E Commerce         521    156.3\n",
       "3  2023-01-01   CT001  SKU1002  E Commerce         247     74.1\n",
       "4  2023-01-01   CT001  SKU1007  E Commerce         161  12075.0"
      ]
     },
     "execution_count": 2,
     "metadata": {},
     "output_type": "execute_result"
    }
   ],
   "source": [
    "sales_df.head()"
   ]
  },
  {
   "cell_type": "code",
   "execution_count": 3,
   "metadata": {},
   "outputs": [
    {
     "name": "stderr",
     "output_type": "stream",
     "text": [
      "Matplotlib is building the font cache; this may take a moment.\n"
     ]
    },
    {
     "data": {
      "text/html": [
       "\n",
       "        <div>\n",
       "            <ins><a href=\"https://ydata.ai/register\">Upgrade to ydata-sdk</a></ins>\n",
       "            <p>\n",
       "                Improve your data and profiling with ydata-sdk, featuring data quality scoring, redundancy detection, outlier identification, text validation, and synthetic data generation.\n",
       "            </p>\n",
       "        </div>\n",
       "        "
      ],
      "text/plain": [
       "<IPython.core.display.HTML object>"
      ]
     },
     "metadata": {},
     "output_type": "display_data"
    }
   ],
   "source": [
    "from ydata_profiling import ProfileReport\n",
    "\n",
    "sales_data_profile = ProfileReport(sales_df, title='Sales Data Profiling Report', explorative=True)\n"
   ]
  },
  {
   "cell_type": "code",
   "execution_count": 4,
   "metadata": {},
   "outputs": [
    {
     "data": {
      "application/vnd.jupyter.widget-view+json": {
       "model_id": "355a7bc1da884b29bbd1b567830fab1f",
       "version_major": 2,
       "version_minor": 0
      },
      "text/plain": [
       "Summarize dataset:   0%|          | 0/5 [00:00<?, ?it/s]"
      ]
     },
     "metadata": {},
     "output_type": "display_data"
    },
    {
     "data": {
      "application/vnd.jupyter.widget-view+json": {
       "model_id": "e7f78c4007874b0cba7e7611237f8124",
       "version_major": 2,
       "version_minor": 0
      },
      "text/plain": [
       "Generate report structure:   0%|          | 0/1 [00:00<?, ?it/s]"
      ]
     },
     "metadata": {},
     "output_type": "display_data"
    },
    {
     "data": {
      "application/vnd.jupyter.widget-view+json": {
       "model_id": "244ae4a5952f4a8e9d71b900dd9b4921",
       "version_major": 2,
       "version_minor": 0
      },
      "text/plain": [
       "Render HTML:   0%|          | 0/1 [00:00<?, ?it/s]"
      ]
     },
     "metadata": {},
     "output_type": "display_data"
    },
    {
     "data": {
      "application/vnd.jupyter.widget-view+json": {
       "model_id": "58f673f86efa47ba980cc02d217dd559",
       "version_major": 2,
       "version_minor": 0
      },
      "text/plain": [
       "Export report to file:   0%|          | 0/1 [00:00<?, ?it/s]"
      ]
     },
     "metadata": {},
     "output_type": "display_data"
    }
   ],
   "source": [
    "sales_data_profile.to_file('../../eda/sales_data_profile.html')"
   ]
  },
  {
   "cell_type": "markdown",
   "metadata": {},
   "source": [
    "- 20 cities, 7 SKUs, 5 channels"
   ]
  },
  {
   "cell_type": "markdown",
   "metadata": {},
   "source": [
    "### Competitive Behavior"
   ]
  },
  {
   "cell_type": "code",
   "execution_count": 6,
   "metadata": {},
   "outputs": [
    {
     "data": {
      "application/vnd.jupyter.widget-view+json": {
       "model_id": "b915287530e9442ea7c9f3ee161b69d1",
       "version_major": 2,
       "version_minor": 0
      },
      "text/plain": [
       "Summarize dataset:   0%|          | 0/5 [00:00<?, ?it/s]"
      ]
     },
     "metadata": {},
     "output_type": "display_data"
    },
    {
     "data": {
      "application/vnd.jupyter.widget-view+json": {
       "model_id": "deb72d4d2f4747f199e9911add965de4",
       "version_major": 2,
       "version_minor": 0
      },
      "text/plain": [
       "Generate report structure:   0%|          | 0/1 [00:00<?, ?it/s]"
      ]
     },
     "metadata": {},
     "output_type": "display_data"
    },
    {
     "data": {
      "application/vnd.jupyter.widget-view+json": {
       "model_id": "fff0fdea1be4484abcbf185e810208ba",
       "version_major": 2,
       "version_minor": 0
      },
      "text/plain": [
       "Render HTML:   0%|          | 0/1 [00:00<?, ?it/s]"
      ]
     },
     "metadata": {},
     "output_type": "display_data"
    },
    {
     "data": {
      "application/vnd.jupyter.widget-view+json": {
       "model_id": "224e54ea6c324e468c390f4fbcb31ab4",
       "version_major": 2,
       "version_minor": 0
      },
      "text/plain": [
       "Export report to file:   0%|          | 0/1 [00:00<?, ?it/s]"
      ]
     },
     "metadata": {},
     "output_type": "display_data"
    }
   ],
   "source": [
    "from ydata_profiling import ProfileReport\n",
    "\n",
    "competitors_data_profile = ProfileReport(competitors_df, title='competitors_Data Profiling Report', explorative=True)\n",
    "\n",
    "competitors_data_profile.to_file('../../eda/competitors_data_profile.html')\n"
   ]
  },
  {
   "cell_type": "markdown",
   "metadata": {},
   "source": [
    "### Products "
   ]
  },
  {
   "cell_type": "code",
   "execution_count": 7,
   "metadata": {},
   "outputs": [
    {
     "data": {
      "application/vnd.jupyter.widget-view+json": {
       "model_id": "ee84cd149fd446b4afcc390f8f25f297",
       "version_major": 2,
       "version_minor": 0
      },
      "text/plain": [
       "Summarize dataset:   0%|          | 0/5 [00:00<?, ?it/s]"
      ]
     },
     "metadata": {},
     "output_type": "display_data"
    },
    {
     "data": {
      "application/vnd.jupyter.widget-view+json": {
       "model_id": "55e74edf32764ef29c44070ad1d5babb",
       "version_major": 2,
       "version_minor": 0
      },
      "text/plain": [
       "Generate report structure:   0%|          | 0/1 [00:00<?, ?it/s]"
      ]
     },
     "metadata": {},
     "output_type": "display_data"
    },
    {
     "data": {
      "application/vnd.jupyter.widget-view+json": {
       "model_id": "778e96fe0f2b427d8d77a7073946d6ad",
       "version_major": 2,
       "version_minor": 0
      },
      "text/plain": [
       "Render HTML:   0%|          | 0/1 [00:00<?, ?it/s]"
      ]
     },
     "metadata": {},
     "output_type": "display_data"
    },
    {
     "data": {
      "application/vnd.jupyter.widget-view+json": {
       "model_id": "704333c78d644373843d8ec72acc0506",
       "version_major": 2,
       "version_minor": 0
      },
      "text/plain": [
       "Export report to file:   0%|          | 0/1 [00:00<?, ?it/s]"
      ]
     },
     "metadata": {},
     "output_type": "display_data"
    }
   ],
   "source": [
    "from ydata_profiling import ProfileReport\n",
    "\n",
    "products_data_profile = ProfileReport(products_df, title='Products Data Profiling Report', explorative=True)\n",
    "\n",
    "products_data_profile.to_file('../../eda/products_data_profile.html')\n"
   ]
  },
  {
   "cell_type": "markdown",
   "metadata": {},
   "source": [
    "### External Market Influence"
   ]
  },
  {
   "cell_type": "code",
   "execution_count": 8,
   "metadata": {},
   "outputs": [
    {
     "data": {
      "application/vnd.jupyter.widget-view+json": {
       "model_id": "592e8a9aa8b142498e135ad42e86f841",
       "version_major": 2,
       "version_minor": 0
      },
      "text/plain": [
       "Summarize dataset:   0%|          | 0/5 [00:00<?, ?it/s]"
      ]
     },
     "metadata": {},
     "output_type": "display_data"
    },
    {
     "data": {
      "application/vnd.jupyter.widget-view+json": {
       "model_id": "dd04eb407e8b40e9a7fc22a83d27fadf",
       "version_major": 2,
       "version_minor": 0
      },
      "text/plain": [
       "Generate report structure:   0%|          | 0/1 [00:00<?, ?it/s]"
      ]
     },
     "metadata": {},
     "output_type": "display_data"
    },
    {
     "data": {
      "application/vnd.jupyter.widget-view+json": {
       "model_id": "a31a0cc9b2f648f19a72ed8b5411cb0d",
       "version_major": 2,
       "version_minor": 0
      },
      "text/plain": [
       "Render HTML:   0%|          | 0/1 [00:00<?, ?it/s]"
      ]
     },
     "metadata": {},
     "output_type": "display_data"
    },
    {
     "data": {
      "application/vnd.jupyter.widget-view+json": {
       "model_id": "0d9cc9d993bd4988a235a00c7a06c1be",
       "version_major": 2,
       "version_minor": 0
      },
      "text/plain": [
       "Export report to file:   0%|          | 0/1 [00:00<?, ?it/s]"
      ]
     },
     "metadata": {},
     "output_type": "display_data"
    }
   ],
   "source": [
    "from ydata_profiling import ProfileReport\n",
    "\n",
    "external_market_influence_data_profile = ProfileReport(market_influencers_df, title='External Market Influence Data Profiling Report', explorative=True)\n",
    "\n",
    "external_market_influence_data_profile.to_file('../../eda/external_market_influence_data_profile.html')\n"
   ]
  },
  {
   "cell_type": "markdown",
   "metadata": {},
   "source": [
    "### Customer Behavior "
   ]
  },
  {
   "cell_type": "code",
   "execution_count": 9,
   "metadata": {},
   "outputs": [
    {
     "data": {
      "application/vnd.jupyter.widget-view+json": {
       "model_id": "1bf7f01ee9b443439f3c676299538895",
       "version_major": 2,
       "version_minor": 0
      },
      "text/plain": [
       "Summarize dataset:   0%|          | 0/5 [00:00<?, ?it/s]"
      ]
     },
     "metadata": {},
     "output_type": "display_data"
    },
    {
     "data": {
      "application/vnd.jupyter.widget-view+json": {
       "model_id": "be92c708138f49959a696225baa56076",
       "version_major": 2,
       "version_minor": 0
      },
      "text/plain": [
       "Generate report structure:   0%|          | 0/1 [00:00<?, ?it/s]"
      ]
     },
     "metadata": {},
     "output_type": "display_data"
    },
    {
     "data": {
      "application/vnd.jupyter.widget-view+json": {
       "model_id": "a6fb90145ba94cc5adcca60151a8f346",
       "version_major": 2,
       "version_minor": 0
      },
      "text/plain": [
       "Render HTML:   0%|          | 0/1 [00:00<?, ?it/s]"
      ]
     },
     "metadata": {},
     "output_type": "display_data"
    },
    {
     "data": {
      "application/vnd.jupyter.widget-view+json": {
       "model_id": "422c0b429d5c4f03b424a37c8c3b6ed0",
       "version_major": 2,
       "version_minor": 0
      },
      "text/plain": [
       "Export report to file:   0%|          | 0/1 [00:00<?, ?it/s]"
      ]
     },
     "metadata": {},
     "output_type": "display_data"
    }
   ],
   "source": [
    "from ydata_profiling import ProfileReport\n",
    "\n",
    "customer_behavior_data_profile = ProfileReport(consumer_behaviour_df, title='Customer Behavior Data Profiling Report', explorative=True)\n",
    "\n",
    "customer_behavior_data_profile.to_file('../../eda/customer_behavior_data_profile.html')\n"
   ]
  },
  {
   "cell_type": "markdown",
   "metadata": {},
   "source": [
    "### City"
   ]
  },
  {
   "cell_type": "code",
   "execution_count": 10,
   "metadata": {},
   "outputs": [
    {
     "data": {
      "application/vnd.jupyter.widget-view+json": {
       "model_id": "f7c7534f615f41ceab1af20d91474799",
       "version_major": 2,
       "version_minor": 0
      },
      "text/plain": [
       "Summarize dataset:   0%|          | 0/5 [00:00<?, ?it/s]"
      ]
     },
     "metadata": {},
     "output_type": "display_data"
    },
    {
     "data": {
      "application/vnd.jupyter.widget-view+json": {
       "model_id": "f23cdd40227a4742b022574c002cf63f",
       "version_major": 2,
       "version_minor": 0
      },
      "text/plain": [
       "Generate report structure:   0%|          | 0/1 [00:00<?, ?it/s]"
      ]
     },
     "metadata": {},
     "output_type": "display_data"
    },
    {
     "data": {
      "application/vnd.jupyter.widget-view+json": {
       "model_id": "83923c297bde498f9eb34312563b1b47",
       "version_major": 2,
       "version_minor": 0
      },
      "text/plain": [
       "Render HTML:   0%|          | 0/1 [00:00<?, ?it/s]"
      ]
     },
     "metadata": {},
     "output_type": "display_data"
    },
    {
     "data": {
      "application/vnd.jupyter.widget-view+json": {
       "model_id": "06347185c8154a8bb11b904e4bea189f",
       "version_major": 2,
       "version_minor": 0
      },
      "text/plain": [
       "Export report to file:   0%|          | 0/1 [00:00<?, ?it/s]"
      ]
     },
     "metadata": {},
     "output_type": "display_data"
    }
   ],
   "source": [
    "from ydata_profiling import ProfileReport\n",
    "\n",
    "city_data_profile = ProfileReport(city_df, title='City Data Profiling Report', explorative=True)\n",
    "\n",
    "city_data_profile.to_file('../../eda/city_data_profile.html')\n"
   ]
  },
  {
   "cell_type": "markdown",
   "metadata": {},
   "source": [
    "# Data Preprocessing"
   ]
  },
  {
   "cell_type": "markdown",
   "metadata": {},
   "source": [
    "### Sales Data"
   ]
  },
  {
   "cell_type": "code",
   "execution_count": 6,
   "metadata": {},
   "outputs": [
    {
     "data": {
      "text/html": [
       "<div>\n",
       "<style scoped>\n",
       "    .dataframe tbody tr th:only-of-type {\n",
       "        vertical-align: middle;\n",
       "    }\n",
       "\n",
       "    .dataframe tbody tr th {\n",
       "        vertical-align: top;\n",
       "    }\n",
       "\n",
       "    .dataframe thead th {\n",
       "        text-align: right;\n",
       "    }\n",
       "</style>\n",
       "<table border=\"1\" class=\"dataframe\">\n",
       "  <thead>\n",
       "    <tr style=\"text-align: right;\">\n",
       "      <th></th>\n",
       "      <th>Date</th>\n",
       "      <th>City_ID</th>\n",
       "      <th>SKU_ID</th>\n",
       "      <th>Channel</th>\n",
       "      <th>Units_Sold</th>\n",
       "      <th>Sales</th>\n",
       "    </tr>\n",
       "  </thead>\n",
       "  <tbody>\n",
       "    <tr>\n",
       "      <th>0</th>\n",
       "      <td>2023-01-01</td>\n",
       "      <td>CT001</td>\n",
       "      <td>SKU1002</td>\n",
       "      <td>Q Commerce</td>\n",
       "      <td>268</td>\n",
       "      <td>80.4</td>\n",
       "    </tr>\n",
       "    <tr>\n",
       "      <th>1</th>\n",
       "      <td>2023-01-01</td>\n",
       "      <td>CT001</td>\n",
       "      <td>SKU1004</td>\n",
       "      <td>Q Commerce</td>\n",
       "      <td>168</td>\n",
       "      <td>50.4</td>\n",
       "    </tr>\n",
       "    <tr>\n",
       "      <th>2</th>\n",
       "      <td>2023-01-01</td>\n",
       "      <td>CT001</td>\n",
       "      <td>SKU1001</td>\n",
       "      <td>E Commerce</td>\n",
       "      <td>521</td>\n",
       "      <td>156.3</td>\n",
       "    </tr>\n",
       "    <tr>\n",
       "      <th>3</th>\n",
       "      <td>2023-01-01</td>\n",
       "      <td>CT001</td>\n",
       "      <td>SKU1002</td>\n",
       "      <td>E Commerce</td>\n",
       "      <td>247</td>\n",
       "      <td>74.1</td>\n",
       "    </tr>\n",
       "    <tr>\n",
       "      <th>4</th>\n",
       "      <td>2023-01-01</td>\n",
       "      <td>CT001</td>\n",
       "      <td>SKU1007</td>\n",
       "      <td>E Commerce</td>\n",
       "      <td>161</td>\n",
       "      <td>12075.0</td>\n",
       "    </tr>\n",
       "  </tbody>\n",
       "</table>\n",
       "</div>"
      ],
      "text/plain": [
       "         Date City_ID   SKU_ID     Channel  Units_Sold    Sales\n",
       "0  2023-01-01   CT001  SKU1002  Q Commerce         268     80.4\n",
       "1  2023-01-01   CT001  SKU1004  Q Commerce         168     50.4\n",
       "2  2023-01-01   CT001  SKU1001  E Commerce         521    156.3\n",
       "3  2023-01-01   CT001  SKU1002  E Commerce         247     74.1\n",
       "4  2023-01-01   CT001  SKU1007  E Commerce         161  12075.0"
      ]
     },
     "execution_count": 6,
     "metadata": {},
     "output_type": "execute_result"
    }
   ],
   "source": [
    "\n",
    "# STANDARDIZING THE DATE FORMAT IN SALES DATAFRAME\n",
    "import pandas as pd\n",
    "sales_df_processed = sales_df.copy()\n",
    "\n",
    "sales_df_processed['Date'] = pd.to_datetime(sales_df_processed['Date'], format='%Y-%m-%d')\n",
    "\n",
    "sales_df_processed['Date'] = pd.to_datetime(sales_df_processed['Date']).dt.strftime('%Y-%m-%d')\n",
    "\n",
    "sales_df_processed.head()\n",
    "\n"
   ]
  },
  {
   "cell_type": "code",
   "execution_count": 7,
   "metadata": {},
   "outputs": [],
   "source": [
    "# save data\n",
    "sales_df_processed.to_csv('../../data/processed/sales_processed.csv', index=False)"
   ]
  },
  {
   "cell_type": "markdown",
   "metadata": {},
   "source": [
    "### Competitor Data"
   ]
  },
  {
   "cell_type": "code",
   "execution_count": 8,
   "metadata": {},
   "outputs": [
    {
     "data": {
      "text/html": [
       "<div>\n",
       "<style scoped>\n",
       "    .dataframe tbody tr th:only-of-type {\n",
       "        vertical-align: middle;\n",
       "    }\n",
       "\n",
       "    .dataframe tbody tr th {\n",
       "        vertical-align: top;\n",
       "    }\n",
       "\n",
       "    .dataframe thead th {\n",
       "        text-align: right;\n",
       "    }\n",
       "</style>\n",
       "<table border=\"1\" class=\"dataframe\">\n",
       "  <thead>\n",
       "    <tr style=\"text-align: right;\">\n",
       "      <th></th>\n",
       "      <th>Date</th>\n",
       "      <th>Channel</th>\n",
       "      <th>Brand</th>\n",
       "      <th>Mentions_Count</th>\n",
       "      <th>Sentiment_Score</th>\n",
       "      <th>Share_of_Voice</th>\n",
       "    </tr>\n",
       "  </thead>\n",
       "  <tbody>\n",
       "    <tr>\n",
       "      <th>0</th>\n",
       "      <td>2023-01-02</td>\n",
       "      <td>E Commerce</td>\n",
       "      <td>Amazon Solimo</td>\n",
       "      <td>156</td>\n",
       "      <td>61.3</td>\n",
       "      <td>15.0</td>\n",
       "    </tr>\n",
       "    <tr>\n",
       "      <th>1</th>\n",
       "      <td>2023-01-02</td>\n",
       "      <td>E Commerce</td>\n",
       "      <td>Minute Maid</td>\n",
       "      <td>346</td>\n",
       "      <td>70.0</td>\n",
       "      <td>33.2</td>\n",
       "    </tr>\n",
       "    <tr>\n",
       "      <th>2</th>\n",
       "      <td>2023-01-02</td>\n",
       "      <td>E Commerce</td>\n",
       "      <td>Real Fruit Juice</td>\n",
       "      <td>542</td>\n",
       "      <td>70.9</td>\n",
       "      <td>51.9</td>\n",
       "    </tr>\n",
       "    <tr>\n",
       "      <th>3</th>\n",
       "      <td>2023-01-02</td>\n",
       "      <td>General Trade</td>\n",
       "      <td>Minute Maid</td>\n",
       "      <td>551</td>\n",
       "      <td>72.4</td>\n",
       "      <td>53.8</td>\n",
       "    </tr>\n",
       "    <tr>\n",
       "      <th>4</th>\n",
       "      <td>2023-01-02</td>\n",
       "      <td>General Trade</td>\n",
       "      <td>Paper Boat</td>\n",
       "      <td>474</td>\n",
       "      <td>67.0</td>\n",
       "      <td>46.2</td>\n",
       "    </tr>\n",
       "  </tbody>\n",
       "</table>\n",
       "</div>"
      ],
      "text/plain": [
       "         Date        Channel             Brand  Mentions_Count  \\\n",
       "0  2023-01-02     E Commerce     Amazon Solimo             156   \n",
       "1  2023-01-02     E Commerce       Minute Maid             346   \n",
       "2  2023-01-02     E Commerce  Real Fruit Juice             542   \n",
       "3  2023-01-02  General Trade       Minute Maid             551   \n",
       "4  2023-01-02  General Trade        Paper Boat             474   \n",
       "\n",
       "   Sentiment_Score  Share_of_Voice  \n",
       "0             61.3            15.0  \n",
       "1             70.0            33.2  \n",
       "2             70.9            51.9  \n",
       "3             72.4            53.8  \n",
       "4             67.0            46.2  "
      ]
     },
     "execution_count": 8,
     "metadata": {},
     "output_type": "execute_result"
    }
   ],
   "source": [
    "\n",
    "# STANDARDIZING THE DATE FORMAT IN SALES DATAFRAME\n",
    "import pandas as pd\n",
    "competitors_df_processed = competitors_df.copy()\n",
    "\n",
    "competitors_df_processed['Date'] = pd.to_datetime(competitors_df_processed['Date'], format='%Y-%m-%d')\n",
    "\n",
    "competitors_df_processed['Date'] = pd.to_datetime(competitors_df_processed['Date']).dt.strftime('%Y-%m-%d')\n",
    "\n",
    "competitors_df_processed.head()\n",
    "\n"
   ]
  },
  {
   "cell_type": "code",
   "execution_count": 9,
   "metadata": {},
   "outputs": [],
   "source": [
    "# save data\n",
    "competitors_df_processed.to_csv('../../data/processed/competitors_processed.csv', index=False)"
   ]
  },
  {
   "cell_type": "markdown",
   "metadata": {},
   "source": [
    "### Products"
   ]
  },
  {
   "cell_type": "code",
   "execution_count": 12,
   "metadata": {},
   "outputs": [
    {
     "data": {
      "text/html": [
       "<div>\n",
       "<style scoped>\n",
       "    .dataframe tbody tr th:only-of-type {\n",
       "        vertical-align: middle;\n",
       "    }\n",
       "\n",
       "    .dataframe tbody tr th {\n",
       "        vertical-align: top;\n",
       "    }\n",
       "\n",
       "    .dataframe thead th {\n",
       "        text-align: right;\n",
       "    }\n",
       "</style>\n",
       "<table border=\"1\" class=\"dataframe\">\n",
       "  <thead>\n",
       "    <tr style=\"text-align: right;\">\n",
       "      <th></th>\n",
       "      <th>Product Name</th>\n",
       "      <th>Flavor Variant</th>\n",
       "      <th>SKU Identification Number</th>\n",
       "      <th>Launch Date</th>\n",
       "      <th>Pack Size (L)</th>\n",
       "      <th>General Trade</th>\n",
       "      <th>E Commerce</th>\n",
       "      <th>Modern Trade</th>\n",
       "      <th>HoReCa</th>\n",
       "      <th>Q Commerce</th>\n",
       "    </tr>\n",
       "  </thead>\n",
       "  <tbody>\n",
       "    <tr>\n",
       "      <th>0</th>\n",
       "      <td>Minute Maid Apple Juice - Honey Infused</td>\n",
       "      <td>Apple</td>\n",
       "      <td>SKU1001</td>\n",
       "      <td>2022-02-19</td>\n",
       "      <td>1.000</td>\n",
       "      <td>1</td>\n",
       "      <td>1</td>\n",
       "      <td>0</td>\n",
       "      <td>0</td>\n",
       "      <td>0</td>\n",
       "    </tr>\n",
       "    <tr>\n",
       "      <th>1</th>\n",
       "      <td>Minute Maid Mixed Fruit Juice</td>\n",
       "      <td>Mixed Fruit</td>\n",
       "      <td>SKU1002</td>\n",
       "      <td>2015-04-23</td>\n",
       "      <td>1.000</td>\n",
       "      <td>1</td>\n",
       "      <td>1</td>\n",
       "      <td>1</td>\n",
       "      <td>1</td>\n",
       "      <td>1</td>\n",
       "    </tr>\n",
       "    <tr>\n",
       "      <th>2</th>\n",
       "      <td>Minute Maid Gritty Guava</td>\n",
       "      <td>Guava</td>\n",
       "      <td>SKU1003</td>\n",
       "      <td>2023-02-19</td>\n",
       "      <td>1.000</td>\n",
       "      <td>1</td>\n",
       "      <td>0</td>\n",
       "      <td>1</td>\n",
       "      <td>0</td>\n",
       "      <td>0</td>\n",
       "    </tr>\n",
       "    <tr>\n",
       "      <th>3</th>\n",
       "      <td>Minute Maid Pulpy Orange</td>\n",
       "      <td>Orange</td>\n",
       "      <td>SKU1004</td>\n",
       "      <td>2015-04-23</td>\n",
       "      <td>1.000</td>\n",
       "      <td>1</td>\n",
       "      <td>1</td>\n",
       "      <td>1</td>\n",
       "      <td>1</td>\n",
       "      <td>1</td>\n",
       "    </tr>\n",
       "    <tr>\n",
       "      <th>4</th>\n",
       "      <td>Minute Maid 135ml Mixed Fruit Juice</td>\n",
       "      <td>Mixed Fruit</td>\n",
       "      <td>SKU1006</td>\n",
       "      <td>2015-04-23</td>\n",
       "      <td>0.135</td>\n",
       "      <td>1</td>\n",
       "      <td>0</td>\n",
       "      <td>0</td>\n",
       "      <td>0</td>\n",
       "      <td>0</td>\n",
       "    </tr>\n",
       "    <tr>\n",
       "      <th>5</th>\n",
       "      <td>Minute Maid 250ml Pulpy Orange</td>\n",
       "      <td>Orange</td>\n",
       "      <td>SKU1007</td>\n",
       "      <td>2015-04-23</td>\n",
       "      <td>0.250</td>\n",
       "      <td>1</td>\n",
       "      <td>1</td>\n",
       "      <td>1</td>\n",
       "      <td>1</td>\n",
       "      <td>0</td>\n",
       "    </tr>\n",
       "    <tr>\n",
       "      <th>6</th>\n",
       "      <td>Minute Maid 250ml Mixed Fruit Juice</td>\n",
       "      <td>Mixed Fruit</td>\n",
       "      <td>SKU1008</td>\n",
       "      <td>2015-04-23</td>\n",
       "      <td>0.250</td>\n",
       "      <td>1</td>\n",
       "      <td>1</td>\n",
       "      <td>1</td>\n",
       "      <td>1</td>\n",
       "      <td>0</td>\n",
       "    </tr>\n",
       "  </tbody>\n",
       "</table>\n",
       "</div>"
      ],
      "text/plain": [
       "                              Product Name Flavor Variant  \\\n",
       "0  Minute Maid Apple Juice - Honey Infused          Apple   \n",
       "1            Minute Maid Mixed Fruit Juice    Mixed Fruit   \n",
       "2                 Minute Maid Gritty Guava          Guava   \n",
       "3                 Minute Maid Pulpy Orange         Orange   \n",
       "4      Minute Maid 135ml Mixed Fruit Juice    Mixed Fruit   \n",
       "5           Minute Maid 250ml Pulpy Orange         Orange   \n",
       "6      Minute Maid 250ml Mixed Fruit Juice    Mixed Fruit   \n",
       "\n",
       "  SKU Identification Number Launch Date  Pack Size (L)  General Trade  \\\n",
       "0                   SKU1001  2022-02-19          1.000              1   \n",
       "1                   SKU1002  2015-04-23          1.000              1   \n",
       "2                   SKU1003  2023-02-19          1.000              1   \n",
       "3                   SKU1004  2015-04-23          1.000              1   \n",
       "4                   SKU1006  2015-04-23          0.135              1   \n",
       "5                   SKU1007  2015-04-23          0.250              1   \n",
       "6                   SKU1008  2015-04-23          0.250              1   \n",
       "\n",
       "   E Commerce  Modern Trade  HoReCa  Q Commerce  \n",
       "0           1             0       0           0  \n",
       "1           1             1       1           1  \n",
       "2           0             1       0           0  \n",
       "3           1             1       1           1  \n",
       "4           0             0       0           0  \n",
       "5           1             1       1           0  \n",
       "6           1             1       1           0  "
      ]
     },
     "execution_count": 12,
     "metadata": {},
     "output_type": "execute_result"
    }
   ],
   "source": [
    "import pandas as pd\n",
    "import re\n",
    "import numpy as np\n",
    "\n",
    "products_df_processed = products_df.copy()\n",
    "\n",
    "# Convert \"Flavor Variant\" column to categorical data type\n",
    "products_df_processed['Flavor Variant'] = products_df_processed['Flavor Variant'].astype('category')\n",
    "\n",
    "\n",
    "# 2. Convert Launch Date from MM/DD/YYYY to yyyy-mm-dd\n",
    "products_df_processed['Launch Date'] = pd.to_datetime(products_df_processed['Launch Date (MM/DD/YYYY)'], format='%m/%d/%Y').dt.strftime('%Y-%m-%d')\n",
    "\n",
    "def convert_pack_size(pack_str):\n",
    "    \"\"\"\n",
    "    Extract numeric value and convert pack size to litres.\n",
    "    Assumes the pack size string contains a number and a unit (ml or L).\n",
    "    \"\"\"\n",
    "    match = re.search(r'([\\d\\.]+)\\s*(ml|l)', pack_str, re.IGNORECASE)\n",
    "    if match:\n",
    "        value = float(match.group(1))\n",
    "        unit = match.group(2).lower()\n",
    "        if unit == 'ml':\n",
    "            return value / 1000  # convert millilitres to litres\n",
    "        else:\n",
    "            return value\n",
    "    return np.nan\n",
    "\n",
    "products_df_processed['Pack Size (L)'] = products_df_processed['Pack Size (ml/L)'].apply(convert_pack_size)\n",
    "\n",
    "channels = {\n",
    "    'General Trade': r'general trade',\n",
    "    'E Commerce': r'e[-\\s]?commerce',\n",
    "    'Modern Trade': r'modern trade',\n",
    "    'HoReCa': r'horeca',\n",
    "    'Q Commerce': r'q[-\\s]?commerce'\n",
    "}\n",
    "\n",
    "def encode_distribution(dist_str):\n",
    "    \"\"\"\n",
    "    Returns a Series with one-hot encoding for each distribution channel.\n",
    "    \"\"\"\n",
    "    dist_lower = dist_str.lower()\n",
    "    result = {}\n",
    "    for channel, pattern in channels.items():\n",
    "        result[channel] = 1 if re.search(pattern, dist_lower) else 0\n",
    "    return pd.Series(result)\n",
    "\n",
    "dist_df = products_df_processed['Distribution Coverage'].apply(encode_distribution)\n",
    "products_df_processed = pd.concat([products_df_processed, dist_df], axis=1)  \n",
    "\n",
    "products_df_processed = products_df_processed[['Product Name', 'Flavor Variant', 'SKU Identification Number', \n",
    "          'Launch Date', 'Pack Size (L)', 'General Trade', 'E Commerce', \n",
    "          'Modern Trade', 'HoReCa', 'Q Commerce']]\n",
    "\n",
    "products_df_processed.head(100)\n",
    "\n",
    "\n",
    "\n",
    "\n"
   ]
  },
  {
   "cell_type": "code",
   "execution_count": 13,
   "metadata": {},
   "outputs": [],
   "source": [
    "# save data\n",
    "products_df_processed.to_csv('../../data/processed/products_processed.csv', index=False)"
   ]
  },
  {
   "cell_type": "markdown",
   "metadata": {},
   "source": [
    "### External Market influence"
   ]
  },
  {
   "cell_type": "code",
   "execution_count": 18,
   "metadata": {},
   "outputs": [
    {
     "data": {
      "text/html": [
       "<div>\n",
       "<style scoped>\n",
       "    .dataframe tbody tr th:only-of-type {\n",
       "        vertical-align: middle;\n",
       "    }\n",
       "\n",
       "    .dataframe tbody tr th {\n",
       "        vertical-align: top;\n",
       "    }\n",
       "\n",
       "    .dataframe thead th {\n",
       "        text-align: right;\n",
       "    }\n",
       "</style>\n",
       "<table border=\"1\" class=\"dataframe\">\n",
       "  <thead>\n",
       "    <tr style=\"text-align: right;\">\n",
       "      <th></th>\n",
       "      <th>Week_Start_Date</th>\n",
       "      <th>City_ID</th>\n",
       "      <th>Avg_Temperature</th>\n",
       "      <th>Weather_Type</th>\n",
       "      <th>Festival</th>\n",
       "    </tr>\n",
       "  </thead>\n",
       "  <tbody>\n",
       "    <tr>\n",
       "      <th>0</th>\n",
       "      <td>2023-01-02</td>\n",
       "      <td>CT001</td>\n",
       "      <td>21.0</td>\n",
       "      <td>Cold</td>\n",
       "      <td>No Festival</td>\n",
       "    </tr>\n",
       "    <tr>\n",
       "      <th>1</th>\n",
       "      <td>2023-01-02</td>\n",
       "      <td>CT002</td>\n",
       "      <td>19.4</td>\n",
       "      <td>Cold</td>\n",
       "      <td>No Festival</td>\n",
       "    </tr>\n",
       "    <tr>\n",
       "      <th>2</th>\n",
       "      <td>2023-01-02</td>\n",
       "      <td>CT003</td>\n",
       "      <td>19.8</td>\n",
       "      <td>Cold</td>\n",
       "      <td>No Festival</td>\n",
       "    </tr>\n",
       "    <tr>\n",
       "      <th>3</th>\n",
       "      <td>2023-01-02</td>\n",
       "      <td>CT004</td>\n",
       "      <td>20.8</td>\n",
       "      <td>Cold</td>\n",
       "      <td>No Festival</td>\n",
       "    </tr>\n",
       "    <tr>\n",
       "      <th>4</th>\n",
       "      <td>2023-01-02</td>\n",
       "      <td>CT005</td>\n",
       "      <td>21.6</td>\n",
       "      <td>Cold</td>\n",
       "      <td>No Festival</td>\n",
       "    </tr>\n",
       "  </tbody>\n",
       "</table>\n",
       "</div>"
      ],
      "text/plain": [
       "  Week_Start_Date City_ID  Avg_Temperature Weather_Type     Festival\n",
       "0      2023-01-02   CT001             21.0         Cold  No Festival\n",
       "1      2023-01-02   CT002             19.4         Cold  No Festival\n",
       "2      2023-01-02   CT003             19.8         Cold  No Festival\n",
       "3      2023-01-02   CT004             20.8         Cold  No Festival\n",
       "4      2023-01-02   CT005             21.6         Cold  No Festival"
      ]
     },
     "execution_count": 18,
     "metadata": {},
     "output_type": "execute_result"
    }
   ],
   "source": [
    "import pandas as pd\n",
    "\n",
    "market_influencers_df_processed = market_influencers_df.copy()\n",
    "\n",
    "# convert data to yyyy-mm-dd format\n",
    "market_influencers_df_processed['Week_Start_Date'] = pd.to_datetime(market_influencers_df_processed['Week_Start_Date'], format='%Y-%m-%d').dt.strftime('%Y-%m-%d')\n",
    "\n",
    "market_influencers_df_processed['Festival'] = market_influencers_df_processed['Festival'].fillna(\"No Festival\")\n",
    "\n",
    "\n",
    "market_influencers_df_processed.head()\n"
   ]
  },
  {
   "cell_type": "code",
   "execution_count": 19,
   "metadata": {},
   "outputs": [],
   "source": [
    "# save data\n",
    "market_influencers_df_processed.to_csv('../../data/processed/market_influencers_processed.csv', index=False)"
   ]
  },
  {
   "cell_type": "markdown",
   "metadata": {},
   "source": [
    "### Customer Behavior"
   ]
  },
  {
   "cell_type": "code",
   "execution_count": 24,
   "metadata": {},
   "outputs": [
    {
     "data": {
      "text/html": [
       "<div>\n",
       "<style scoped>\n",
       "    .dataframe tbody tr th:only-of-type {\n",
       "        vertical-align: middle;\n",
       "    }\n",
       "\n",
       "    .dataframe tbody tr th {\n",
       "        vertical-align: top;\n",
       "    }\n",
       "\n",
       "    .dataframe thead th {\n",
       "        text-align: right;\n",
       "    }\n",
       "</style>\n",
       "<table border=\"1\" class=\"dataframe\">\n",
       "  <thead>\n",
       "    <tr style=\"text-align: right;\">\n",
       "      <th></th>\n",
       "      <th>Customer_ID</th>\n",
       "      <th>Age_Group</th>\n",
       "      <th>Income_Level</th>\n",
       "      <th>City_ID</th>\n",
       "      <th>Preferred_Flavor</th>\n",
       "      <th>Purchase_Frequency</th>\n",
       "      <th>Price_Sensitivity</th>\n",
       "      <th>Preferred_Channel</th>\n",
       "      <th>Active</th>\n",
       "    </tr>\n",
       "  </thead>\n",
       "  <tbody>\n",
       "    <tr>\n",
       "      <th>0</th>\n",
       "      <td>cust_000001</td>\n",
       "      <td>26-35</td>\n",
       "      <td>362798.681598</td>\n",
       "      <td>CT015</td>\n",
       "      <td>Guava</td>\n",
       "      <td>2.0</td>\n",
       "      <td>Medium</td>\n",
       "      <td>E-commerce</td>\n",
       "      <td>1</td>\n",
       "    </tr>\n",
       "    <tr>\n",
       "      <th>1</th>\n",
       "      <td>cust_000002</td>\n",
       "      <td>36-45</td>\n",
       "      <td>402562.344090</td>\n",
       "      <td>CT002</td>\n",
       "      <td>Orange</td>\n",
       "      <td>3.0</td>\n",
       "      <td>Low</td>\n",
       "      <td>General Trade</td>\n",
       "      <td>1</td>\n",
       "    </tr>\n",
       "    <tr>\n",
       "      <th>2</th>\n",
       "      <td>cust_000003</td>\n",
       "      <td>46-55</td>\n",
       "      <td>373492.509082</td>\n",
       "      <td>CT011</td>\n",
       "      <td>Orange</td>\n",
       "      <td>3.0</td>\n",
       "      <td>Medium</td>\n",
       "      <td>Modern Trade</td>\n",
       "      <td>1</td>\n",
       "    </tr>\n",
       "    <tr>\n",
       "      <th>3</th>\n",
       "      <td>cust_000004</td>\n",
       "      <td>18-25</td>\n",
       "      <td>442767.523488</td>\n",
       "      <td>CT017</td>\n",
       "      <td>Mixed Fruit</td>\n",
       "      <td>2.0</td>\n",
       "      <td>Low</td>\n",
       "      <td>Modern Trade</td>\n",
       "      <td>0</td>\n",
       "    </tr>\n",
       "    <tr>\n",
       "      <th>4</th>\n",
       "      <td>cust_000005</td>\n",
       "      <td>36-45</td>\n",
       "      <td>643181.570314</td>\n",
       "      <td>CT008</td>\n",
       "      <td>Guava</td>\n",
       "      <td>4.0</td>\n",
       "      <td>Medium</td>\n",
       "      <td>Modern Trade</td>\n",
       "      <td>0</td>\n",
       "    </tr>\n",
       "  </tbody>\n",
       "</table>\n",
       "</div>"
      ],
      "text/plain": [
       "   Customer_ID Age_Group   Income_Level City_ID Preferred_Flavor  \\\n",
       "0  cust_000001     26-35  362798.681598   CT015            Guava   \n",
       "1  cust_000002     36-45  402562.344090   CT002           Orange   \n",
       "2  cust_000003     46-55  373492.509082   CT011           Orange   \n",
       "3  cust_000004     18-25  442767.523488   CT017      Mixed Fruit   \n",
       "4  cust_000005     36-45  643181.570314   CT008            Guava   \n",
       "\n",
       "   Purchase_Frequency Price_Sensitivity Preferred_Channel  Active  \n",
       "0                 2.0            Medium        E-commerce       1  \n",
       "1                 3.0               Low     General Trade       1  \n",
       "2                 3.0            Medium      Modern Trade       1  \n",
       "3                 2.0               Low      Modern Trade       0  \n",
       "4                 4.0            Medium      Modern Trade       0  "
      ]
     },
     "execution_count": 24,
     "metadata": {},
     "output_type": "execute_result"
    }
   ],
   "source": [
    "\n",
    "import pandas as pd\n",
    "\n",
    "consumer_behaviour_df_processed = consumer_behaviour_df.copy()\n",
    "consumer_behaviour_df_processed['Purchase_Frequency'] = consumer_behaviour_df_processed['Purchase_Frequency'].fillna(consumer_behaviour_df_processed['Purchase_Frequency'].median())\n",
    "\n",
    "consumer_behaviour_df_processed['Preferred_Channel'] = consumer_behaviour_df_processed['Preferred_Channel'].replace('HoReca', 'HoReCa')\n",
    "\n",
    "consumer_behaviour_df_processed['Active'] = consumer_behaviour_df_processed['Active'].map({True: 1, False: 0})\n",
    "\n",
    "\n",
    "\n",
    "consumer_behaviour_df_processed.head()\n"
   ]
  },
  {
   "cell_type": "code",
   "execution_count": 25,
   "metadata": {},
   "outputs": [],
   "source": [
    "# save data\n",
    "consumer_behaviour_df_processed.to_csv('../../data/processed/consumer_behavior_processed.csv', index=False)"
   ]
  },
  {
   "cell_type": "markdown",
   "metadata": {},
   "source": [
    "### City"
   ]
  },
  {
   "cell_type": "code",
   "execution_count": 28,
   "metadata": {},
   "outputs": [
    {
     "data": {
      "text/html": [
       "<div>\n",
       "<style scoped>\n",
       "    .dataframe tbody tr th:only-of-type {\n",
       "        vertical-align: middle;\n",
       "    }\n",
       "\n",
       "    .dataframe tbody tr th {\n",
       "        vertical-align: top;\n",
       "    }\n",
       "\n",
       "    .dataframe thead th {\n",
       "        text-align: right;\n",
       "    }\n",
       "</style>\n",
       "<table border=\"1\" class=\"dataframe\">\n",
       "  <thead>\n",
       "    <tr style=\"text-align: right;\">\n",
       "      <th></th>\n",
       "      <th>City_ID</th>\n",
       "      <th>City_Name</th>\n",
       "      <th>City_tier</th>\n",
       "      <th>Population_Density(persons/km)</th>\n",
       "      <th>Per_Capita_Income (INR)</th>\n",
       "    </tr>\n",
       "  </thead>\n",
       "  <tbody>\n",
       "    <tr>\n",
       "      <th>0</th>\n",
       "      <td>CT001</td>\n",
       "      <td>Delhi</td>\n",
       "      <td>Tier 1</td>\n",
       "      <td>14893</td>\n",
       "      <td>461910</td>\n",
       "    </tr>\n",
       "    <tr>\n",
       "      <th>1</th>\n",
       "      <td>CT002</td>\n",
       "      <td>Mumbai</td>\n",
       "      <td>Tier 1</td>\n",
       "      <td>20518</td>\n",
       "      <td>400000</td>\n",
       "    </tr>\n",
       "    <tr>\n",
       "      <th>2</th>\n",
       "      <td>CT003</td>\n",
       "      <td>Kolkata</td>\n",
       "      <td>Tier 1</td>\n",
       "      <td>24252</td>\n",
       "      <td>171184</td>\n",
       "    </tr>\n",
       "    <tr>\n",
       "      <th>3</th>\n",
       "      <td>CT004</td>\n",
       "      <td>Chennai</td>\n",
       "      <td>Tier 1</td>\n",
       "      <td>14456</td>\n",
       "      <td>585501</td>\n",
       "    </tr>\n",
       "    <tr>\n",
       "      <th>4</th>\n",
       "      <td>CT005</td>\n",
       "      <td>Bengaluru</td>\n",
       "      <td>Tier 1</td>\n",
       "      <td>4378</td>\n",
       "      <td>352000</td>\n",
       "    </tr>\n",
       "  </tbody>\n",
       "</table>\n",
       "</div>"
      ],
      "text/plain": [
       "  City_ID  City_Name City_tier  Population_Density(persons/km)  \\\n",
       "0   CT001      Delhi    Tier 1                           14893   \n",
       "1   CT002     Mumbai    Tier 1                           20518   \n",
       "2   CT003    Kolkata    Tier 1                           24252   \n",
       "3   CT004    Chennai    Tier 1                           14456   \n",
       "4   CT005  Bengaluru    Tier 1                            4378   \n",
       "\n",
       "   Per_Capita_Income (INR)  \n",
       "0                   461910  \n",
       "1                   400000  \n",
       "2                   171184  \n",
       "3                   585501  \n",
       "4                   352000  "
      ]
     },
     "execution_count": 28,
     "metadata": {},
     "output_type": "execute_result"
    }
   ],
   "source": [
    "\n",
    "import pandas as pd\n",
    "\n",
    "city_df_processed = city_df.copy()\n",
    "\n",
    "city_df_processed = city_df_processed.dropna(axis=1, how='all')\n",
    "city_df_processed['City_Name'] = city_df_processed['City_Name'].astype('category')\n",
    "\n",
    "city_df_processed['Per_Capita_Income (INR)'] = city_df_processed['Per_Capita_Income (INR)'].astype(str).str.replace(',', '')\n",
    "city_df_processed['Per_Capita_Income (INR)'] = pd.to_numeric(city_df_processed['Per_Capita_Income (INR)'], errors='coerce')\n",
    "\n",
    "city_df_processed.head()\n",
    "\n"
   ]
  },
  {
   "cell_type": "code",
   "execution_count": 29,
   "metadata": {},
   "outputs": [],
   "source": [
    "# save data\n",
    "city_df_processed.to_csv('../../data/processed/city_processed.csv', index=False)"
   ]
  },
  {
   "cell_type": "markdown",
   "metadata": {},
   "source": [
    "## Generating reports of processed data"
   ]
  },
  {
   "cell_type": "code",
   "execution_count": 32,
   "metadata": {},
   "outputs": [
    {
     "data": {
      "application/vnd.jupyter.widget-view+json": {
       "model_id": "aada013f61c44cd1a8669d7810f8ff99",
       "version_major": 2,
       "version_minor": 0
      },
      "text/plain": [
       "Summarize dataset:   0%|          | 0/5 [00:00<?, ?it/s]"
      ]
     },
     "metadata": {},
     "output_type": "display_data"
    },
    {
     "data": {
      "application/vnd.jupyter.widget-view+json": {
       "model_id": "55c78617aa534307b85d2d9a896361b3",
       "version_major": 2,
       "version_minor": 0
      },
      "text/plain": [
       "Generate report structure:   0%|          | 0/1 [00:00<?, ?it/s]"
      ]
     },
     "metadata": {},
     "output_type": "display_data"
    },
    {
     "data": {
      "application/vnd.jupyter.widget-view+json": {
       "model_id": "436815f6ef0b41dea995b23ead06ccfa",
       "version_major": 2,
       "version_minor": 0
      },
      "text/plain": [
       "Render HTML:   0%|          | 0/1 [00:00<?, ?it/s]"
      ]
     },
     "metadata": {},
     "output_type": "display_data"
    },
    {
     "data": {
      "application/vnd.jupyter.widget-view+json": {
       "model_id": "befe1400555545c5bc1a02f4cf33055e",
       "version_major": 2,
       "version_minor": 0
      },
      "text/plain": [
       "Export report to file:   0%|          | 0/1 [00:00<?, ?it/s]"
      ]
     },
     "metadata": {},
     "output_type": "display_data"
    },
    {
     "data": {
      "application/vnd.jupyter.widget-view+json": {
       "model_id": "3e3642e74a5e4015a9cbb39a3917512f",
       "version_major": 2,
       "version_minor": 0
      },
      "text/plain": [
       "Summarize dataset:   0%|          | 0/5 [00:00<?, ?it/s]"
      ]
     },
     "metadata": {},
     "output_type": "display_data"
    },
    {
     "data": {
      "application/vnd.jupyter.widget-view+json": {
       "model_id": "19972d3a81ec46b9a64818474fec63d9",
       "version_major": 2,
       "version_minor": 0
      },
      "text/plain": [
       "Generate report structure:   0%|          | 0/1 [00:00<?, ?it/s]"
      ]
     },
     "metadata": {},
     "output_type": "display_data"
    },
    {
     "data": {
      "application/vnd.jupyter.widget-view+json": {
       "model_id": "00fcb70dd4f24ee88fd930e1db8b920b",
       "version_major": 2,
       "version_minor": 0
      },
      "text/plain": [
       "Render HTML:   0%|          | 0/1 [00:00<?, ?it/s]"
      ]
     },
     "metadata": {},
     "output_type": "display_data"
    },
    {
     "data": {
      "application/vnd.jupyter.widget-view+json": {
       "model_id": "6a7eebbc3283411297ac677277aab3ef",
       "version_major": 2,
       "version_minor": 0
      },
      "text/plain": [
       "Export report to file:   0%|          | 0/1 [00:00<?, ?it/s]"
      ]
     },
     "metadata": {},
     "output_type": "display_data"
    },
    {
     "data": {
      "application/vnd.jupyter.widget-view+json": {
       "model_id": "60fd7c6ae77b424097718cad65a7c404",
       "version_major": 2,
       "version_minor": 0
      },
      "text/plain": [
       "Summarize dataset:   0%|          | 0/5 [00:00<?, ?it/s]"
      ]
     },
     "metadata": {},
     "output_type": "display_data"
    },
    {
     "data": {
      "application/vnd.jupyter.widget-view+json": {
       "model_id": "013a59d141574853bd1aa7a5ef4cac1a",
       "version_major": 2,
       "version_minor": 0
      },
      "text/plain": [
       "Generate report structure:   0%|          | 0/1 [00:00<?, ?it/s]"
      ]
     },
     "metadata": {},
     "output_type": "display_data"
    },
    {
     "data": {
      "application/vnd.jupyter.widget-view+json": {
       "model_id": "3351d113af5140118f7edbdb6b101f88",
       "version_major": 2,
       "version_minor": 0
      },
      "text/plain": [
       "Render HTML:   0%|          | 0/1 [00:00<?, ?it/s]"
      ]
     },
     "metadata": {},
     "output_type": "display_data"
    },
    {
     "data": {
      "application/vnd.jupyter.widget-view+json": {
       "model_id": "dafeb9d7a46c4d0ba44584377cb5c749",
       "version_major": 2,
       "version_minor": 0
      },
      "text/plain": [
       "Export report to file:   0%|          | 0/1 [00:00<?, ?it/s]"
      ]
     },
     "metadata": {},
     "output_type": "display_data"
    },
    {
     "data": {
      "application/vnd.jupyter.widget-view+json": {
       "model_id": "be441a16315d4be9a78efc01e43d368e",
       "version_major": 2,
       "version_minor": 0
      },
      "text/plain": [
       "Summarize dataset:   0%|          | 0/5 [00:00<?, ?it/s]"
      ]
     },
     "metadata": {},
     "output_type": "display_data"
    },
    {
     "data": {
      "application/vnd.jupyter.widget-view+json": {
       "model_id": "5db6000fa971468ab6f71a4b3a2baf44",
       "version_major": 2,
       "version_minor": 0
      },
      "text/plain": [
       "Generate report structure:   0%|          | 0/1 [00:00<?, ?it/s]"
      ]
     },
     "metadata": {},
     "output_type": "display_data"
    },
    {
     "data": {
      "application/vnd.jupyter.widget-view+json": {
       "model_id": "0e904dd11d30480aa4ec503901e664f0",
       "version_major": 2,
       "version_minor": 0
      },
      "text/plain": [
       "Render HTML:   0%|          | 0/1 [00:00<?, ?it/s]"
      ]
     },
     "metadata": {},
     "output_type": "display_data"
    },
    {
     "data": {
      "application/vnd.jupyter.widget-view+json": {
       "model_id": "23dd721f8a274d3fb2216b7d57757076",
       "version_major": 2,
       "version_minor": 0
      },
      "text/plain": [
       "Export report to file:   0%|          | 0/1 [00:00<?, ?it/s]"
      ]
     },
     "metadata": {},
     "output_type": "display_data"
    },
    {
     "data": {
      "application/vnd.jupyter.widget-view+json": {
       "model_id": "73c89aa782054e26ab517e7b4c3db7ea",
       "version_major": 2,
       "version_minor": 0
      },
      "text/plain": [
       "Summarize dataset:   0%|          | 0/5 [00:00<?, ?it/s]"
      ]
     },
     "metadata": {},
     "output_type": "display_data"
    },
    {
     "data": {
      "application/vnd.jupyter.widget-view+json": {
       "model_id": "c5fd065963844f51bdc1380767495201",
       "version_major": 2,
       "version_minor": 0
      },
      "text/plain": [
       "Generate report structure:   0%|          | 0/1 [00:00<?, ?it/s]"
      ]
     },
     "metadata": {},
     "output_type": "display_data"
    },
    {
     "data": {
      "application/vnd.jupyter.widget-view+json": {
       "model_id": "a013562c7b9544c1ba08ffd2693f359b",
       "version_major": 2,
       "version_minor": 0
      },
      "text/plain": [
       "Render HTML:   0%|          | 0/1 [00:00<?, ?it/s]"
      ]
     },
     "metadata": {},
     "output_type": "display_data"
    },
    {
     "data": {
      "application/vnd.jupyter.widget-view+json": {
       "model_id": "829621279b514936911aacc9c7e36cfe",
       "version_major": 2,
       "version_minor": 0
      },
      "text/plain": [
       "Export report to file:   0%|          | 0/1 [00:00<?, ?it/s]"
      ]
     },
     "metadata": {},
     "output_type": "display_data"
    },
    {
     "data": {
      "application/vnd.jupyter.widget-view+json": {
       "model_id": "3cc97fea69e6418ab45eba10be521f22",
       "version_major": 2,
       "version_minor": 0
      },
      "text/plain": [
       "Summarize dataset:   0%|          | 0/5 [00:00<?, ?it/s]"
      ]
     },
     "metadata": {},
     "output_type": "display_data"
    },
    {
     "data": {
      "application/vnd.jupyter.widget-view+json": {
       "model_id": "c404b16e256a42afbbdef085092940e8",
       "version_major": 2,
       "version_minor": 0
      },
      "text/plain": [
       "Generate report structure:   0%|          | 0/1 [00:00<?, ?it/s]"
      ]
     },
     "metadata": {},
     "output_type": "display_data"
    },
    {
     "data": {
      "application/vnd.jupyter.widget-view+json": {
       "model_id": "ec70a4bdcd364556be6b02701fa489da",
       "version_major": 2,
       "version_minor": 0
      },
      "text/plain": [
       "Render HTML:   0%|          | 0/1 [00:00<?, ?it/s]"
      ]
     },
     "metadata": {},
     "output_type": "display_data"
    },
    {
     "data": {
      "application/vnd.jupyter.widget-view+json": {
       "model_id": "a41d0650150f4e3fa077e9c0082f7ecb",
       "version_major": 2,
       "version_minor": 0
      },
      "text/plain": [
       "Export report to file:   0%|          | 0/1 [00:00<?, ?it/s]"
      ]
     },
     "metadata": {},
     "output_type": "display_data"
    }
   ],
   "source": [
    "# READ CITY, COMPETITOR, CONSUMER BEHAVIOR, MARKET INFLUENCE, PRODUCTS AND SALES DATA FROM PROCESSED FOLDER AND CREATE Y DATA PROFILING REPORTS AND SAVE THEM IN EDA/PROCESSED FOLDER\n",
    "import pandas as pd\n",
    "from ydata_profiling import ProfileReport\n",
    "\n",
    "city_df = pd.read_csv('../../data/processed/city_processed.csv')\n",
    "competitors_df = pd.read_csv('../../data/processed/competitors_processed.csv')\n",
    "consumer_behaviour_df = pd.read_csv('../../data/processed/consumer_behavior_processed.csv')\n",
    "market_influencers_df = pd.read_csv('../../data/processed/market_influencers_processed.csv')\n",
    "products_df = pd.read_csv('../../data/processed/products_processed.csv')\n",
    "sales_df = pd.read_csv('../../data/processed/sales_processed.csv')\n",
    "\n",
    "\n",
    "sales_data_profile = ProfileReport(sales_df, title='Sales Data Profiling Report', explorative=True)\n",
    "\n",
    "sales_data_profile.to_file('../../eda/reports/processed/sales_data_profile.html')\n",
    "\n",
    "competitors_data_profile = ProfileReport(competitors_df, title='competitors_Data Profiling Report', explorative=True)\n",
    "\n",
    "competitors_data_profile.to_file('../../eda/reports/processed/competitors_data_profile.html')\n",
    "\n",
    "products_data_profile = ProfileReport(products_df, title='Products Data Profiling Report', explorative=True)\n",
    "\n",
    "products_data_profile.to_file('../../eda/reports/processed/products_data_profile.html')\n",
    "\n",
    "external_market_influence_data_profile = ProfileReport(market_influencers_df, title='External Market Influence Data Profiling Report', explorative=True)\n",
    "\n",
    "external_market_influence_data_profile.to_file('../../eda/reports/processed/external_market_influence_data_profile.html')\n",
    "\n",
    "customer_behavior_data_profile = ProfileReport(consumer_behaviour_df, title='Customer Behavior Data Profiling Report', explorative=True)\n",
    "\n",
    "customer_behavior_data_profile.to_file('../../eda/reports/processed/customer_behavior_data_profile.html')\n",
    "\n",
    "city_data_profile = ProfileReport(city_df, title='City Data Profiling Report', explorative=True)\n",
    "\n",
    "city_data_profile.to_file('../../eda/reports/processed/city_data_profile.html')\n",
    "\n"
   ]
  },
  {
   "cell_type": "code",
   "execution_count": null,
   "metadata": {},
   "outputs": [],
   "source": []
  }
 ],
 "metadata": {
  "kernelspec": {
   "display_name": ".venv",
   "language": "python",
   "name": "python3"
  },
  "language_info": {
   "codemirror_mode": {
    "name": "ipython",
    "version": 3
   },
   "file_extension": ".py",
   "mimetype": "text/x-python",
   "name": "python",
   "nbconvert_exporter": "python",
   "pygments_lexer": "ipython3",
   "version": "3.10.16"
  }
 },
 "nbformat": 4,
 "nbformat_minor": 2
}
